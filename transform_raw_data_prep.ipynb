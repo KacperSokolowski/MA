{
 "cells": [
  {
   "cell_type": "code",
   "execution_count": 2,
   "id": "16f5ab40-84f9-405c-858c-d791bcfd975e",
   "metadata": {
    "tags": []
   },
   "outputs": [],
   "source": [
    "import pandas as pd\n",
    "import numpy as np\n",
    "import os\n",
    "import re\n",
    "import haversine as hs\n",
    "import spacy\n",
    "import morfeusz2\n",
    "import selenium\n",
    "from selenium import webdriver\n",
    "from selenium.webdriver.common.by import By\n",
    "from time import sleep\n",
    "pd.set_option('display.max_columns', 500)\n",
    "pd.set_option('display.max_rows', 500)"
   ]
  },
  {
   "cell_type": "code",
   "execution_count": 3,
   "id": "59e671e1-8774-4323-8844-03858ecfa06e",
   "metadata": {
    "tags": []
   },
   "outputs": [],
   "source": [
    "path = f'data_processed/main.csv'\n",
    "df = pd.read_csv(path)"
   ]
  },
  {
   "cell_type": "code",
   "execution_count": 4,
   "id": "2d51af75-c2c3-453e-84c1-c12ed6373f55",
   "metadata": {
    "tags": []
   },
   "outputs": [
    {
     "data": {
      "text/html": [
       "<div>\n",
       "<style scoped>\n",
       "    .dataframe tbody tr th:only-of-type {\n",
       "        vertical-align: middle;\n",
       "    }\n",
       "\n",
       "    .dataframe tbody tr th {\n",
       "        vertical-align: top;\n",
       "    }\n",
       "\n",
       "    .dataframe thead th {\n",
       "        text-align: right;\n",
       "    }\n",
       "</style>\n",
       "<table border=\"1\" class=\"dataframe\">\n",
       "  <thead>\n",
       "    <tr style=\"text-align: right;\">\n",
       "      <th></th>\n",
       "      <th>added_dt</th>\n",
       "      <th>last_update</th>\n",
       "      <th>link</th>\n",
       "      <th>expired</th>\n",
       "      <th>expired_date</th>\n",
       "      <th>title</th>\n",
       "      <th>rent_price</th>\n",
       "      <th>area_room_num</th>\n",
       "      <th>floor</th>\n",
       "      <th>ogrzewanie</th>\n",
       "      <th>flat_condition</th>\n",
       "      <th>available_from</th>\n",
       "      <th>deposit</th>\n",
       "      <th>advertiser_type</th>\n",
       "      <th>additional_information</th>\n",
       "      <th>location</th>\n",
       "      <th>latitude</th>\n",
       "      <th>longitude</th>\n",
       "      <th>approximate_coordinates</th>\n",
       "      <th>year_of_construction</th>\n",
       "      <th>elevator</th>\n",
       "      <th>building_type</th>\n",
       "      <th>security</th>\n",
       "      <th>equipment</th>\n",
       "      <th>utilities</th>\n",
       "      <th>safeguards</th>\n",
       "      <th>adv_description</th>\n",
       "      <th>district</th>\n",
       "    </tr>\n",
       "  </thead>\n",
       "  <tbody>\n",
       "    <tr>\n",
       "      <th>0</th>\n",
       "      <td>22.12.2024</td>\n",
       "      <td>22.12.2024</td>\n",
       "      <td>https://www.otodom.pl/pl/oferta/piekne-mieszka...</td>\n",
       "      <td>1</td>\n",
       "      <td>2025_01_04</td>\n",
       "      <td>Piękne mieszkanie na warszawskich Skoroszach</td>\n",
       "      <td>3 000 zł\\n/miesiąc\\n+ Czynsz 600 zł</td>\n",
       "      <td>45m²\\nWynajmę również studentom\\n2 pokoje</td>\n",
       "      <td>3/6</td>\n",
       "      <td>inne</td>\n",
       "      <td>do zamieszkania</td>\n",
       "      <td>NaN</td>\n",
       "      <td>3 000 zł</td>\n",
       "      <td>prywatny</td>\n",
       "      <td>balkon\\ngaraż/miejsce parkingowe</td>\n",
       "      <td>ul. Skoroszewska, Skorosze, Ursus, Warszawa, m...</td>\n",
       "      <td>52.189750</td>\n",
       "      <td>20.899275</td>\n",
       "      <td>False</td>\n",
       "      <td>2013.0</td>\n",
       "      <td>tak</td>\n",
       "      <td>apartamentowiec</td>\n",
       "      <td>teren zamknięty\\nmonitoring / ochrona</td>\n",
       "      <td>zmywarka\\nlodówka\\nmeble\\npiekarnik\\nkuchenka\\...</td>\n",
       "      <td>NaN</td>\n",
       "      <td>drzwi / okna antywłamaniowe\\ndomofon / wideofon</td>\n",
       "      <td>Wynajmę mieszkanie 45 metrów na warszawskim Ur...</td>\n",
       "      <td>Ursus</td>\n",
       "    </tr>\n",
       "    <tr>\n",
       "      <th>1</th>\n",
       "      <td>15.12.2024</td>\n",
       "      <td>21.12.2024</td>\n",
       "      <td>https://www.otodom.pl/pl/oferta/zarezerwowane-...</td>\n",
       "      <td>1</td>\n",
       "      <td>2025_01_08</td>\n",
       "      <td>[ZAREZERWOWANE] przy Metrze Daszyńskiego</td>\n",
       "      <td>3 950 zł\\n/miesiąc\\n+ Czynsz 690 zł</td>\n",
       "      <td>42m²\\n2 pokoje</td>\n",
       "      <td>2/8</td>\n",
       "      <td>miejskie</td>\n",
       "      <td>do zamieszkania</td>\n",
       "      <td>NaN</td>\n",
       "      <td>8 000 zł</td>\n",
       "      <td>prywatny</td>\n",
       "      <td>balkon\\ngaraż/miejsce parkingowe</td>\n",
       "      <td>ul. Karolkowa, Czyste, Wola, Warszawa, mazowie...</td>\n",
       "      <td>52.226621</td>\n",
       "      <td>20.978226</td>\n",
       "      <td>False</td>\n",
       "      <td>2020.0</td>\n",
       "      <td>tak</td>\n",
       "      <td>apartamentowiec</td>\n",
       "      <td>teren zamknięty\\nmonitoring / ochrona</td>\n",
       "      <td>zmywarka\\nlodówka\\nmeble\\npiekarnik\\nkuchenka\\...</td>\n",
       "      <td>internet</td>\n",
       "      <td>drzwi / okna antywłamaniowe\\ndomofon / wideofon</td>\n",
       "      <td>English version below.\\n\\nMIESZKANIE\\nNowoczes...</td>\n",
       "      <td>Wola</td>\n",
       "    </tr>\n",
       "    <tr>\n",
       "      <th>2</th>\n",
       "      <td>18.12.2024</td>\n",
       "      <td>18.12.2024</td>\n",
       "      <td>https://www.otodom.pl/pl/oferta/nowe-2-pokojow...</td>\n",
       "      <td>1</td>\n",
       "      <td>2025_01_02</td>\n",
       "      <td>Nowe 2-pokojowe wysoki standard| Saska Kępa|Garaż</td>\n",
       "      <td>4 700 zł\\n/miesiąc\\n+ Czynsz 750 zł</td>\n",
       "      <td>45m²\\n2 pokoje\\ntylko dla niepalących</td>\n",
       "      <td>2/4</td>\n",
       "      <td>miejskie</td>\n",
       "      <td>do zamieszkania</td>\n",
       "      <td>NaN</td>\n",
       "      <td>NaN</td>\n",
       "      <td>prywatny</td>\n",
       "      <td>balkon\\ngaraż/miejsce parkingowe\\ntylko dla ni...</td>\n",
       "      <td>Osiedle Lizbońska, Saska Kępa, Praga-Południe,...</td>\n",
       "      <td>52.228044</td>\n",
       "      <td>21.063960</td>\n",
       "      <td>False</td>\n",
       "      <td>2024.0</td>\n",
       "      <td>tak</td>\n",
       "      <td>apartamentowiec</td>\n",
       "      <td>monitoring / ochrona</td>\n",
       "      <td>zmywarka\\nlodówka\\nmeble\\npiekarnik\\nkuchenka\\...</td>\n",
       "      <td>NaN</td>\n",
       "      <td>domofon / wideofon</td>\n",
       "      <td>Do wynajęcia NOWE 2-pokojowe mieszkanie o powi...</td>\n",
       "      <td>Praga-Południe</td>\n",
       "    </tr>\n",
       "    <tr>\n",
       "      <th>3</th>\n",
       "      <td>14.12.2023</td>\n",
       "      <td>22.12.2024</td>\n",
       "      <td>https://www.otodom.pl/pl/oferta/3-pok-70m2-pow...</td>\n",
       "      <td>1</td>\n",
       "      <td>2025_01_09</td>\n",
       "      <td>3 pok, 70m2, Powstańców Śl. Metro Bemowo, Garaż</td>\n",
       "      <td>4 200 zł\\n/miesiąc\\n+ Czynsz 911 zł</td>\n",
       "      <td>70m²\\n3 pokoje\\ntylko dla niepalących</td>\n",
       "      <td>3/7</td>\n",
       "      <td>miejskie</td>\n",
       "      <td>do zamieszkania</td>\n",
       "      <td>NaN</td>\n",
       "      <td>6 500 zł</td>\n",
       "      <td>prywatny</td>\n",
       "      <td>balkon\\ntaras\\ngaraż/miejsce parkingowe\\npiwni...</td>\n",
       "      <td>ul. Powstańców Śląskich 89c, Ewen Shiraz, Górc...</td>\n",
       "      <td>52.243598</td>\n",
       "      <td>20.910004</td>\n",
       "      <td>False</td>\n",
       "      <td>2008.0</td>\n",
       "      <td>tak</td>\n",
       "      <td>apartamentowiec</td>\n",
       "      <td>teren zamknięty\\nmonitoring / ochrona</td>\n",
       "      <td>zmywarka\\nlodówka\\nmeble\\npiekarnik\\nkuchenka\\...</td>\n",
       "      <td>NaN</td>\n",
       "      <td>domofon / wideofon</td>\n",
       "      <td>BEZPOŚREDNIO OD WŁAŚCICIELA - dostępne - Najem...</td>\n",
       "      <td>Bemowo</td>\n",
       "    </tr>\n",
       "    <tr>\n",
       "      <th>4</th>\n",
       "      <td>4.12.2024</td>\n",
       "      <td>22.12.2024</td>\n",
       "      <td>https://www.otodom.pl/pl/oferta/ostoja-wilanow...</td>\n",
       "      <td>0</td>\n",
       "      <td>NaN</td>\n",
       "      <td>Ostoja Wilanów, 3 pokoje, 2 miejsca post. w ce...</td>\n",
       "      <td>7 300 zł\\n/miesiąc\\n+ Czynsz 1 040 zł</td>\n",
       "      <td>73m²\\n3 pokoje</td>\n",
       "      <td>2/4</td>\n",
       "      <td>miejskie</td>\n",
       "      <td>do zamieszkania</td>\n",
       "      <td>NaN</td>\n",
       "      <td>10 000 zł</td>\n",
       "      <td>prywatny</td>\n",
       "      <td>balkon\\ntaras\\ngaraż/miejsce parkingowe</td>\n",
       "      <td>ul. Prymasa Augusta Hlonda, Błonia Wilanowskie...</td>\n",
       "      <td>52.158041</td>\n",
       "      <td>21.066512</td>\n",
       "      <td>False</td>\n",
       "      <td>2016.0</td>\n",
       "      <td>tak</td>\n",
       "      <td>apartamentowiec</td>\n",
       "      <td>monitoring / ochrona</td>\n",
       "      <td>zmywarka\\nlodówka\\nmeble\\npiekarnik\\nkuchenka\\...</td>\n",
       "      <td>NaN</td>\n",
       "      <td>drzwi / okna antywłamaniowe\\ndomofon / wideofon</td>\n",
       "      <td>Komfortowy apartament wykończony w wysokim sta...</td>\n",
       "      <td>Wilanów</td>\n",
       "    </tr>\n",
       "  </tbody>\n",
       "</table>\n",
       "</div>"
      ],
      "text/plain": [
       "     added_dt last_update                                               link  \\\n",
       "0  22.12.2024  22.12.2024  https://www.otodom.pl/pl/oferta/piekne-mieszka...   \n",
       "1  15.12.2024  21.12.2024  https://www.otodom.pl/pl/oferta/zarezerwowane-...   \n",
       "2  18.12.2024  18.12.2024  https://www.otodom.pl/pl/oferta/nowe-2-pokojow...   \n",
       "3  14.12.2023  22.12.2024  https://www.otodom.pl/pl/oferta/3-pok-70m2-pow...   \n",
       "4   4.12.2024  22.12.2024  https://www.otodom.pl/pl/oferta/ostoja-wilanow...   \n",
       "\n",
       "   expired expired_date                                              title  \\\n",
       "0        1   2025_01_04       Piękne mieszkanie na warszawskich Skoroszach   \n",
       "1        1   2025_01_08           [ZAREZERWOWANE] przy Metrze Daszyńskiego   \n",
       "2        1   2025_01_02  Nowe 2-pokojowe wysoki standard| Saska Kępa|Garaż   \n",
       "3        1   2025_01_09    3 pok, 70m2, Powstańców Śl. Metro Bemowo, Garaż   \n",
       "4        0          NaN  Ostoja Wilanów, 3 pokoje, 2 miejsca post. w ce...   \n",
       "\n",
       "                              rent_price  \\\n",
       "0    3 000 zł\\n/miesiąc\\n+ Czynsz 600 zł   \n",
       "1    3 950 zł\\n/miesiąc\\n+ Czynsz 690 zł   \n",
       "2    4 700 zł\\n/miesiąc\\n+ Czynsz 750 zł   \n",
       "3    4 200 zł\\n/miesiąc\\n+ Czynsz 911 zł   \n",
       "4  7 300 zł\\n/miesiąc\\n+ Czynsz 1 040 zł   \n",
       "\n",
       "                               area_room_num floor ogrzewanie  \\\n",
       "0  45m²\\nWynajmę również studentom\\n2 pokoje   3/6       inne   \n",
       "1                             42m²\\n2 pokoje   2/8   miejskie   \n",
       "2      45m²\\n2 pokoje\\ntylko dla niepalących   2/4   miejskie   \n",
       "3      70m²\\n3 pokoje\\ntylko dla niepalących   3/7   miejskie   \n",
       "4                             73m²\\n3 pokoje   2/4   miejskie   \n",
       "\n",
       "    flat_condition available_from    deposit advertiser_type  \\\n",
       "0  do zamieszkania            NaN   3 000 zł        prywatny   \n",
       "1  do zamieszkania            NaN   8 000 zł        prywatny   \n",
       "2  do zamieszkania            NaN        NaN        prywatny   \n",
       "3  do zamieszkania            NaN   6 500 zł        prywatny   \n",
       "4  do zamieszkania            NaN  10 000 zł        prywatny   \n",
       "\n",
       "                              additional_information  \\\n",
       "0                   balkon\\ngaraż/miejsce parkingowe   \n",
       "1                   balkon\\ngaraż/miejsce parkingowe   \n",
       "2  balkon\\ngaraż/miejsce parkingowe\\ntylko dla ni...   \n",
       "3  balkon\\ntaras\\ngaraż/miejsce parkingowe\\npiwni...   \n",
       "4            balkon\\ntaras\\ngaraż/miejsce parkingowe   \n",
       "\n",
       "                                            location   latitude  longitude  \\\n",
       "0  ul. Skoroszewska, Skorosze, Ursus, Warszawa, m...  52.189750  20.899275   \n",
       "1  ul. Karolkowa, Czyste, Wola, Warszawa, mazowie...  52.226621  20.978226   \n",
       "2  Osiedle Lizbońska, Saska Kępa, Praga-Południe,...  52.228044  21.063960   \n",
       "3  ul. Powstańców Śląskich 89c, Ewen Shiraz, Górc...  52.243598  20.910004   \n",
       "4  ul. Prymasa Augusta Hlonda, Błonia Wilanowskie...  52.158041  21.066512   \n",
       "\n",
       "   approximate_coordinates  year_of_construction elevator    building_type  \\\n",
       "0                    False                2013.0      tak  apartamentowiec   \n",
       "1                    False                2020.0      tak  apartamentowiec   \n",
       "2                    False                2024.0      tak  apartamentowiec   \n",
       "3                    False                2008.0      tak  apartamentowiec   \n",
       "4                    False                2016.0      tak  apartamentowiec   \n",
       "\n",
       "                                security  \\\n",
       "0  teren zamknięty\\nmonitoring / ochrona   \n",
       "1  teren zamknięty\\nmonitoring / ochrona   \n",
       "2                   monitoring / ochrona   \n",
       "3  teren zamknięty\\nmonitoring / ochrona   \n",
       "4                   monitoring / ochrona   \n",
       "\n",
       "                                           equipment utilities  \\\n",
       "0  zmywarka\\nlodówka\\nmeble\\npiekarnik\\nkuchenka\\...       NaN   \n",
       "1  zmywarka\\nlodówka\\nmeble\\npiekarnik\\nkuchenka\\...  internet   \n",
       "2  zmywarka\\nlodówka\\nmeble\\npiekarnik\\nkuchenka\\...       NaN   \n",
       "3  zmywarka\\nlodówka\\nmeble\\npiekarnik\\nkuchenka\\...       NaN   \n",
       "4  zmywarka\\nlodówka\\nmeble\\npiekarnik\\nkuchenka\\...       NaN   \n",
       "\n",
       "                                        safeguards  \\\n",
       "0  drzwi / okna antywłamaniowe\\ndomofon / wideofon   \n",
       "1  drzwi / okna antywłamaniowe\\ndomofon / wideofon   \n",
       "2                               domofon / wideofon   \n",
       "3                               domofon / wideofon   \n",
       "4  drzwi / okna antywłamaniowe\\ndomofon / wideofon   \n",
       "\n",
       "                                     adv_description        district  \n",
       "0  Wynajmę mieszkanie 45 metrów na warszawskim Ur...           Ursus  \n",
       "1  English version below.\\n\\nMIESZKANIE\\nNowoczes...            Wola  \n",
       "2  Do wynajęcia NOWE 2-pokojowe mieszkanie o powi...  Praga-Południe  \n",
       "3  BEZPOŚREDNIO OD WŁAŚCICIELA - dostępne - Najem...          Bemowo  \n",
       "4  Komfortowy apartament wykończony w wysokim sta...         Wilanów  "
      ]
     },
     "execution_count": 4,
     "metadata": {},
     "output_type": "execute_result"
    }
   ],
   "source": [
    "df.head(5)"
   ]
  },
  {
   "cell_type": "code",
   "execution_count": 5,
   "id": "fd0d23c1-5171-4aaf-be6b-874fcf247cd6",
   "metadata": {
    "tags": []
   },
   "outputs": [
    {
     "data": {
      "text/html": [
       "<div>\n",
       "<style scoped>\n",
       "    .dataframe tbody tr th:only-of-type {\n",
       "        vertical-align: middle;\n",
       "    }\n",
       "\n",
       "    .dataframe tbody tr th {\n",
       "        vertical-align: top;\n",
       "    }\n",
       "\n",
       "    .dataframe thead th {\n",
       "        text-align: right;\n",
       "    }\n",
       "</style>\n",
       "<table border=\"1\" class=\"dataframe\">\n",
       "  <thead>\n",
       "    <tr style=\"text-align: right;\">\n",
       "      <th></th>\n",
       "      <th>added_dt</th>\n",
       "      <th>last_update</th>\n",
       "      <th>link</th>\n",
       "      <th>expired</th>\n",
       "      <th>expired_date</th>\n",
       "      <th>title</th>\n",
       "      <th>rent_price</th>\n",
       "      <th>area_room_num</th>\n",
       "      <th>floor</th>\n",
       "      <th>ogrzewanie</th>\n",
       "      <th>flat_condition</th>\n",
       "      <th>available_from</th>\n",
       "      <th>deposit</th>\n",
       "      <th>advertiser_type</th>\n",
       "      <th>additional_information</th>\n",
       "      <th>location</th>\n",
       "      <th>latitude</th>\n",
       "      <th>longitude</th>\n",
       "      <th>approximate_coordinates</th>\n",
       "      <th>year_of_construction</th>\n",
       "      <th>elevator</th>\n",
       "      <th>building_type</th>\n",
       "      <th>security</th>\n",
       "      <th>equipment</th>\n",
       "      <th>utilities</th>\n",
       "      <th>safeguards</th>\n",
       "      <th>adv_description</th>\n",
       "      <th>district</th>\n",
       "    </tr>\n",
       "  </thead>\n",
       "  <tbody>\n",
       "    <tr>\n",
       "      <th>18285</th>\n",
       "      <td>2025_02_28</td>\n",
       "      <td>NaN</td>\n",
       "      <td>https://www.otodom.pl/pl/oferta/penthouse-mias...</td>\n",
       "      <td>0</td>\n",
       "      <td>NaN</td>\n",
       "      <td>penthouse | miasteczko wilanów | unikatowy taras</td>\n",
       "      <td>25 000 zł\\n/miesiąc</td>\n",
       "      <td>210m²\\n5 pokoi</td>\n",
       "      <td>4/4</td>\n",
       "      <td>miejskie</td>\n",
       "      <td>do zamieszkania</td>\n",
       "      <td>2025-03-03</td>\n",
       "      <td>50 000 zł</td>\n",
       "      <td>biuro nieruchomości</td>\n",
       "      <td>taras\\nbalkon\\ngaraż/miejsce parkingowe</td>\n",
       "      <td>ul. Franciszka Klimczaka, Błonia Wilanowskie, ...</td>\n",
       "      <td>52.162742</td>\n",
       "      <td>21.07485</td>\n",
       "      <td>False</td>\n",
       "      <td>2008.0</td>\n",
       "      <td>tak</td>\n",
       "      <td>loft</td>\n",
       "      <td>NaN</td>\n",
       "      <td>klimatyzacja</td>\n",
       "      <td>NaN</td>\n",
       "      <td>NaN</td>\n",
       "      <td>NIERUCHOMOŚĆ:\\n\\n\\n\\nBudynek przy ul. Klimczak...</td>\n",
       "      <td>Wilanów</td>\n",
       "    </tr>\n",
       "  </tbody>\n",
       "</table>\n",
       "</div>"
      ],
      "text/plain": [
       "         added_dt last_update  \\\n",
       "18285  2025_02_28         NaN   \n",
       "\n",
       "                                                    link  expired  \\\n",
       "18285  https://www.otodom.pl/pl/oferta/penthouse-mias...        0   \n",
       "\n",
       "      expired_date                                             title  \\\n",
       "18285          NaN  penthouse | miasteczko wilanów | unikatowy taras   \n",
       "\n",
       "                rent_price   area_room_num floor ogrzewanie   flat_condition  \\\n",
       "18285  25 000 zł\\n/miesiąc  210m²\\n5 pokoi   4/4   miejskie  do zamieszkania   \n",
       "\n",
       "      available_from    deposit      advertiser_type  \\\n",
       "18285     2025-03-03  50 000 zł  biuro nieruchomości   \n",
       "\n",
       "                        additional_information  \\\n",
       "18285  taras\\nbalkon\\ngaraż/miejsce parkingowe   \n",
       "\n",
       "                                                location   latitude  \\\n",
       "18285  ul. Franciszka Klimczaka, Błonia Wilanowskie, ...  52.162742   \n",
       "\n",
       "       longitude  approximate_coordinates  year_of_construction elevator  \\\n",
       "18285   21.07485                    False                2008.0      tak   \n",
       "\n",
       "      building_type security     equipment utilities safeguards  \\\n",
       "18285          loft      NaN  klimatyzacja       NaN        NaN   \n",
       "\n",
       "                                         adv_description district  \n",
       "18285  NIERUCHOMOŚĆ:\\n\\n\\n\\nBudynek przy ul. Klimczak...  Wilanów  "
      ]
     },
     "execution_count": 5,
     "metadata": {},
     "output_type": "execute_result"
    }
   ],
   "source": [
    "df.tail(1)"
   ]
  },
  {
   "cell_type": "code",
   "execution_count": 6,
   "id": "86fc2841-b643-477f-ae10-9d3fd8fa6b73",
   "metadata": {
    "tags": []
   },
   "outputs": [],
   "source": [
    "### To delete\n",
    "path = f'data_processed/main.csv'\n",
    "df = pd.read_csv(path)"
   ]
  },
  {
   "cell_type": "markdown",
   "id": "5db8cc38-b243-437a-adfb-b97daf2230cc",
   "metadata": {},
   "source": [
    "### Only expired announcements"
   ]
  },
  {
   "cell_type": "code",
   "execution_count": 8,
   "id": "310e7a59-e7dd-405f-bc05-d6b8d8ba9baf",
   "metadata": {
    "tags": []
   },
   "outputs": [],
   "source": [
    "df = df[df.expired.eq(1)]"
   ]
  },
  {
   "cell_type": "markdown",
   "id": "dc55dddd-38bc-43e2-92a6-d71218e5c6c1",
   "metadata": {},
   "source": [
    "### Convert dates, calculate duration between announcement appearance and expiration"
   ]
  },
  {
   "cell_type": "code",
   "execution_count": 10,
   "id": "aa2904d0-8a0e-42b8-b999-3ece5a7ea935",
   "metadata": {
    "tags": []
   },
   "outputs": [],
   "source": [
    "def convert_date(date_str):\n",
    "    try:\n",
    "        if '.' in date_str:  # Format 1: 'DD.MM.YYYY'\n",
    "            return pd.to_datetime(date_str, format='%d.%m.%Y')\n",
    "        elif '_' in date_str:  # Format 2: 'YYYY_MM_DD'\n",
    "            return pd.to_datetime(date_str, format='%Y_%m_%d')\n",
    "    except Exception:\n",
    "        return None\n",
    "    \n",
    "df['added_dt'] = df['added_dt'].apply(convert_date)\n",
    "df['expired_date'] = df['expired_date'].apply(convert_date)\n",
    "\n",
    "df['days_difference'] = (df['expired_date'] - df['added_dt']).dt.days"
   ]
  },
  {
   "cell_type": "code",
   "execution_count": 12,
   "id": "da339c1c-4504-4b2d-81de-4d6fe0078a18",
   "metadata": {
    "tags": []
   },
   "outputs": [],
   "source": [
    "import os    \n",
    "os.environ['KMP_DUPLICATE_LIB_OK'] = 'True'"
   ]
  },
  {
   "cell_type": "code",
   "execution_count": 16,
   "id": "d915f2b5-e4f0-4035-9a08-ef64c0a460a5",
   "metadata": {
    "tags": []
   },
   "outputs": [
    {
     "data": {
      "image/png": "[encoded data removed]",
      "text/plain": [
       "<Figure size 1000x600 with 1 Axes>"
      ]
     },
     "metadata": {},
     "output_type": "display_data"
    }
   ],
   "source": [
    "import matplotlib.pyplot as plt\n",
    "import pandas as pd\n",
    "\n",
    "df_filtered = df[df['days_difference'] <= 50]\n",
    "\n",
    "# Create bins from 0 to 50 with a bin width of 1\n",
    "bins = range(0, 52, 1)  # 0-51 ensures bins for values 0 to 50\n",
    "\n",
    "# Plot the histogram\n",
    "plt.figure(figsize=(10, 6))\n",
    "plt.hist(df_filtered['days_difference'], bins=bins, edgecolor='black')\n",
    "plt.xlabel('Days Difference')\n",
    "plt.ylabel('Frequency')\n",
    "plt.title('Distribution of Days Difference (values <= 50, bin width = 1)')\n",
    "plt.xticks(range(0, 51, 5))\n",
    "plt.show()"
   ]
  },
  {
   "cell_type": "code",
   "execution_count": null,
   "id": "0c51ec66-3f17-4ed1-918d-041852354104",
   "metadata": {
    "tags": []
   },
   "outputs": [],
   "source": [
    "df = df[df.days_difference.le(21)].copy()"
   ]
  },
  {
   "cell_type": "markdown",
   "id": "532139a0-d56c-4d9a-abff-e54ef0df20fe",
   "metadata": {},
   "source": [
    "### Extract rental information, exclude prices not in PLN"
   ]
  },
  {
   "cell_type": "code",
   "execution_count": 22,
   "id": "018c4d9e-950d-49a6-8cea-1d3c2121cc35",
   "metadata": {
    "tags": []
   },
   "outputs": [],
   "source": [
    "def extract_rent_info(text):\n",
    "    # Extract rent\n",
    "    rent_match = re.search(r'(\\d[\\d\\s]*)\\s*([A-Za-zł]+)', text)\n",
    "    rent = int(rent_match.group(1).replace(\" \", \"\")) if rent_match else None\n",
    "    rent_currency = rent_match.group(2) if rent_match else None\n",
    "\n",
    "    # Extract additional fees\n",
    "    fees_match = re.search(r'\\+ Czynsz (\\d[\\d\\s]*)\\s*([A-Za-zł]+)', text)\n",
    "    additional_fees = int(fees_match.group(1).replace(\" \", \"\")) if fees_match else 0\n",
    "    additional_fees_currency = fees_match.group(2) if fees_match else None\n",
    "\n",
    "    # Extract payment frequency\n",
    "    freq_match = re.search(r'/(\\w+)', text)\n",
    "    payment_frequency = freq_match.group(1) if freq_match else None\n",
    "\n",
    "    return pd.Series([rent, rent_currency, additional_fees, additional_fees_currency, payment_frequency])\n",
    "\n",
    "df[['rent', 'rent_currency', 'additional_fees', 'additional_fees_currency', 'payment_frequency']] = df['rent_price'].apply(extract_rent_info)"
   ]
  },
  {
   "cell_type": "code",
   "execution_count": 24,
   "id": "971bc014-1fe6-4d13-afa3-d58136d4bc4f",
   "metadata": {
    "tags": []
   },
   "outputs": [],
   "source": [
    "df = df[df.rent_currency.eq('zł')&\\\n",
    "        (df.additional_fees_currency.eq('zł')|df.additional_fees_currency.isna())].copy()"
   ]
  },
  {
   "cell_type": "markdown",
   "id": "14cc86c9-353b-410e-a0dc-8df23812c773",
   "metadata": {},
   "source": [
    "### Area, room_number, students_allowed, non_smoker_only"
   ]
  },
  {
   "cell_type": "code",
   "execution_count": 28,
   "id": "ef1fa318-6957-4d58-96d5-b7fb38a07855",
   "metadata": {
    "tags": []
   },
   "outputs": [],
   "source": [
    "def extract_area(text):\n",
    "    match = re.search(r'(\\d+(?:\\.\\d+)?)m²', text)\n",
    "    return float(match.group(1)) if match else None\n",
    "\n",
    "def extract_rooms(text):\n",
    "    match = re.search(r'(\\d+)\\s*pok', text)\n",
    "    return int(match.group(1)) if match else None\n",
    "\n",
    "df['area'] = df['area_room_num'].apply(extract_area)\n",
    "df['room_number'] = df['area_room_num'].apply(extract_rooms)\n",
    "df['students_allowed'] = df['area_room_num'].str.contains('Wynajmę również studentom').astype(int)\n",
    "df['non_smoker_only'] = df['area_room_num'].str.contains('tylko dla niepalących').astype(int)"
   ]
  },
  {
   "cell_type": "markdown",
   "id": "117e8fb9-550c-400c-be4a-d153129787ee",
   "metadata": {},
   "source": [
    "### Floor, building_height"
   ]
  },
  {
   "cell_type": "code",
   "execution_count": 33,
   "id": "f957b747-f457-4c24-acb1-4037fc78151d",
   "metadata": {
    "tags": []
   },
   "outputs": [],
   "source": [
    "def parse_floor_values(row: str) -> tuple:\n",
    "    \"\"\"\n",
    "    Parses a string containing floor information to extract the specific floor and the total number of floors in the building.\n",
    "\n",
    "    Parameters:\n",
    "    - row (str): The string from which to parse floor information. Can be NaN, a single number, a range in 'X/Y' format, \n",
    "                 or special formats like 'parter' or '>X'.\n",
    "\n",
    "    Returns:\n",
    "    - tuple: A tuple containing two elements:\n",
    "        1. floor (int or None): The specific floor number, or None if not determinable.\n",
    "        2. building_height (int or None): The total number of floors in the building, or None if not applicable.\n",
    "    \"\"\"\n",
    "    \n",
    "    if pd.isna(row):\n",
    "        return None, None\n",
    "    if '/' in row:\n",
    "        parts = row.split('/')\n",
    "        floor_part = parts[0].strip()\n",
    "        if floor_part.isdigit():\n",
    "            floor = int(floor_part)\n",
    "        elif floor_part == 'parter':\n",
    "            floor = 1\n",
    "        elif floor_part.startswith('>'):\n",
    "            floor = int(floor_part[1:].strip())\n",
    "        else:\n",
    "            floor = None\n",
    "\n",
    "        height_part = parts[1].strip()\n",
    "        if height_part.isdigit():\n",
    "            building_height = int(height_part)\n",
    "        else:\n",
    "            building_height = None\n",
    "    else:\n",
    "        floor = int(row) if row.isdigit() else None\n",
    "        building_height = None\n",
    "    \n",
    "    return floor, building_height\n",
    "\n",
    "df[['floor', 'building_height']] = df['floor'].apply(lambda x: pd.Series(parse_floor_values(x)))"
   ]
  },
  {
   "cell_type": "markdown",
   "id": "ea452115-1f8b-45ef-b79c-2a70418b2fa9",
   "metadata": {},
   "source": [
    "### for_renovation/flat_condition"
   ]
  },
  {
   "cell_type": "code",
   "execution_count": 36,
   "id": "f7f9a97c-4aaf-4c3b-8eb3-192f6d9eabe3",
   "metadata": {
    "tags": []
   },
   "outputs": [],
   "source": [
    "df['for_renovation'] = df['flat_condition'].apply(\n",
    "    lambda x: 0 if pd.isna(x) or x == 'do zamieszkania' else 1)"
   ]
  },
  {
   "cell_type": "markdown",
   "id": "6b30a1de-38b6-4f8b-9bb2-2af49216b36f",
   "metadata": {},
   "source": [
    "### heating"
   ]
  },
  {
   "cell_type": "code",
   "execution_count": 39,
   "id": "d3cd9f90-2119-4a42-98f0-e68192d7a60a",
   "metadata": {},
   "outputs": [],
   "source": [
    "df.rename(columns={'ogrzewanie': 'heating'}, inplace=True)\n",
    "\n",
    "df['heating'] = df['heating'].replace({\n",
    "    'elektryczne': 'electric',\n",
    "    'gazowe': 'gas',\n",
    "    'inne': 'other',\n",
    "    'kotłownia': 'boiler room',\n",
    "    'miejskie': 'district'\n",
    "})"
   ]
  },
  {
   "cell_type": "markdown",
   "id": "f8c53f3d-f48e-4b44-ac28-c6121b4cf33f",
   "metadata": {},
   "source": [
    "### advertiser_type"
   ]
  },
  {
   "cell_type": "code",
   "execution_count": 42,
   "id": "45aca565-b6c2-494c-9c99-bf5283f5d497",
   "metadata": {
    "tags": []
   },
   "outputs": [],
   "source": [
    "df['advertiser_type'] = df['advertiser_type'].replace({\n",
    "    'prywatny': 'owner',\n",
    "    'biuro nieruchomości': 'agency',\n",
    "    'deweloper': 'developer'\n",
    "})"
   ]
  },
  {
   "cell_type": "markdown",
   "id": "51497654-6804-4c05-81e9-a5a36faa96d2",
   "metadata": {},
   "source": [
    "### balcony / terrace / garden / parking_space / separate_kitchen / utility_room / basement"
   ]
  },
  {
   "cell_type": "code",
   "execution_count": 45,
   "id": "a0490376-9d19-43fc-aeaf-9281dedcb6c6",
   "metadata": {
    "tags": []
   },
   "outputs": [],
   "source": [
    "df['balcony'] = df['additional_information'].apply(lambda x: 1 if type(x)==str and 'balkon' in x else 0)\n",
    "df['terrace'] = df['additional_information'].apply(lambda x: 1 if type(x)==str and 'taras' in x else 0)\n",
    "df['garden'] = df['additional_information'].apply(lambda x: 1 if type(x)==str and 'ogródek' in x else 0)\n",
    "df['parking_space'] = df['additional_information'].apply(lambda x: 1 if type(x)==str and 'garaż/miejsce parkingowe' in x else 0)\n",
    "df['separate_kitchen'] = df['additional_information'].apply(lambda x: 1 if type(x)==str and 'oddzielna kuchnia' in x else 0)\n",
    "df['utility_room'] = df['additional_information'].apply(lambda x: 1 if type(x)==str and 'pom. użytkowe' in x else 0)\n",
    "df['basement'] = df['additional_information'].apply(lambda x: 1 if type(x)==str and 'piwnica' in x else 0)"
   ]
  },
  {
   "cell_type": "markdown",
   "id": "ba16fb96-d171-4f47-b92f-e961a599188b",
   "metadata": {},
   "source": [
    "### elevator"
   ]
  },
  {
   "cell_type": "code",
   "execution_count": 48,
   "id": "71a7fb11-11d6-4e46-9f68-4292d3e04e00",
   "metadata": {
    "tags": []
   },
   "outputs": [],
   "source": [
    "df['elevator'] = df['elevator'].apply(lambda x: x == 'tak').astype(int)"
   ]
  },
  {
   "cell_type": "markdown",
   "id": "45d95017-9b46-421d-a3ca-2133b29fd48f",
   "metadata": {},
   "source": [
    "### building_type"
   ]
  },
  {
   "cell_type": "code",
   "execution_count": 51,
   "id": "35bc9610-b037-4b20-aeb0-1067a3d8507f",
   "metadata": {
    "tags": []
   },
   "outputs": [],
   "source": [
    "df['building_type'] = df['building_type'].replace({\n",
    "    'apartamentowiec': 'apartment',\n",
    "    'kamienica': 'tenement',\n",
    "    'blok': 'block_of_flats'\n",
    "})\n",
    "df.loc[~df['building_type'].fillna('').isin(['apartment', 'tenement', 'block_of_flats']), 'building_type'] = 'other'"
   ]
  },
  {
   "cell_type": "markdown",
   "id": "b13da7e5-e717-4deb-853c-aa04f30a3a79",
   "metadata": {},
   "source": [
    "### seciurity / safeguards"
   ]
  },
  {
   "cell_type": "code",
   "execution_count": 54,
   "id": "876f43be-2a02-4c8b-9624-7f82cf6ead27",
   "metadata": {
    "tags": []
   },
   "outputs": [],
   "source": [
    "df['gated_community'] = df['security'].apply(lambda x: 1 if type(x)==str and 'teren zamknięty' in x else 0)\n",
    "df['security_monitoring'] = df['security'].apply(lambda x: 1 if type(x)==str and 'onitoring / ochrona' in x else 0)\n",
    "df['safeguards'] = df['safeguards'].apply(\n",
    "    lambda x:1 if type(x)==str and\\\n",
    "    ('system alarmowy' in x or 'antywłamaniowe' in x) else 0)"
   ]
  },
  {
   "cell_type": "markdown",
   "id": "d2511f7d-821a-4390-815a-14ca63783f16",
   "metadata": {},
   "source": [
    "### building_age"
   ]
  },
  {
   "cell_type": "code",
   "execution_count": 57,
   "id": "916ed0cd-6dc2-4181-bdb7-e1b9bd7fe237",
   "metadata": {
    "tags": []
   },
   "outputs": [],
   "source": [
    "df.loc[(df['year_of_construction'] < 1600) | (df['year_of_construction'] > 2025), 'year_of_construction'] = np.nan\n",
    "df['building_age'] = 2025 - df['year_of_construction']"
   ]
  },
  {
   "cell_type": "markdown",
   "id": "6ba7526a-85f5-47d4-8a98-f154e13c3581",
   "metadata": {
    "tags": []
   },
   "source": [
    "### internet / cable_tv"
   ]
  },
  {
   "cell_type": "code",
   "execution_count": 67,
   "id": "a40106af-14fd-46ca-ae36-6c641d5f9755",
   "metadata": {
    "tags": []
   },
   "outputs": [],
   "source": [
    "df['cable_tv'] = df['utilities'].apply(lambda x: 1 if type(x)==str and 'telewizja kablowa' in x else 0)\n",
    "df['internet'] = df['utilities'].apply(lambda x: 1 if type(x)==str and 'internet' in x else 0)"
   ]
  },
  {
   "cell_type": "code",
   "execution_count": null,
   "id": "a38d3bb4-d8bb-4df6-b407-6296d7372379",
   "metadata": {},
   "outputs": [],
   "source": [
    "internet"
   ]
  },
  {
   "cell_type": "code",
   "execution_count": null,
   "id": "6f8077a7-9d96-4c1a-bafc-a885f86373a8",
   "metadata": {
    "tags": []
   },
   "outputs": [],
   "source": [
    "df.equipment.unique()"
   ]
  },
  {
   "cell_type": "markdown",
   "id": "9c3a586f-0706-4b6c-afac-d7fc9bd53fd6",
   "metadata": {},
   "source": [
    "### dishwasher / air_conditioning"
   ]
  },
  {
   "cell_type": "code",
   "execution_count": 79,
   "id": "42795f23-dd26-4dbf-af66-13d460a85238",
   "metadata": {
    "tags": []
   },
   "outputs": [],
   "source": [
    "def initialize_nlp() -> None:\n",
    "    \"\"\"\n",
    "    Initializes a global NLP model using the spaCy library with the Polish small model.\n",
    "    This allows the `nlp` model to be used elsewhere in the code after initialization.\n",
    "\n",
    "    Returns:\n",
    "    - None\n",
    "    \"\"\"\n",
    "    global nlp\n",
    "    nlp = spacy.load(\"pl_core_news_sm\")\n",
    "\n",
    "    return None"
   ]
  },
  {
   "cell_type": "code",
   "execution_count": 81,
   "id": "9a76cbd1-e5fb-43ef-a2bf-cbbf966c76a7",
   "metadata": {
    "tags": []
   },
   "outputs": [],
   "source": [
    "def initialize_morf() -> None:\n",
    "    \"\"\"\n",
    "    Initializes a global morphological analyzer using the Morfeusz2 library.\n",
    "    This prepares `morf` for use throughout the codebase for morphological analysis tasks.\n",
    "\n",
    "    Returns:\n",
    "    - None\n",
    "    \"\"\"\n",
    "    global morf\n",
    "    morf = morfeusz2.Morfeusz()\n",
    "\n",
    "    return None"
   ]
  },
  {
   "cell_type": "code",
   "execution_count": 83,
   "id": "b3130bd6-67ae-4153-b0bb-a53d6abaef97",
   "metadata": {
    "tags": []
   },
   "outputs": [],
   "source": [
    "def contains_keywords_morf(description: str, keywords: list):\n",
    "    \"\"\"\n",
    "    Determines whether a given text description contains any of a list of keywords based on morphological analysis.\n",
    "\n",
    "    This function processes the input text using a natural language processing model to tokenize the text.\n",
    "    For each token, it performs a morphological analysis to identify the base form of the word.\n",
    "    The function then checks if this base form matches any of the keywords provided in the list.\n",
    "    It returns True as soon as a keyword match is found and stops further analysis.\n",
    "\n",
    "    Parameters:\n",
    "    - description (str): The text description to analyze for the presence of keywords.\n",
    "    - keywords (list): A list of keyword strings to search for in the text, based on their morphological base forms.\n",
    "\n",
    "    Returns:\n",
    "    - bool: True if at least one of the keywords is found in the text, False otherwise.\n",
    "\n",
    "    Requires:\n",
    "    - A loaded natural language processing model (nlp) to tokenize the text.\n",
    "    - A morphological analysis tool morfeusz2 (morf) that provides the base form of each token.\n",
    "    \"\"\"\n",
    "\n",
    "    try:\n",
    "        doc = nlp(description.lower())\n",
    "    except AttributeError:\n",
    "        return False\n",
    "    \n",
    "    contains_keywords = False\n",
    "    for token in doc:\n",
    "        analysis = morf.analyse(token.text)\n",
    "        try:\n",
    "            contains_keywords = True if analysis[0][2][1] in keywords else contains_keywords\n",
    "        except IndexError:\n",
    "            continue\n",
    "\n",
    "        if contains_keywords:\n",
    "            break\n",
    "            \n",
    "    return contains_keywords"
   ]
  },
  {
   "cell_type": "code",
   "execution_count": 93,
   "id": "bf686ccf-c937-4cd5-a3f2-91a101de50a2",
   "metadata": {
    "tags": []
   },
   "outputs": [],
   "source": [
    "initialize_nlp()\n",
    "initialize_morf()"
   ]
  },
  {
   "cell_type": "code",
   "execution_count": 95,
   "id": "8f7815ff-221d-4470-ac9e-fbfa63ec957a",
   "metadata": {
    "tags": []
   },
   "outputs": [],
   "source": [
    "df['dishwasher'] = df.apply(\n",
    "    lambda row: (not pd.isna(row['equipment']) and 'zmywarka' in row['equipment']) or\\\n",
    "        contains_keywords_morf(row['adv_description'], ['zmywarka']),\n",
    "    axis=1)"
   ]
  },
  {
   "cell_type": "code",
   "execution_count": null,
   "id": "675fd621-709c-42ce-b0aa-769ce3fbff6e",
   "metadata": {},
   "outputs": [],
   "source": [
    "df['air_conditioning'] = df.apply(\n",
    "    lambda row: (not pd.isna(row['equipment']) and 'klimatyzacja' in row['equipment']) or\\\n",
    "        contains_keywords_morf(row['adv_description'], ['klimatyzacja', 'klimatyzator']),\n",
    "    axis=1)"
   ]
  }
 ],
 "metadata": {
  "kernelspec": {
   "display_name": "Python 3 (ipykernel)",
   "language": "python",
   "name": "python3"
  },
  "language_info": {
   "codemirror_mode": {
    "name": "ipython",
    "version": 3
   },
   "file_extension": ".py",
   "mimetype": "text/x-python",
   "name": "python",
   "nbconvert_exporter": "python",
   "pygments_lexer": "ipython3",
   "version": "3.11.5"
  }
 },
 "nbformat": 4,
 "nbformat_minor": 5
}
