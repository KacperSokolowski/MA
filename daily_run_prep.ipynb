{
 "cells": [
  {
   "cell_type": "code",
   "execution_count": 10,
   "id": "c9e869e4-0d0d-48ff-b0bf-b3e932425ddc",
   "metadata": {
    "tags": []
   },
   "outputs": [],
   "source": [
    "from toolkit import *"
   ]
  },
  {
   "cell_type": "code",
   "execution_count": 12,
   "id": "c9aceeab-aeaf-4e1d-bbeb-30bf66d7a43e",
   "metadata": {
    "tags": []
   },
   "outputs": [
    {
     "data": {
      "application/vnd.jupyter.widget-view+json": {
       "model_id": "8bd1288771f94c7e8818e6a0dd74aa40",
       "version_major": 2,
       "version_minor": 0
      },
      "text/plain": [
       "Summarize dataset:   0%|          | 0/5 [00:00<?, ?it/s]"
      ]
     },
     "metadata": {},
     "output_type": "display_data"
    },
    {
     "name": "stderr",
     "output_type": "stream",
     "text": [
      "C:\\Users\\kacpe\\anaconda3\\Lib\\site-packages\\seaborn\\matrix.py:260: FutureWarning: Format strings passed to MaskedConstant are ignored, but in future may error or produce different behavior\n",
      "  annotation = (\"{:\" + self.fmt + \"}\").format(val)\n",
      "C:\\Users\\kacpe\\anaconda3\\Lib\\site-packages\\ydata_profiling\\model\\missing.py:78: UserWarning: There was an attempt to generate the Heatmap missing values diagrams, but this failed.\n",
      "To hide this warning, disable the calculation\n",
      "(using `df.profile_report(missing_diagrams={\"Heatmap\": False}`)\n",
      "If this is problematic for your use case, please report this as an issue:\n",
      "https://github.com/ydataai/ydata-profiling/issues\n",
      "(include the error message: 'could not convert string to float: '--'')\n",
      "  warnings.warn(\n"
     ]
    },
    {
     "data": {
      "application/vnd.jupyter.widget-view+json": {
       "model_id": "286cad051fb641c69defd69615684330",
       "version_major": 2,
       "version_minor": 0
      },
      "text/plain": [
       "Generate report structure:   0%|          | 0/1 [00:00<?, ?it/s]"
      ]
     },
     "metadata": {},
     "output_type": "display_data"
    },
    {
     "data": {
      "application/vnd.jupyter.widget-view+json": {
       "model_id": "f71e8894ba5144aca370ccf7f19176bb",
       "version_major": 2,
       "version_minor": 0
      },
      "text/plain": [
       "Render HTML:   0%|          | 0/1 [00:00<?, ?it/s]"
      ]
     },
     "metadata": {},
     "output_type": "display_data"
    },
    {
     "data": {
      "application/vnd.jupyter.widget-view+json": {
       "model_id": "5a65477c0e5947f992b9976e1cb95fb5",
       "version_major": 2,
       "version_minor": 0
      },
      "text/plain": [
       "Export report to file:   0%|          | 0/1 [00:00<?, ?it/s]"
      ]
     },
     "metadata": {},
     "output_type": "display_data"
    }
   ],
   "source": [
    "daily_data_run()"
   ]
  },
  {
   "cell_type": "code",
   "execution_count": 3,
   "id": "7d5122d2-f2bf-4699-819f-5c39321e2c72",
   "metadata": {
    "tags": []
   },
   "outputs": [
    {
     "ename": "NoSuchWindowException",
     "evalue": "Message: no such window: target window already closed\nfrom unknown error: web view not found\n  (Session info: chrome=132.0.6834.160)\nStacktrace:\n\tGetHandleVerifier [0x00007FF6586502F5+28725]\n\t(No symbol) [0x00007FF6585B2AE0]\n\t(No symbol) [0x00007FF65844510A]\n\t(No symbol) [0x00007FF65841EEA5]\n\t(No symbol) [0x00007FF6584C6F87]\n\t(No symbol) [0x00007FF6584DFA52]\n\t(No symbol) [0x00007FF6584BFD53]\n\t(No symbol) [0x00007FF65848A0E3]\n\t(No symbol) [0x00007FF65848B471]\n\tGetHandleVerifier [0x00007FF65897F30D+3366989]\n\tGetHandleVerifier [0x00007FF6589912F0+3440688]\n\tGetHandleVerifier [0x00007FF6589878FD+3401277]\n\tGetHandleVerifier [0x00007FF65871AAAB+858091]\n\t(No symbol) [0x00007FF6585BE74F]\n\t(No symbol) [0x00007FF6585BA304]\n\t(No symbol) [0x00007FF6585BA49D]\n\t(No symbol) [0x00007FF6585A8B69]\n\tBaseThreadInitThunk [0x00007FF9D261E8D7+23]\n\tRtlUserThreadStart [0x00007FF9D337FBCC+44]\n",
     "output_type": "error",
     "traceback": [
      "\u001b[1;31m---------------------------------------------------------------------------\u001b[0m",
      "\u001b[1;31mNoSuchWindowException\u001b[0m                     Traceback (most recent call last)",
      "Cell \u001b[1;32mIn[3], line 13\u001b[0m\n\u001b[0;32m     10\u001b[0m driver \u001b[38;5;241m=\u001b[39m initialize_otodom_scraper(\u001b[38;5;241m2\u001b[39m)\n\u001b[0;32m     11\u001b[0m links \u001b[38;5;241m=\u001b[39m \u001b[38;5;28mlist\u001b[39m(\u001b[38;5;28mset\u001b[39m(new_announcements\u001b[38;5;241m.\u001b[39mlink)\u001b[38;5;241m-\u001b[39m\u001b[38;5;28mset\u001b[39m(main\u001b[38;5;241m.\u001b[39mlink))\n\u001b[1;32m---> 13\u001b[0m new_records \u001b[38;5;241m=\u001b[39m scrape_otodom_announcements(\n\u001b[0;32m     14\u001b[0m     driver \u001b[38;5;241m=\u001b[39m driver,\n\u001b[0;32m     15\u001b[0m     announcements_links \u001b[38;5;241m=\u001b[39m links,\n\u001b[0;32m     16\u001b[0m     sleep_length \u001b[38;5;241m=\u001b[39m sleep_length,\n\u001b[0;32m     17\u001b[0m     csv_destination_path \u001b[38;5;241m=\u001b[39m scrape_otodom_destination_path)\n\u001b[0;32m     19\u001b[0m driver\u001b[38;5;241m.\u001b[39mclose()\n\u001b[0;32m     21\u001b[0m new_records \u001b[38;5;241m=\u001b[39m process_data(new_records)\n",
      "File \u001b[1;32m~\\Desktop\\MA\\scraper.py:369\u001b[0m, in \u001b[0;36mscrape_otodom_announcements\u001b[1;34m(driver, announcements_links, sleep_length, save_as_csv, csv_file_name_prefix, csv_destination_path)\u001b[0m\n\u001b[0;32m    367\u001b[0m \u001b[38;5;66;03m# Loop through scraped announcements links\u001b[39;00m\n\u001b[0;32m    368\u001b[0m \u001b[38;5;28;01mfor\u001b[39;00m i \u001b[38;5;129;01min\u001b[39;00m announcements_links:\n\u001b[1;32m--> 369\u001b[0m     single_announcement \u001b[38;5;241m=\u001b[39m scrape_single_announcement(driver, i, sleep_length)\n\u001b[0;32m    370\u001b[0m     \u001b[38;5;66;03m#### TO DO\u001b[39;00m\n\u001b[0;32m    371\u001b[0m     \u001b[38;5;28;01mif\u001b[39;00m single_announcement \u001b[38;5;129;01mis\u001b[39;00m \u001b[38;5;129;01mnot\u001b[39;00m \u001b[38;5;28;01mNone\u001b[39;00m:\n",
      "File \u001b[1;32m~\\Desktop\\MA\\scraper.py:307\u001b[0m, in \u001b[0;36mscrape_single_announcement\u001b[1;34m(driver, announcements_link, sleep_length)\u001b[0m\n\u001b[0;32m    305\u001b[0m sleep(sleep_length\u001b[38;5;241m/\u001b[39m\u001b[38;5;241m2\u001b[39m)\n\u001b[0;32m    306\u001b[0m \u001b[38;5;28;01mtry\u001b[39;00m:\n\u001b[1;32m--> 307\u001b[0m     map_element \u001b[38;5;241m=\u001b[39m driver\u001b[38;5;241m.\u001b[39mfind_element(By\u001b[38;5;241m.\u001b[39mID, \u001b[38;5;124m'\u001b[39m\u001b[38;5;124mmap\u001b[39m\u001b[38;5;124m'\u001b[39m)\n\u001b[0;32m    308\u001b[0m \u001b[38;5;28;01mexcept\u001b[39;00m NoSuchElementException:\n\u001b[0;32m    309\u001b[0m     \u001b[38;5;28;01mpass\u001b[39;00m\n",
      "File \u001b[1;32m~\\anaconda3\\Lib\\site-packages\\selenium\\webdriver\\remote\\webdriver.py:742\u001b[0m, in \u001b[0;36mWebDriver.find_element\u001b[1;34m(self, by, value)\u001b[0m\n\u001b[0;32m    739\u001b[0m     by \u001b[38;5;241m=\u001b[39m By\u001b[38;5;241m.\u001b[39mCSS_SELECTOR\n\u001b[0;32m    740\u001b[0m     value \u001b[38;5;241m=\u001b[39m \u001b[38;5;124mf\u001b[39m\u001b[38;5;124m'\u001b[39m\u001b[38;5;124m[name=\u001b[39m\u001b[38;5;124m\"\u001b[39m\u001b[38;5;132;01m{\u001b[39;00mvalue\u001b[38;5;132;01m}\u001b[39;00m\u001b[38;5;124m\"\u001b[39m\u001b[38;5;124m]\u001b[39m\u001b[38;5;124m'\u001b[39m\n\u001b[1;32m--> 742\u001b[0m \u001b[38;5;28;01mreturn\u001b[39;00m \u001b[38;5;28mself\u001b[39m\u001b[38;5;241m.\u001b[39mexecute(Command\u001b[38;5;241m.\u001b[39mFIND_ELEMENT, {\u001b[38;5;124m\"\u001b[39m\u001b[38;5;124musing\u001b[39m\u001b[38;5;124m\"\u001b[39m: by, \u001b[38;5;124m\"\u001b[39m\u001b[38;5;124mvalue\u001b[39m\u001b[38;5;124m\"\u001b[39m: value})[\u001b[38;5;124m\"\u001b[39m\u001b[38;5;124mvalue\u001b[39m\u001b[38;5;124m\"\u001b[39m]\n",
      "File \u001b[1;32m~\\anaconda3\\Lib\\site-packages\\selenium\\webdriver\\remote\\webdriver.py:348\u001b[0m, in \u001b[0;36mWebDriver.execute\u001b[1;34m(self, driver_command, params)\u001b[0m\n\u001b[0;32m    346\u001b[0m response \u001b[38;5;241m=\u001b[39m \u001b[38;5;28mself\u001b[39m\u001b[38;5;241m.\u001b[39mcommand_executor\u001b[38;5;241m.\u001b[39mexecute(driver_command, params)\n\u001b[0;32m    347\u001b[0m \u001b[38;5;28;01mif\u001b[39;00m response:\n\u001b[1;32m--> 348\u001b[0m     \u001b[38;5;28mself\u001b[39m\u001b[38;5;241m.\u001b[39merror_handler\u001b[38;5;241m.\u001b[39mcheck_response(response)\n\u001b[0;32m    349\u001b[0m     response[\u001b[38;5;124m\"\u001b[39m\u001b[38;5;124mvalue\u001b[39m\u001b[38;5;124m\"\u001b[39m] \u001b[38;5;241m=\u001b[39m \u001b[38;5;28mself\u001b[39m\u001b[38;5;241m.\u001b[39m_unwrap_value(response\u001b[38;5;241m.\u001b[39mget(\u001b[38;5;124m\"\u001b[39m\u001b[38;5;124mvalue\u001b[39m\u001b[38;5;124m\"\u001b[39m, \u001b[38;5;28;01mNone\u001b[39;00m))\n\u001b[0;32m    350\u001b[0m     \u001b[38;5;28;01mreturn\u001b[39;00m response\n",
      "File \u001b[1;32m~\\anaconda3\\Lib\\site-packages\\selenium\\webdriver\\remote\\errorhandler.py:229\u001b[0m, in \u001b[0;36mErrorHandler.check_response\u001b[1;34m(self, response)\u001b[0m\n\u001b[0;32m    227\u001b[0m         alert_text \u001b[38;5;241m=\u001b[39m value[\u001b[38;5;124m\"\u001b[39m\u001b[38;5;124malert\u001b[39m\u001b[38;5;124m\"\u001b[39m]\u001b[38;5;241m.\u001b[39mget(\u001b[38;5;124m\"\u001b[39m\u001b[38;5;124mtext\u001b[39m\u001b[38;5;124m\"\u001b[39m)\n\u001b[0;32m    228\u001b[0m     \u001b[38;5;28;01mraise\u001b[39;00m exception_class(message, screen, stacktrace, alert_text)  \u001b[38;5;66;03m# type: ignore[call-arg]  # mypy is not smart enough here\u001b[39;00m\n\u001b[1;32m--> 229\u001b[0m \u001b[38;5;28;01mraise\u001b[39;00m exception_class(message, screen, stacktrace)\n",
      "\u001b[1;31mNoSuchWindowException\u001b[0m: Message: no such window: target window already closed\nfrom unknown error: web view not found\n  (Session info: chrome=132.0.6834.160)\nStacktrace:\n\tGetHandleVerifier [0x00007FF6586502F5+28725]\n\t(No symbol) [0x00007FF6585B2AE0]\n\t(No symbol) [0x00007FF65844510A]\n\t(No symbol) [0x00007FF65841EEA5]\n\t(No symbol) [0x00007FF6584C6F87]\n\t(No symbol) [0x00007FF6584DFA52]\n\t(No symbol) [0x00007FF6584BFD53]\n\t(No symbol) [0x00007FF65848A0E3]\n\t(No symbol) [0x00007FF65848B471]\n\tGetHandleVerifier [0x00007FF65897F30D+3366989]\n\tGetHandleVerifier [0x00007FF6589912F0+3440688]\n\tGetHandleVerifier [0x00007FF6589878FD+3401277]\n\tGetHandleVerifier [0x00007FF65871AAAB+858091]\n\t(No symbol) [0x00007FF6585BE74F]\n\t(No symbol) [0x00007FF6585BA304]\n\t(No symbol) [0x00007FF6585BA49D]\n\t(No symbol) [0x00007FF6585A8B69]\n\tBaseThreadInitThunk [0x00007FF9D261E8D7+23]\n\tRtlUserThreadStart [0x00007FF9D337FBCC+44]\n"
     ]
    }
   ],
   "source": [
    "sleep_length = 2\n",
    "search_for_inactive_destination_path = 'data_raw/search_for_inactive'\n",
    "get_links_destination_path= 'data_raw/available_ads'\n",
    "scrape_otodom_destination_path = 'data_raw/otodom_scraped_data'\n",
    "report_destination_path = 'data_raw/data_reports'\n",
    "main_path = 'data_processed/main.csv'\n",
    "\n",
    "main = pd.read_csv(main_path)\n",
    "new_announcements = pd.read_csv('data_raw/available_ads/available_ads_2025_02_06.csv')\n",
    "driver = initialize_otodom_scraper(2)\n",
    "links = list(set(new_announcements.link)-set(main.link))\n",
    "\n",
    "new_records = scrape_otodom_announcements(\n",
    "    driver = driver,\n",
    "    announcements_links = links,\n",
    "    sleep_length = sleep_length,\n",
    "    csv_destination_path = scrape_otodom_destination_path)\n",
    "\n",
    "driver.close()\n",
    "\n",
    "new_records = process_data(new_records)\n",
    "new_records = new_records[~new_records.link.isin(main.link)]\n",
    "\n",
    "# Concat main and newly scraped announcements\n",
    "main = pd.concat([main, new_records], ignore_index=True)\n",
    "\n",
    "# Save main\n",
    "main.to_csv(main_path,\n",
    "        encoding='utf-8',\n",
    "        index=False)\n",
    "\n",
    "# Create profile report for newly scraped announcements\n",
    "current_date = datetime.now().strftime('%Y_%m_%d')\n",
    "profile = ProfileReport(new_records, title='Data Profiling Report')\n",
    "profile.to_file(f'{report_destination_path}/scraped_announcements_{current_date}.html')"
   ]
  },
  {
   "cell_type": "code",
   "execution_count": null,
   "id": "88750f96-d7be-4e76-81dd-2f71201508f8",
   "metadata": {
    "tags": []
   },
   "outputs": [],
   "source": [
    "len(links)"
   ]
  },
  {
   "cell_type": "code",
   "execution_count": null,
   "id": "b39d17d7-357c-45b0-985a-0cb4fa265cdd",
   "metadata": {
    "tags": []
   },
   "outputs": [],
   "source": [
    "import pandas as pd\n",
    "from scraper import *\n",
    "from datakit import *\n",
    "from datetime import datetime\n",
    "from ydata_profiling import ProfileReport"
   ]
  },
  {
   "cell_type": "code",
   "execution_count": null,
   "id": "eda6b8be-8487-471f-a0be-3509d2333e7b",
   "metadata": {},
   "outputs": [],
   "source": [
    "def daily_data_run():\n",
    "\n",
    "# Read main\n",
    "path = f'data_processed/main.csv'\n",
    "main = pd.read_csv(path)\n",
    "\n",
    "### TODO Add rent price updates\n",
    "# Search for inactive\n",
    "inactive = search_for_inactive(\n",
    "    list(main[main.expired.eq(0)].link),\n",
    "    csv_destination_path = search_for_inactive_destination_path.\n",
    "    sleep_length=1)\n",
    "inactive = inactive[inactive.expired.eq(1)]\n",
    "\n",
    "# Update main with inactive\n",
    "main.update(main[['link']].merge(inactive, on='link', how='left'), overwrite=True)\n",
    "\n",
    "# Search for new announcement links\n",
    "new_announcements_url = 'https://www.otodom.pl/pl/wyniki/wynajem/mieszkanie/mazowieckie/warszawa/warszawa/warszawa?limit=36&daysSinceCreated=7&by=DEFAULT&direction=DESC&viewType=listing&page=2'\n",
    "new_announcements = get_links_titles(new_announcements_url, csv_destination_path = get_links_destination_path)\n",
    "\n",
    "# Scrape new announcements\n",
    "driver = initialize_otodom_scraper(2)\n",
    "links = list(set(df.new_announcements)-set(main.link))\n",
    "\n",
    "new_records = scrape_otodom_announcements(\n",
    "    driver = driver,\n",
    "    announcements_links = links,\n",
    "    sleep_length = 2)\n",
    "\n",
    "driver.close()\n",
    "\n",
    "# Process scrabed announcements\n",
    "new_records = process_data(new_records)\n",
    "new_records = new_records[~new_records.link.isin(main.link)]\n",
    "\n",
    "# Concat main and newly scraped announcements\n",
    "main = pd.concat([main, df], ignore_index=True)\n",
    "\n",
    "# Save main\n",
    "main.to_csv(path,\n",
    "          encoding='utf-8',\n",
    "          index=False)\n",
    "\n",
    "# Create profile report for newly scraped announcements\n",
    "current_date = datetime.now().strftime('%Y_%m_%d')\n",
    "profile = ProfileReport(new_records, title='Data Profiling Report')\n",
    "profile.to_file(f'data_raw/data_reports/scraped_announcements_{current_date}.html')"
   ]
  },
  {
   "cell_type": "code",
   "execution_count": null,
   "id": "c55ca6ee-6fee-4525-88c6-e3a115b795c6",
   "metadata": {
    "tags": []
   },
   "outputs": [],
   "source": [
    "new_records = pd.read_csv('data_raw/search_for_inactive/search_for_inactive_2024_12_29.csv')\n",
    "current_date = datetime.now().strftime('%Y_%m_%d')\n",
    "profile = ProfileReport(new_records, title='Data Profiling Report')\n",
    "profile.to_file(f'data_raw/data_reports/scraped_announcements_{current_date}.html')"
   ]
  },
  {
   "cell_type": "code",
   "execution_count": null,
   "id": "1334441b-1993-40b7-b74d-1a3357887cbf",
   "metadata": {},
   "outputs": [],
   "source": []
  }
 ],
 "metadata": {
  "kernelspec": {
   "display_name": "Python 3 (ipykernel)",
   "language": "python",
   "name": "python3"
  },
  "language_info": {
   "codemirror_mode": {
    "name": "ipython",
    "version": 3
   },
   "file_extension": ".py",
   "mimetype": "text/x-python",
   "name": "python",
   "nbconvert_exporter": "python",
   "pygments_lexer": "ipython3",
   "version": "3.11.5"
  }
 },
 "nbformat": 4,
 "nbformat_minor": 5
}
