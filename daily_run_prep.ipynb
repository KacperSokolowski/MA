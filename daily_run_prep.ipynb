{
 "cells": [
  {
   "cell_type": "code",
   "execution_count": 1,
   "id": "c9e869e4-0d0d-48ff-b0bf-b3e932425ddc",
   "metadata": {
    "tags": []
   },
   "outputs": [],
   "source": [
    "from toolkit import *"
   ]
  },
  {
   "cell_type": "code",
   "execution_count": 2,
   "id": "c9aceeab-aeaf-4e1d-bbeb-30bf66d7a43e",
   "metadata": {
    "tags": []
   },
   "outputs": [
    {
     "data": {
      "application/vnd.jupyter.widget-view+json": {
       "model_id": "56c80f497c9441faaf3d998c7d2e94e9",
       "version_major": 2,
       "version_minor": 0
      },
      "text/plain": [
       "Summarize dataset:   0%|          | 0/5 [00:00<?, ?it/s]"
      ]
     },
     "metadata": {},
     "output_type": "display_data"
    },
    {
     "name": "stderr",
     "output_type": "stream",
     "text": [
      "C:\\Users\\kacpe\\anaconda3\\Lib\\site-packages\\seaborn\\matrix.py:260: FutureWarning: Format strings passed to MaskedConstant are ignored, but in future may error or produce different behavior\n",
      "  annotation = (\"{:\" + self.fmt + \"}\").format(val)\n",
      "C:\\Users\\kacpe\\anaconda3\\Lib\\site-packages\\ydata_profiling\\model\\missing.py:78: UserWarning: There was an attempt to generate the Heatmap missing values diagrams, but this failed.\n",
      "To hide this warning, disable the calculation\n",
      "(using `df.profile_report(missing_diagrams={\"Heatmap\": False}`)\n",
      "If this is problematic for your use case, please report this as an issue:\n",
      "https://github.com/ydataai/ydata-profiling/issues\n",
      "(include the error message: 'could not convert string to float: '--'')\n",
      "  warnings.warn(\n"
     ]
    },
    {
     "data": {
      "application/vnd.jupyter.widget-view+json": {
       "model_id": "449ecbe6e19b470f914630c36954e3a2",
       "version_major": 2,
       "version_minor": 0
      },
      "text/plain": [
       "Generate report structure:   0%|          | 0/1 [00:00<?, ?it/s]"
      ]
     },
     "metadata": {},
     "output_type": "display_data"
    },
    {
     "data": {
      "application/vnd.jupyter.widget-view+json": {
       "model_id": "33d3be114da249d583d65bc5acd234f7",
       "version_major": 2,
       "version_minor": 0
      },
      "text/plain": [
       "Render HTML:   0%|          | 0/1 [00:00<?, ?it/s]"
      ]
     },
     "metadata": {},
     "output_type": "display_data"
    },
    {
     "data": {
      "application/vnd.jupyter.widget-view+json": {
       "model_id": "3fe5d8fbb76c48a1928827fcb16d2719",
       "version_major": 2,
       "version_minor": 0
      },
      "text/plain": [
       "Export report to file:   0%|          | 0/1 [00:00<?, ?it/s]"
      ]
     },
     "metadata": {},
     "output_type": "display_data"
    }
   ],
   "source": [
    "daily_data_run()"
   ]
  },
  {
   "cell_type": "code",
   "execution_count": null,
   "id": "b39d17d7-357c-45b0-985a-0cb4fa265cdd",
   "metadata": {
    "tags": []
   },
   "outputs": [],
   "source": [
    "import pandas as pd\n",
    "from scraper import *\n",
    "from datakit import *\n",
    "from datetime import datetime\n",
    "from ydata_profiling import ProfileReport"
   ]
  },
  {
   "cell_type": "code",
   "execution_count": null,
   "id": "eda6b8be-8487-471f-a0be-3509d2333e7b",
   "metadata": {},
   "outputs": [],
   "source": [
    "def daily_data_run():\n",
    "\n",
    "# Read main\n",
    "path = f'data_processed/main.csv'\n",
    "main = pd.read_csv(path)\n",
    "\n",
    "### TODO Add rent price updates\n",
    "# Search for inactive\n",
    "inactive = search_for_inactive(\n",
    "    list(main[main.expired.eq(0)].link),\n",
    "    csv_destination_path = search_for_inactive_destination_path.\n",
    "    sleep_length=1)\n",
    "inactive = inactive[inactive.expired.eq(1)]\n",
    "\n",
    "# Update main with inactive\n",
    "main.update(main[['link']].merge(inactive, on='link', how='left'), overwrite=True)\n",
    "\n",
    "# Search for new announcement links\n",
    "new_announcements_url = 'https://www.otodom.pl/pl/wyniki/wynajem/mieszkanie/mazowieckie/warszawa/warszawa/warszawa?limit=36&daysSinceCreated=7&by=DEFAULT&direction=DESC&viewType=listing&page=2'\n",
    "new_announcements = get_links_titles(new_announcements_url, csv_destination_path = get_links_destination_path)\n",
    "\n",
    "# Scrape new announcements\n",
    "driver = initialize_otodom_scraper(2)\n",
    "links = list(set(df.new_announcements)-set(main.link))\n",
    "\n",
    "new_records = scrape_otodom_announcements(\n",
    "    driver = driver,\n",
    "    announcements_links = links,\n",
    "    sleep_length = 2)\n",
    "\n",
    "driver.close()\n",
    "\n",
    "# Process scrabed announcements\n",
    "new_records = process_data(new_records)\n",
    "new_records = new_records[~new_records.link.isin(main.link)]\n",
    "\n",
    "# Concat main and newly scraped announcements\n",
    "main = pd.concat([main, df], ignore_index=True)\n",
    "\n",
    "# Save main\n",
    "main.to_csv(path,\n",
    "          encoding='utf-8',\n",
    "          index=False)\n",
    "\n",
    "# Create profile report for newly scraped announcements\n",
    "current_date = datetime.now().strftime('%Y_%m_%d')\n",
    "profile = ProfileReport(new_records, title='Data Profiling Report')\n",
    "profile.to_file(f'data_raw/data_reports/scraped_announcements_{current_date}.html')"
   ]
  },
  {
   "cell_type": "code",
   "execution_count": null,
   "id": "c55ca6ee-6fee-4525-88c6-e3a115b795c6",
   "metadata": {
    "tags": []
   },
   "outputs": [],
   "source": [
    "new_records = pd.read_csv('data_raw/search_for_inactive/search_for_inactive_2024_12_29.csv')\n",
    "current_date = datetime.now().strftime('%Y_%m_%d')\n",
    "profile = ProfileReport(new_records, title='Data Profiling Report')\n",
    "profile.to_file(f'data_raw/data_reports/scraped_announcements_{current_date}.html')"
   ]
  },
  {
   "cell_type": "code",
   "execution_count": null,
   "id": "1334441b-1993-40b7-b74d-1a3357887cbf",
   "metadata": {},
   "outputs": [],
   "source": []
  }
 ],
 "metadata": {
  "kernelspec": {
   "display_name": "Python 3 (ipykernel)",
   "language": "python",
   "name": "python3"
  },
  "language_info": {
   "codemirror_mode": {
    "name": "ipython",
    "version": 3
   },
   "file_extension": ".py",
   "mimetype": "text/x-python",
   "name": "python",
   "nbconvert_exporter": "python",
   "pygments_lexer": "ipython3",
   "version": "3.11.5"
  }
 },
 "nbformat": 4,
 "nbformat_minor": 5
}
