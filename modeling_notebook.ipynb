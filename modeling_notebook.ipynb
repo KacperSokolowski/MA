{
 "cells": [
  {
   "cell_type": "code",
   "execution_count": 352,
   "id": "f826da26-a7b2-43d9-9cb2-c7424643cc1e",
   "metadata": {
    "tags": []
   },
   "outputs": [],
   "source": [
    "import matplotlib.pyplot as plt\n",
    "from modules.datakit import *\n",
    "from xgboost import XGBRegressor\n",
    "from sklearn.model_selection import cross_validate, GridSearchCV, KFold\n",
    "from sklearn.metrics import mean_absolute_error, r2_score, mean_absolute_percentage_error\n",
    "from sklearn.feature_selection import RFECV, RFE\n",
    "\n",
    "pd.set_option('display.max_columns', 500)\n",
    "pd.set_option('display.max_rows', 500)"
   ]
  },
  {
   "cell_type": "markdown",
   "id": "908954bb-5b43-4aac-9d00-b432a14bad0b",
   "metadata": {},
   "source": [
    "__Read data__"
   ]
  },
  {
   "cell_type": "code",
   "execution_count": 119,
   "id": "384b809d-f8e0-4b77-9954-6290958bd005",
   "metadata": {
    "tags": []
   },
   "outputs": [],
   "source": [
    "path = f'data_processed/modeling_data.csv'\n",
    "df = pd.read_csv(path)\n",
    "\n",
    "columns_to_drop = ['latitude', 'longitude']\n",
    "df.drop(columns=columns_to_drop, inplace=True)"
   ]
  },
  {
   "cell_type": "markdown",
   "id": "4ae63f74-4f16-4a93-8b45-583cc061bdd6",
   "metadata": {},
   "source": [
    "__Input missing values__"
   ]
  },
  {
   "cell_type": "code",
   "execution_count": 122,
   "id": "9f9b36ff-fdd5-4a58-b77c-a437293aa58a",
   "metadata": {
    "tags": []
   },
   "outputs": [],
   "source": [
    "input_missing_values(df)"
   ]
  },
  {
   "cell_type": "markdown",
   "id": "703192b9-4ac0-411a-ac49-85305e0e1a81",
   "metadata": {
    "tags": []
   },
   "source": [
    "__One-Hot Encoding__"
   ]
  },
  {
   "cell_type": "code",
   "execution_count": 125,
   "id": "a1081a5d-aadb-45c1-b3ff-914b2f586177",
   "metadata": {
    "tags": []
   },
   "outputs": [],
   "source": [
    "df_encoded = pd.get_dummies(\n",
    "    df,\n",
    "    columns=['heating', 'building_type', 'apartment_class'],\n",
    "    prefix={'heating': 'heating', 'building_type': 'bt', 'apartment_class': 'ac'},\n",
    "    prefix_sep='_',\n",
    "    dtype=int)\n",
    "\n",
    "district_dummies = pd.get_dummies(df['district'], prefix='', prefix_sep='', dtype=int)\n",
    "df = pd.concat([df_encoded.drop('district', axis=1), district_dummies], axis=1)"
   ]
  },
  {
   "cell_type": "markdown",
   "id": "02b836c8-1c9d-4603-a7b1-2bc526c8ea5a",
   "metadata": {},
   "source": [
    "__Calculate rental price along with additional fees__"
   ]
  },
  {
   "cell_type": "code",
   "execution_count": 128,
   "id": "6bf0c9b2-d06a-4abd-9fff-67c9d489f3c6",
   "metadata": {
    "tags": []
   },
   "outputs": [],
   "source": [
    "df['rent'] = df['rent'] + df['additional_fees']\n",
    "df.drop(columns=['additional_fees'], inplace=True)"
   ]
  },
  {
   "cell_type": "markdown",
   "id": "b8724b80-940c-4e53-a42e-61979540c381",
   "metadata": {},
   "source": [
    "__Split data into train and out of time sample__"
   ]
  },
  {
   "cell_type": "code",
   "execution_count": 131,
   "id": "046e9850-3555-434b-b952-e1dda70c67a7",
   "metadata": {
    "tags": []
   },
   "outputs": [],
   "source": [
    "train_df = df[df.added_dt.le('2025-01-25')].copy()\n",
    "out_of_time_sample = df[df.added_dt.ge('2025-01-26')&df.added_dt.le('2025-02-04')].copy()\n",
    "\n",
    "train_df.drop(columns=['added_dt'], inplace=True)\n",
    "out_of_time_sample.drop(columns=['added_dt'], inplace=True)"
   ]
  },
  {
   "cell_type": "markdown",
   "id": "1781f962-4106-453b-83e5-47c7d8398699",
   "metadata": {},
   "source": [
    "__Split target and predictors__"
   ]
  },
  {
   "cell_type": "code",
   "execution_count": 134,
   "id": "76bafd10-5b84-4101-8f8e-ca9b9d588f73",
   "metadata": {
    "tags": []
   },
   "outputs": [],
   "source": [
    "y_col = 'rent'\n",
    "x_cols = [col for col in train_df.columns if col != y_col]\n",
    "\n",
    "X_train = train_df.drop([y_col], axis=1)\n",
    "y_train = train_df[y_col]\n",
    "X_out_of_time = out_of_time_sample.drop([y_col], axis=1)\n",
    "y_out_of_time = out_of_time_sample[y_col]"
   ]
  },
  {
   "cell_type": "markdown",
   "id": "6bf8790e-b4c4-4a83-80a2-f2699aced9bc",
   "metadata": {
    "tags": []
   },
   "source": [
    "__KFold for cross valdiation__"
   ]
  },
  {
   "cell_type": "code",
   "execution_count": 150,
   "id": "058d98a1-d600-4f6e-8c42-19c876b841ae",
   "metadata": {
    "tags": []
   },
   "outputs": [],
   "source": [
    "cv = KFold(n_splits=5, shuffle=True, random_state=42)"
   ]
  },
  {
   "cell_type": "markdown",
   "id": "445f14cc-c1e3-43c7-b9be-80be0d9740ee",
   "metadata": {
    "tags": []
   },
   "source": [
    "__First Cross Valdiation results (strongly overfitted)__"
   ]
  },
  {
   "cell_type": "code",
   "execution_count": 156,
   "id": "e93f61e2-d404-4c49-9b18-67208e6e25ab",
   "metadata": {
    "tags": []
   },
   "outputs": [
    {
     "name": "stdout",
     "output_type": "stream",
     "text": [
      "MAE Train: [-133.39444786 -126.87660678 -134.90281331 -132.51979403 -128.25314394]\n",
      "MAE Test: [-609.10168998 -629.41404001 -593.67446384 -617.06457418 -631.89749509]\n",
      "Mean MAE Test: -616.2304526204878\n",
      "-------------------\n",
      "R2 Train: [0.99645439 0.9969888  0.99668478 0.99675543 0.99654806]\n",
      "R2 Test: [0.90347938 0.85256682 0.84708253 0.87701407 0.89603547]\n",
      "Mean R2 Test: 0.8752356525439042\n",
      "-------------------\n",
      "MAPE Train: [-0.02954819 -0.02842729 -0.02972998 -0.02970054 -0.02880035]\n",
      "MAPE Test: [-0.11354961 -0.10949823 -0.11176917 -0.11723857 -0.10891974]\n",
      "Mean MAPE Test: -0.11219506359933881\n"
     ]
    }
   ],
   "source": [
    "model = XGBRegressor()\n",
    "\n",
    "cv_results = cross_validate(\n",
    "    model, X_train, y_train, cv=cv,\n",
    "    scoring=[\"neg_mean_absolute_error\", \"r2\", \"neg_mean_absolute_percentage_error\"],\n",
    "    return_train_score=True\n",
    ")\n",
    "\n",
    "print(\"MAE Train:\", cv_results[\"train_neg_mean_absolute_error\"])\n",
    "print(\"MAE Test:\", cv_results[\"test_neg_mean_absolute_error\"])\n",
    "print(\"Mean MAE Test:\", cv_results[\"test_neg_mean_absolute_error\"].mean())\n",
    "print(\"-------------------\")\n",
    "print(\"R2 Train:\", cv_results[\"train_r2\"])\n",
    "print(\"R2 Test:\", cv_results[\"test_r2\"])\n",
    "print(\"Mean R2 Test:\", cv_results[\"test_r2\"].mean())\n",
    "print(\"-------------------\")\n",
    "print(\"MAPE Train:\", cv_results[\"train_neg_mean_absolute_percentage_error\"])\n",
    "print(\"MAPE Test:\", cv_results[\"test_neg_mean_absolute_percentage_error\"])\n",
    "print(\"Mean MAPE Test:\", cv_results[\"test_neg_mean_absolute_percentage_error\"].mean())"
   ]
  },
  {
   "cell_type": "markdown",
   "id": "a6cb4179-68e4-4e06-b0bc-c5f3515c129b",
   "metadata": {},
   "source": [
    "__Second Cross Valdiation results - using hyperparameters preventing overfitting__"
   ]
  },
  {
   "cell_type": "code",
   "execution_count": 162,
   "id": "e8104f08-620b-4de0-a1e8-c79f16ce5b7c",
   "metadata": {
    "tags": []
   },
   "outputs": [
    {
     "name": "stdout",
     "output_type": "stream",
     "text": [
      "MAE Train: [-512.66680418 -511.74585426 -524.3884941  -515.10513399 -514.00352169]\n",
      "MAE Test: [-597.57408586 -601.48777099 -557.98270693 -590.63736765 -621.90763098]\n",
      "Mean MAE Test: -593.917912482687\n",
      "-------------------\n",
      "R2 Train: [0.93985089 0.94092595 0.94101321 0.94014286 0.93441413]\n",
      "R2 Test: [0.90845257 0.87831325 0.88615913 0.90301722 0.91610054]\n",
      "Mean R2 Test: 0.8984085405327547\n",
      "-------------------\n",
      "MAPE Train: [-0.09903068 -0.10006266 -0.10174366 -0.09911698 -0.10006158]\n",
      "MAPE Test: [-0.11329038 -0.10491154 -0.10683667 -0.11369132 -0.10999497]\n",
      "Mean MAPE Test: -0.10974497449604972\n"
     ]
    }
   ],
   "source": [
    "params = {\n",
    "    \"learning_rate\": 0.05,\n",
    "    \"max_depth\": 3,\n",
    "    \"min_child_weight\": 5,\n",
    "    \"subsample\": 0.8,\n",
    "    \"colsample_bytree\": 0.8,\n",
    "    \"reg_alpha\": 0.1,\n",
    "    \"reg_lambda\": 1,\n",
    "    \"n_estimators\": 150\n",
    "}\n",
    "\n",
    "model = XGBRegressor(**params)\n",
    "\n",
    "cv_results = cross_validate(\n",
    "    model, X_train, y_train, cv=cv,\n",
    "    scoring=[\"neg_mean_absolute_error\", \"r2\", \"neg_mean_absolute_percentage_error\"],\n",
    "    return_train_score=True\n",
    ")\n",
    "\n",
    "print(\"MAE Train:\", cv_results[\"train_neg_mean_absolute_error\"])\n",
    "print(\"MAE Test:\", cv_results[\"test_neg_mean_absolute_error\"])\n",
    "print(\"Mean MAE Test:\", cv_results[\"test_neg_mean_absolute_error\"].mean())\n",
    "print(\"-------------------\")\n",
    "print(\"R2 Train:\", cv_results[\"train_r2\"])\n",
    "print(\"R2 Test:\", cv_results[\"test_r2\"])\n",
    "print(\"Mean R2 Test:\", cv_results[\"test_r2\"].mean())\n",
    "print(\"-------------------\")\n",
    "print(\"MAPE Train:\", cv_results[\"train_neg_mean_absolute_percentage_error\"])\n",
    "print(\"MAPE Test:\", cv_results[\"test_neg_mean_absolute_percentage_error\"])\n",
    "print(\"Mean MAPE Test:\", cv_results[\"test_neg_mean_absolute_percentage_error\"].mean())"
   ]
  },
  {
   "cell_type": "markdown",
   "id": "01d3c83e-4d40-459d-a11b-a95ad4debbd3",
   "metadata": {
    "tags": []
   },
   "source": [
    "__Out of time performance__"
   ]
  },
  {
   "cell_type": "code",
   "execution_count": 172,
   "id": "6b0aa0a6-a2c0-42af-8453-09fd88eb3590",
   "metadata": {
    "tags": []
   },
   "outputs": [
    {
     "name": "stdout",
     "output_type": "stream",
     "text": [
      "Out-of-Time Sample Scores:\n",
      "MAE: 549.664068760016\n",
      "R2: 0.8934478505480276\n",
      "MAPE: 0.11512829184965051\n"
     ]
    }
   ],
   "source": [
    "model = XGBRegressor(**params)\n",
    "model.fit(X_train, y_train)\n",
    "\n",
    "y_pred_oot = model.predict(X_out_of_time)\n",
    "\n",
    "mae_oot = mean_absolute_error(y_out_of_time, y_pred_oot)\n",
    "r2_oot = r2_score(y_out_of_time, y_pred_oot)\n",
    "mape_oot = mean_absolute_percentage_error(y_out_of_time, y_pred_oot)\n",
    "\n",
    "print(\"Out-of-Time Sample Scores:\")\n",
    "print(\"MAE:\", mae_oot)\n",
    "print(\"R2:\", r2_oot)\n",
    "print(\"MAPE:\", mape_oot)"
   ]
  },
  {
   "cell_type": "markdown",
   "id": "e3504795-e597-45cf-9696-73c2c8d0eddc",
   "metadata": {
    "tags": []
   },
   "source": [
    "__Feature Selection - RFECV__"
   ]
  },
  {
   "cell_type": "code",
   "execution_count": 210,
   "id": "13619fac-410d-42f7-ab77-df3d4b03fe45",
   "metadata": {
    "tags": []
   },
   "outputs": [
    {
     "name": "stdout",
     "output_type": "stream",
     "text": [
      "Optimal number of features: 46\n"
     ]
    },
    {
     "data": {
      "image/png": "[encoded data removed]",
      "text/plain": [
       "<Figure size 1000x600 with 1 Axes>"
      ]
     },
     "metadata": {},
     "output_type": "display_data"
    }
   ],
   "source": [
    "model = XGBRegressor()\n",
    "rfecv = RFECV(estimator=model, step=1, cv=cv, scoring='neg_mean_absolute_error')\n",
    "rfecv.fit(X_train, y_train)\n",
    "print(\"Optimal number of features:\", rfecv.n_features_)\n",
    "\n",
    "n_scores = len(rfecv.cv_results_[\"mean_test_score\"])\n",
    "plt.figure(figsize=(10, 6))\n",
    "plt.xlabel(\"Number of features selected\")\n",
    "plt.ylabel(\"Mean test accuracy\")\n",
    "plt.errorbar(\n",
    "    range(1, n_scores + 1),\n",
    "    rfecv.cv_results_[\"mean_test_score\"],\n",
    "    yerr=rfecv.cv_results_[\"std_test_score\"],\n",
    ")\n",
    "plt.show()"
   ]
  },
  {
   "cell_type": "markdown",
   "id": "807ac0b2-ecdb-43d1-bd0e-61f85eeacb0a",
   "metadata": {
    "tags": []
   },
   "source": [
    "__Feature Selection - RFE__"
   ]
  },
  {
   "cell_type": "code",
   "execution_count": 218,
   "id": "7ea8f579-b565-4945-9d29-94dd8b19c812",
   "metadata": {
    "tags": []
   },
   "outputs": [
    {
     "name": "stdout",
     "output_type": "stream",
     "text": [
      "Selected features: 'area', 'room_number', 'terrace', 'separate_kitchen', 'utility_room', 'building_age', 'air_conditioning', 'distance_to_subway', 'distance_to_center', 'avg_price', 'bt_tenement', 'ac_basic', 'ac_premium', 'ac_superior', 'Targowek', 'Wilanow'\n"
     ]
    }
   ],
   "source": [
    "model = XGBRegressor()\n",
    "rfe = RFE(estimator=model, n_features_to_select=16, step=1)\n",
    "rfe.fit(X_train, y_train)\n",
    "\n",
    "selected_features = X_train.columns[rfe.support_]\n",
    "print(f'Selected features: {str(list(selected_features))[1:-1]}')"
   ]
  },
  {
   "cell_type": "code",
   "execution_count": 348,
   "id": "23b05055-fc0e-4330-a194-5b0459c9abfb",
   "metadata": {
    "tags": []
   },
   "outputs": [
    {
     "data": {
      "text/plain": [
       "array([ 50,  75, 100, 125, 150])"
      ]
     },
     "execution_count": 348,
     "metadata": {},
     "output_type": "execute_result"
    }
   ],
   "source": [
    "np.arange(50, 151, 25)"
   ]
  },
  {
   "cell_type": "code",
   "execution_count": 354,
   "id": "507b7d13-839d-4959-b9b3-e83594bc1ce9",
   "metadata": {
    "tags": []
   },
   "outputs": [
    {
     "name": "stdout",
     "output_type": "stream",
     "text": [
      "Fitting 5 folds for each of 562500 candidates, totalling 2812500 fits\n"
     ]
    },
    {
     "ename": "KeyboardInterrupt",
     "evalue": "",
     "output_type": "error",
     "traceback": [
      "\u001b[1;31m---------------------------------------------------------------------------\u001b[0m",
      "\u001b[1;31mKeyboardInterrupt\u001b[0m                         Traceback (most recent call last)",
      "Cell \u001b[1;32mIn[354], line 22\u001b[0m\n\u001b[0;32m     12\u001b[0m model \u001b[38;5;241m=\u001b[39m XGBRegressor()\n\u001b[0;32m     13\u001b[0m grid_search \u001b[38;5;241m=\u001b[39m GridSearchCV(\n\u001b[0;32m     14\u001b[0m     estimator\u001b[38;5;241m=\u001b[39mmodel,\n\u001b[0;32m     15\u001b[0m     param_grid\u001b[38;5;241m=\u001b[39mparam_grid,\n\u001b[1;32m   (...)\u001b[0m\n\u001b[0;32m     19\u001b[0m     n_jobs\u001b[38;5;241m=\u001b[39m\u001b[38;5;241m-\u001b[39m\u001b[38;5;241m1\u001b[39m\n\u001b[0;32m     20\u001b[0m )\n\u001b[1;32m---> 22\u001b[0m grid_search\u001b[38;5;241m.\u001b[39mfit(X_train[selected_features], y_train)\n\u001b[0;32m     24\u001b[0m \u001b[38;5;28mprint\u001b[39m(\u001b[38;5;124m\"\u001b[39m\u001b[38;5;124mBest parameters:\u001b[39m\u001b[38;5;124m\"\u001b[39m, grid_search\u001b[38;5;241m.\u001b[39mbest_params_)\n\u001b[0;32m     25\u001b[0m \u001b[38;5;28mprint\u001b[39m(\u001b[38;5;124m\"\u001b[39m\u001b[38;5;124mBest CV score (Negative MAE):\u001b[39m\u001b[38;5;124m\"\u001b[39m, grid_search\u001b[38;5;241m.\u001b[39mbest_score_)\n",
      "File \u001b[1;32m~\\anaconda3\\Lib\\site-packages\\sklearn\\base.py:1351\u001b[0m, in \u001b[0;36m_fit_context.<locals>.decorator.<locals>.wrapper\u001b[1;34m(estimator, *args, **kwargs)\u001b[0m\n\u001b[0;32m   1344\u001b[0m     estimator\u001b[38;5;241m.\u001b[39m_validate_params()\n\u001b[0;32m   1346\u001b[0m \u001b[38;5;28;01mwith\u001b[39;00m config_context(\n\u001b[0;32m   1347\u001b[0m     skip_parameter_validation\u001b[38;5;241m=\u001b[39m(\n\u001b[0;32m   1348\u001b[0m         prefer_skip_nested_validation \u001b[38;5;129;01mor\u001b[39;00m global_skip_validation\n\u001b[0;32m   1349\u001b[0m     )\n\u001b[0;32m   1350\u001b[0m ):\n\u001b[1;32m-> 1351\u001b[0m     \u001b[38;5;28;01mreturn\u001b[39;00m fit_method(estimator, \u001b[38;5;241m*\u001b[39margs, \u001b[38;5;241m*\u001b[39m\u001b[38;5;241m*\u001b[39mkwargs)\n",
      "File \u001b[1;32m~\\anaconda3\\Lib\\site-packages\\sklearn\\model_selection\\_search.py:970\u001b[0m, in \u001b[0;36mBaseSearchCV.fit\u001b[1;34m(self, X, y, **params)\u001b[0m\n\u001b[0;32m    964\u001b[0m     results \u001b[38;5;241m=\u001b[39m \u001b[38;5;28mself\u001b[39m\u001b[38;5;241m.\u001b[39m_format_results(\n\u001b[0;32m    965\u001b[0m         all_candidate_params, n_splits, all_out, all_more_results\n\u001b[0;32m    966\u001b[0m     )\n\u001b[0;32m    968\u001b[0m     \u001b[38;5;28;01mreturn\u001b[39;00m results\n\u001b[1;32m--> 970\u001b[0m \u001b[38;5;28mself\u001b[39m\u001b[38;5;241m.\u001b[39m_run_search(evaluate_candidates)\n\u001b[0;32m    972\u001b[0m \u001b[38;5;66;03m# multimetric is determined here because in the case of a callable\u001b[39;00m\n\u001b[0;32m    973\u001b[0m \u001b[38;5;66;03m# self.scoring the return type is only known after calling\u001b[39;00m\n\u001b[0;32m    974\u001b[0m first_test_score \u001b[38;5;241m=\u001b[39m all_out[\u001b[38;5;241m0\u001b[39m][\u001b[38;5;124m\"\u001b[39m\u001b[38;5;124mtest_scores\u001b[39m\u001b[38;5;124m\"\u001b[39m]\n",
      "File \u001b[1;32m~\\anaconda3\\Lib\\site-packages\\sklearn\\model_selection\\_search.py:1527\u001b[0m, in \u001b[0;36mGridSearchCV._run_search\u001b[1;34m(self, evaluate_candidates)\u001b[0m\n\u001b[0;32m   1525\u001b[0m \u001b[38;5;28;01mdef\u001b[39;00m \u001b[38;5;21m_run_search\u001b[39m(\u001b[38;5;28mself\u001b[39m, evaluate_candidates):\n\u001b[0;32m   1526\u001b[0m \u001b[38;5;250m    \u001b[39m\u001b[38;5;124;03m\"\"\"Search all candidates in param_grid\"\"\"\u001b[39;00m\n\u001b[1;32m-> 1527\u001b[0m     evaluate_candidates(ParameterGrid(\u001b[38;5;28mself\u001b[39m\u001b[38;5;241m.\u001b[39mparam_grid))\n",
      "File \u001b[1;32m~\\anaconda3\\Lib\\site-packages\\sklearn\\model_selection\\_search.py:916\u001b[0m, in \u001b[0;36mBaseSearchCV.fit.<locals>.evaluate_candidates\u001b[1;34m(candidate_params, cv, more_results)\u001b[0m\n\u001b[0;32m    908\u001b[0m \u001b[38;5;28;01mif\u001b[39;00m \u001b[38;5;28mself\u001b[39m\u001b[38;5;241m.\u001b[39mverbose \u001b[38;5;241m>\u001b[39m \u001b[38;5;241m0\u001b[39m:\n\u001b[0;32m    909\u001b[0m     \u001b[38;5;28mprint\u001b[39m(\n\u001b[0;32m    910\u001b[0m         \u001b[38;5;124m\"\u001b[39m\u001b[38;5;124mFitting \u001b[39m\u001b[38;5;132;01m{0}\u001b[39;00m\u001b[38;5;124m folds for each of \u001b[39m\u001b[38;5;132;01m{1}\u001b[39;00m\u001b[38;5;124m candidates,\u001b[39m\u001b[38;5;124m\"\u001b[39m\n\u001b[0;32m    911\u001b[0m         \u001b[38;5;124m\"\u001b[39m\u001b[38;5;124m totalling \u001b[39m\u001b[38;5;132;01m{2}\u001b[39;00m\u001b[38;5;124m fits\u001b[39m\u001b[38;5;124m\"\u001b[39m\u001b[38;5;241m.\u001b[39mformat(\n\u001b[0;32m    912\u001b[0m             n_splits, n_candidates, n_candidates \u001b[38;5;241m*\u001b[39m n_splits\n\u001b[0;32m    913\u001b[0m         )\n\u001b[0;32m    914\u001b[0m     )\n\u001b[1;32m--> 916\u001b[0m out \u001b[38;5;241m=\u001b[39m parallel(\n\u001b[0;32m    917\u001b[0m     delayed(_fit_and_score)(\n\u001b[0;32m    918\u001b[0m         clone(base_estimator),\n\u001b[0;32m    919\u001b[0m         X,\n\u001b[0;32m    920\u001b[0m         y,\n\u001b[0;32m    921\u001b[0m         train\u001b[38;5;241m=\u001b[39mtrain,\n\u001b[0;32m    922\u001b[0m         test\u001b[38;5;241m=\u001b[39mtest,\n\u001b[0;32m    923\u001b[0m         parameters\u001b[38;5;241m=\u001b[39mparameters,\n\u001b[0;32m    924\u001b[0m         split_progress\u001b[38;5;241m=\u001b[39m(split_idx, n_splits),\n\u001b[0;32m    925\u001b[0m         candidate_progress\u001b[38;5;241m=\u001b[39m(cand_idx, n_candidates),\n\u001b[0;32m    926\u001b[0m         \u001b[38;5;241m*\u001b[39m\u001b[38;5;241m*\u001b[39mfit_and_score_kwargs,\n\u001b[0;32m    927\u001b[0m     )\n\u001b[0;32m    928\u001b[0m     \u001b[38;5;28;01mfor\u001b[39;00m (cand_idx, parameters), (split_idx, (train, test)) \u001b[38;5;129;01min\u001b[39;00m product(\n\u001b[0;32m    929\u001b[0m         \u001b[38;5;28menumerate\u001b[39m(candidate_params),\n\u001b[0;32m    930\u001b[0m         \u001b[38;5;28menumerate\u001b[39m(cv\u001b[38;5;241m.\u001b[39msplit(X, y, \u001b[38;5;241m*\u001b[39m\u001b[38;5;241m*\u001b[39mrouted_params\u001b[38;5;241m.\u001b[39msplitter\u001b[38;5;241m.\u001b[39msplit)),\n\u001b[0;32m    931\u001b[0m     )\n\u001b[0;32m    932\u001b[0m )\n\u001b[0;32m    934\u001b[0m \u001b[38;5;28;01mif\u001b[39;00m \u001b[38;5;28mlen\u001b[39m(out) \u001b[38;5;241m<\u001b[39m \u001b[38;5;241m1\u001b[39m:\n\u001b[0;32m    935\u001b[0m     \u001b[38;5;28;01mraise\u001b[39;00m \u001b[38;5;167;01mValueError\u001b[39;00m(\n\u001b[0;32m    936\u001b[0m         \u001b[38;5;124m\"\u001b[39m\u001b[38;5;124mNo fits were performed. \u001b[39m\u001b[38;5;124m\"\u001b[39m\n\u001b[0;32m    937\u001b[0m         \u001b[38;5;124m\"\u001b[39m\u001b[38;5;124mWas the CV iterator empty? \u001b[39m\u001b[38;5;124m\"\u001b[39m\n\u001b[0;32m    938\u001b[0m         \u001b[38;5;124m\"\u001b[39m\u001b[38;5;124mWere there no candidates?\u001b[39m\u001b[38;5;124m\"\u001b[39m\n\u001b[0;32m    939\u001b[0m     )\n",
      "File \u001b[1;32m~\\anaconda3\\Lib\\site-packages\\sklearn\\utils\\parallel.py:67\u001b[0m, in \u001b[0;36mParallel.__call__\u001b[1;34m(self, iterable)\u001b[0m\n\u001b[0;32m     62\u001b[0m config \u001b[38;5;241m=\u001b[39m get_config()\n\u001b[0;32m     63\u001b[0m iterable_with_config \u001b[38;5;241m=\u001b[39m (\n\u001b[0;32m     64\u001b[0m     (_with_config(delayed_func, config), args, kwargs)\n\u001b[0;32m     65\u001b[0m     \u001b[38;5;28;01mfor\u001b[39;00m delayed_func, args, kwargs \u001b[38;5;129;01min\u001b[39;00m iterable\n\u001b[0;32m     66\u001b[0m )\n\u001b[1;32m---> 67\u001b[0m \u001b[38;5;28;01mreturn\u001b[39;00m \u001b[38;5;28msuper\u001b[39m()\u001b[38;5;241m.\u001b[39m\u001b[38;5;21m__call__\u001b[39m(iterable_with_config)\n",
      "File \u001b[1;32m~\\anaconda3\\Lib\\site-packages\\joblib\\parallel.py:1061\u001b[0m, in \u001b[0;36mParallel.__call__\u001b[1;34m(self, iterable)\u001b[0m\n\u001b[0;32m   1058\u001b[0m     \u001b[38;5;28mself\u001b[39m\u001b[38;5;241m.\u001b[39m_iterating \u001b[38;5;241m=\u001b[39m \u001b[38;5;28;01mFalse\u001b[39;00m\n\u001b[0;32m   1060\u001b[0m \u001b[38;5;28;01mwith\u001b[39;00m \u001b[38;5;28mself\u001b[39m\u001b[38;5;241m.\u001b[39m_backend\u001b[38;5;241m.\u001b[39mretrieval_context():\n\u001b[1;32m-> 1061\u001b[0m     \u001b[38;5;28mself\u001b[39m\u001b[38;5;241m.\u001b[39mretrieve()\n\u001b[0;32m   1062\u001b[0m \u001b[38;5;66;03m# Make sure that we get a last message telling us we are done\u001b[39;00m\n\u001b[0;32m   1063\u001b[0m elapsed_time \u001b[38;5;241m=\u001b[39m time\u001b[38;5;241m.\u001b[39mtime() \u001b[38;5;241m-\u001b[39m \u001b[38;5;28mself\u001b[39m\u001b[38;5;241m.\u001b[39m_start_time\n",
      "File \u001b[1;32m~\\anaconda3\\Lib\\site-packages\\joblib\\parallel.py:938\u001b[0m, in \u001b[0;36mParallel.retrieve\u001b[1;34m(self)\u001b[0m\n\u001b[0;32m    936\u001b[0m \u001b[38;5;28;01mtry\u001b[39;00m:\n\u001b[0;32m    937\u001b[0m     \u001b[38;5;28;01mif\u001b[39;00m \u001b[38;5;28mgetattr\u001b[39m(\u001b[38;5;28mself\u001b[39m\u001b[38;5;241m.\u001b[39m_backend, \u001b[38;5;124m'\u001b[39m\u001b[38;5;124msupports_timeout\u001b[39m\u001b[38;5;124m'\u001b[39m, \u001b[38;5;28;01mFalse\u001b[39;00m):\n\u001b[1;32m--> 938\u001b[0m         \u001b[38;5;28mself\u001b[39m\u001b[38;5;241m.\u001b[39m_output\u001b[38;5;241m.\u001b[39mextend(job\u001b[38;5;241m.\u001b[39mget(timeout\u001b[38;5;241m=\u001b[39m\u001b[38;5;28mself\u001b[39m\u001b[38;5;241m.\u001b[39mtimeout))\n\u001b[0;32m    939\u001b[0m     \u001b[38;5;28;01melse\u001b[39;00m:\n\u001b[0;32m    940\u001b[0m         \u001b[38;5;28mself\u001b[39m\u001b[38;5;241m.\u001b[39m_output\u001b[38;5;241m.\u001b[39mextend(job\u001b[38;5;241m.\u001b[39mget())\n",
      "File \u001b[1;32m~\\anaconda3\\Lib\\site-packages\\joblib\\_parallel_backends.py:542\u001b[0m, in \u001b[0;36mLokyBackend.wrap_future_result\u001b[1;34m(future, timeout)\u001b[0m\n\u001b[0;32m    539\u001b[0m \u001b[38;5;250m\u001b[39m\u001b[38;5;124;03m\"\"\"Wrapper for Future.result to implement the same behaviour as\u001b[39;00m\n\u001b[0;32m    540\u001b[0m \u001b[38;5;124;03mAsyncResults.get from multiprocessing.\"\"\"\u001b[39;00m\n\u001b[0;32m    541\u001b[0m \u001b[38;5;28;01mtry\u001b[39;00m:\n\u001b[1;32m--> 542\u001b[0m     \u001b[38;5;28;01mreturn\u001b[39;00m future\u001b[38;5;241m.\u001b[39mresult(timeout\u001b[38;5;241m=\u001b[39mtimeout)\n\u001b[0;32m    543\u001b[0m \u001b[38;5;28;01mexcept\u001b[39;00m CfTimeoutError \u001b[38;5;28;01mas\u001b[39;00m e:\n\u001b[0;32m    544\u001b[0m     \u001b[38;5;28;01mraise\u001b[39;00m \u001b[38;5;167;01mTimeoutError\u001b[39;00m \u001b[38;5;28;01mfrom\u001b[39;00m \u001b[38;5;21;01me\u001b[39;00m\n",
      "File \u001b[1;32m~\\anaconda3\\Lib\\concurrent\\futures\\_base.py:451\u001b[0m, in \u001b[0;36mFuture.result\u001b[1;34m(self, timeout)\u001b[0m\n\u001b[0;32m    448\u001b[0m \u001b[38;5;28;01melif\u001b[39;00m \u001b[38;5;28mself\u001b[39m\u001b[38;5;241m.\u001b[39m_state \u001b[38;5;241m==\u001b[39m FINISHED:\n\u001b[0;32m    449\u001b[0m     \u001b[38;5;28;01mreturn\u001b[39;00m \u001b[38;5;28mself\u001b[39m\u001b[38;5;241m.\u001b[39m__get_result()\n\u001b[1;32m--> 451\u001b[0m \u001b[38;5;28mself\u001b[39m\u001b[38;5;241m.\u001b[39m_condition\u001b[38;5;241m.\u001b[39mwait(timeout)\n\u001b[0;32m    453\u001b[0m \u001b[38;5;28;01mif\u001b[39;00m \u001b[38;5;28mself\u001b[39m\u001b[38;5;241m.\u001b[39m_state \u001b[38;5;129;01min\u001b[39;00m [CANCELLED, CANCELLED_AND_NOTIFIED]:\n\u001b[0;32m    454\u001b[0m     \u001b[38;5;28;01mraise\u001b[39;00m CancelledError()\n",
      "File \u001b[1;32m~\\anaconda3\\Lib\\threading.py:320\u001b[0m, in \u001b[0;36mCondition.wait\u001b[1;34m(self, timeout)\u001b[0m\n\u001b[0;32m    318\u001b[0m \u001b[38;5;28;01mtry\u001b[39;00m:    \u001b[38;5;66;03m# restore state no matter what (e.g., KeyboardInterrupt)\u001b[39;00m\n\u001b[0;32m    319\u001b[0m     \u001b[38;5;28;01mif\u001b[39;00m timeout \u001b[38;5;129;01mis\u001b[39;00m \u001b[38;5;28;01mNone\u001b[39;00m:\n\u001b[1;32m--> 320\u001b[0m         waiter\u001b[38;5;241m.\u001b[39macquire()\n\u001b[0;32m    321\u001b[0m         gotit \u001b[38;5;241m=\u001b[39m \u001b[38;5;28;01mTrue\u001b[39;00m\n\u001b[0;32m    322\u001b[0m     \u001b[38;5;28;01melse\u001b[39;00m:\n",
      "\u001b[1;31mKeyboardInterrupt\u001b[0m: "
     ]
    }
   ],
   "source": [
    "param_grid = {\n",
    "    \"max_depth\": np.arange(1, 4),\n",
    "    \"learning_rate\": np.linspace(1e-4, 0.05, 6),\n",
    "    \"n_estimators\": np.arange(50, 151, 25),\n",
    "    \"subsample\": np.linspace(0.5, 1.0, 5),\n",
    "    \"colsample_bytree\": np.linspace(0.5, 1.0, 5),\n",
    "    \"min_child_weight\": np.arange(0, 10),\n",
    "    \"reg_alpha\": np.linspace(0, 1.0, 5),\n",
    "    \"reg_lambda\": np.linspace(0, 1.0, 5),\n",
    "}\n",
    "\n",
    "model = XGBRegressor()\n",
    "grid_search = GridSearchCV(\n",
    "    estimator=model,\n",
    "    param_grid=param_grid,\n",
    "    scoring='neg_mean_absolute_error',\n",
    "    cv=cv,\n",
    "    verbose=1,\n",
    "    n_jobs=-1\n",
    ")\n",
    "\n",
    "grid_search.fit(X_train[selected_features], y_train)\n",
    "\n",
    "print(\"Best parameters:\", grid_search.best_params_)\n",
    "print(\"Best CV score (Negative MAE):\", grid_search.best_score_)"
   ]
  },
  {
   "cell_type": "code",
   "execution_count": 302,
   "id": "65f67698-ffe6-4d94-8fc8-8d802f954570",
   "metadata": {
    "tags": []
   },
   "outputs": [],
   "source": [
    "best_model = random_search.best_estimator_"
   ]
  },
  {
   "cell_type": "code",
   "execution_count": 303,
   "id": "47add055-4e9f-487c-a747-90e889dd639e",
   "metadata": {
    "tags": []
   },
   "outputs": [
    {
     "name": "stdout",
     "output_type": "stream",
     "text": [
      "Out-of-Time Sample Scores:\n",
      "MAE: 516.7196681986885\n",
      "R2: 0.9394629897178727\n",
      "MAPE: 0.10030678979853302\n"
     ]
    }
   ],
   "source": [
    "y_pred_oot = best_model.predict(X_train[selected_features])\n",
    "\n",
    "mae_oot = mean_absolute_error(y_train, y_pred_oot)\n",
    "r2_oot = r2_score(y_train, y_pred_oot)\n",
    "mape_oot = mean_absolute_percentage_error(y_train, y_pred_oot)\n",
    "\n",
    "print(\"Out-of-Time Sample Scores:\")\n",
    "print(\"MAE:\", mae_oot)\n",
    "print(\"R2:\", r2_oot)\n",
    "print(\"MAPE:\", mape_oot)"
   ]
  },
  {
   "cell_type": "code",
   "execution_count": 304,
   "id": "42f089a3-a066-47ec-b765-f003a72ee228",
   "metadata": {
    "tags": []
   },
   "outputs": [
    {
     "name": "stdout",
     "output_type": "stream",
     "text": [
      "Out-of-Time Sample Scores:\n",
      "MAE: 554.2757581773695\n",
      "R2: 0.8988664850999013\n",
      "MAPE: 0.11589855079775627\n"
     ]
    }
   ],
   "source": [
    "y_pred_oot = best_model.predict(X_out_of_time[selected_features])\n",
    "\n",
    "mae_oot = mean_absolute_error(y_out_of_time, y_pred_oot)\n",
    "r2_oot = r2_score(y_out_of_time, y_pred_oot)\n",
    "mape_oot = mean_absolute_percentage_error(y_out_of_time, y_pred_oot)\n",
    "\n",
    "print(\"Out-of-Time Sample Scores:\")\n",
    "print(\"MAE:\", mae_oot)\n",
    "print(\"R2:\", r2_oot)\n",
    "print(\"MAPE:\", mape_oot)"
   ]
  },
  {
   "cell_type": "code",
   "execution_count": null,
   "id": "410e2f72-d1d7-492a-a907-4b3be0dbd835",
   "metadata": {},
   "outputs": [],
   "source": []
  }
 ],
 "metadata": {
  "kernelspec": {
   "display_name": "Python 3 (ipykernel)",
   "language": "python",
   "name": "python3"
  },
  "language_info": {
   "codemirror_mode": {
    "name": "ipython",
    "version": 3
   },
   "file_extension": ".py",
   "mimetype": "text/x-python",
   "name": "python",
   "nbconvert_exporter": "python",
   "pygments_lexer": "ipython3",
   "version": "3.11.5"
  }
 },
 "nbformat": 4,
 "nbformat_minor": 5
}
