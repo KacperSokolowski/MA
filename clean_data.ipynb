{
 "cells": [
  {
   "cell_type": "code",
   "execution_count": 139,
   "id": "0c41b5f1-50ce-4b4a-8671-8d614172dd63",
   "metadata": {},
   "outputs": [],
   "source": [
    "from importlib import reload \n",
    "import datakit\n",
    "reload(datakit)\n",
    "from datakit import *\n",
    "import os\n",
    "import warnings\n",
    "\n",
    "pd.set_option('display.max_columns', None)\n",
    "os.environ['KMP_DUPLICATE_LIB_OK'] = 'True'\n",
    "warnings.filterwarnings('ignore')"
   ]
  },
  {
   "cell_type": "code",
   "execution_count": null,
   "id": "6245affb-27dc-44fe-9b50-a77d98e8bc46",
   "metadata": {},
   "outputs": [],
   "source": [
    "subways_location = {\n",
    "    'Plac Wilsona': {'Latitude': 52.26902, 'Longitude': 20.985},\n",
    "    'Wilanowska': {'Latitude': 52.18098, 'Longitude': 21.02364},\n",
    "    'Centrum': {'Latitude': 52.23055, 'Longitude': 21.01091},\n",
    "    'Stokłosy': {'Latitude': 52.15583, 'Longitude': 21.0347},\n",
    "    'Wierzbno': {'Latitude': 52.18932, 'Longitude': 21.01726},\n",
    "    'Pole Mokotowskie': {'Latitude': 52.2079, 'Longitude': 21.00837},\n",
    "    'Swiętokrzyska': {'Latitude': 52.23499, 'Longitude': 21.00835},\n",
    "    'Ratusz': {'Latitude': 52.24476, 'Longitude': 21.00082},\n",
    "    'Marymont': {'Latitude': 52.27178, 'Longitude': 20.97232},\n",
    "    'Imielin': {'Latitude': 52.14952, 'Longitude': 21.04543},\n",
    "    'Kabaty': {'Latitude': 52.13109, 'Longitude': 21.06604},\n",
    "    'Ursynów': {'Latitude': 52.16217, 'Longitude': 21.02858},\n",
    "    'Natolin': {'Latitude': 52.14033, 'Longitude': 21.05776},\n",
    "    'Bemowo': {'Latitude': 52.2393879, 'Longitude': 20.9175868},\n",
    "    'Ulrychów': {'Latitude': 52.2402211, 'Longitude': 20.9286984},\n",
    "    'Księcia Janusza': {'Latitude': 52.238989, 'Longitude': 20.9413589},\n",
    "    'Młynów': {'Latitude': 52.2370368, 'Longitude': 20.9582514},\n",
    "    'Płocka': {'Latitude': 52.2331322, 'Longitude': 20.9672229},\n",
    "    'Rondo Daszyńskiego': {'Latitude': 52.2302503, 'Longitude': 20.9812049},\n",
    "    'Rondo ONZ': {'Latitude': 52.2326673, 'Longitude': 20.9943419},\n",
    "    'Nowy Świat Uniwersytet': {'Latitude': 52.2372522, 'Longitude': 21.0163951},\n",
    "    'Centrum Nauki Kopernik': {'Latitude': 52.2405898, 'Longitude': 21.029495},\n",
    "    'Stadion Narodowy': {'Latitude': 52.2468026, 'Longitude': 21.0437104},\n",
    "    'Wileński': {'Latitude': 52.2552165, 'Longitude': 21.0373375},\n",
    "    'Szwedzka': {'Latitude': 52.2658294, 'Longitude': 21.0477777},\n",
    "    'Targówek+Mieszkaniowy': {'Latitude': 52.278611, 'Longitude': 21.0478345},\n",
    "    'Zacisze': {'Latitude': 52.278611, 'Longitude': 21.0478345},\n",
    "    'Kondratowicza': {'Latitude': 52.2844033, 'Longitude': 21.0489269},\n",
    "    'Bródno': {'Latitude': 52.2844033, 'Longitude': 21.0489269}}"
   ]
  },
  {
   "cell_type": "code",
   "execution_count": null,
   "id": "a68b4591-42d4-4076-9610-779cfbbdf42d",
   "metadata": {
    "tags": []
   },
   "outputs": [],
   "source": [
    "df = concat_csv_files()"
   ]
  },
  {
   "cell_type": "code",
   "execution_count": null,
   "id": "eaf1d2b4-4c70-4d26-8392-de6b6dcd1e8c",
   "metadata": {
    "tags": []
   },
   "outputs": [],
   "source": [
    "df.shape[0]"
   ]
  },
  {
   "cell_type": "code",
   "execution_count": null,
   "id": "505c3c35-525e-459b-b0dc-b5b1267ebad2",
   "metadata": {
    "tags": []
   },
   "outputs": [],
   "source": [
    "df = remove_duplicates(df)"
   ]
  },
  {
   "cell_type": "code",
   "execution_count": null,
   "id": "d75e4a43-73be-4c45-bae1-38f45c156e47",
   "metadata": {
    "tags": []
   },
   "outputs": [],
   "source": [
    "df.shape[0]"
   ]
  },
  {
   "cell_type": "code",
   "execution_count": null,
   "id": "841484ba-6ecf-48ec-a27b-6930f054fe07",
   "metadata": {
    "tags": []
   },
   "outputs": [],
   "source": [
    "%%time\n",
    "df = scrub_data(df)"
   ]
  }
 ],
 "metadata": {
  "kernelspec": {
   "display_name": "Python 3 (ipykernel)",
   "language": "python",
   "name": "python3"
  },
  "language_info": {
   "codemirror_mode": {
    "name": "ipython",
    "version": 3
   },
   "file_extension": ".py",
   "mimetype": "text/x-python",
   "name": "python",
   "nbconvert_exporter": "python",
   "pygments_lexer": "ipython3",
   "version": "3.11.5"
  }
 },
 "nbformat": 4,
 "nbformat_minor": 5
}
