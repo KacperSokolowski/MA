{
 "cells": [
  {
   "cell_type": "code",
   "execution_count": 48,
   "id": "0c41b5f1-50ce-4b4a-8671-8d614172dd63",
   "metadata": {},
   "outputs": [],
   "source": [
    "from importlib import reload \n",
    "import data_scrub\n",
    "reload(data_scrub)\n",
    "from data_scrub import *\n",
    "\n",
    "pd.set_option('display.max_columns', None)"
   ]
  },
  {
   "cell_type": "code",
   "execution_count": null,
   "id": "0386bc67-ff71-4104-9a59-fefdef4749dc",
   "metadata": {},
   "outputs": [
    {
     "name": "stdout",
     "output_type": "stream",
     "text": [
      "10 1055 1013 828 1308 1210 5424\n"
     ]
    }
   ],
   "source": []
  },
  {
   "cell_type": "code",
   "execution_count": null,
   "id": "610a9173-cd81-48ab-a401-f97f9aca03a9",
   "metadata": {},
   "outputs": [
    {
     "ename": "NameError",
     "evalue": "name 'pd' is not defined",
     "output_type": "error",
     "traceback": [
      "\u001b[1;31m---------------------------------------------------------------------------\u001b[0m",
      "\u001b[1;31mNameError\u001b[0m                                 Traceback (most recent call last)",
      "Cell \u001b[1;32mIn[2], line 1\u001b[0m\n\u001b[1;32m----> 1\u001b[0m df \u001b[38;5;241m=\u001b[39m pd\u001b[38;5;241m.\u001b[39mread_csv(\u001b[38;5;124m'\u001b[39m\u001b[38;5;124mdata_raw/otodom_last7_2024_04_18.csv\u001b[39m\u001b[38;5;124m'\u001b[39m)\n\u001b[0;32m      3\u001b[0m df\u001b[38;5;241m.\u001b[39mreset_index(drop\u001b[38;5;241m=\u001b[39m\u001b[38;5;28;01mTrue\u001b[39;00m)\n\u001b[0;32m      4\u001b[0m df[\u001b[38;5;124m'\u001b[39m\u001b[38;5;124mfurnishings_list\u001b[39m\u001b[38;5;124m'\u001b[39m] \u001b[38;5;241m=\u001b[39m df[\u001b[38;5;124m'\u001b[39m\u001b[38;5;124mfurnishings\u001b[39m\u001b[38;5;124m'\u001b[39m]\u001b[38;5;241m.\u001b[39mstr\u001b[38;5;241m.\u001b[39mreplace(\u001b[38;5;124m\"\u001b[39m\u001b[38;5;124m'\u001b[39m\u001b[38;5;124m\"\u001b[39m, \u001b[38;5;124m\"\u001b[39m\u001b[38;5;124m\"\u001b[39m)\u001b[38;5;241m.\u001b[39mstr\u001b[38;5;241m.\u001b[39msplit(\u001b[38;5;124m'\u001b[39m\u001b[38;5;124m, \u001b[39m\u001b[38;5;124m'\u001b[39m)\n",
      "\u001b[1;31mNameError\u001b[0m: name 'pd' is not defined"
     ]
    }
   ],
   "source": [
    "df = pd.read_csv('data_raw/otodom_last7_2024_04_18.csv')\n",
    "\n",
    "df.reset_index(drop=True)\n",
    "df['furnishings_list'] = df['furnishings'].str.replace(\"'\", \"\").str.split(', ')\n",
    "exploded_df = df['furnishings_list'].explode()\n",
    "dummies = pd.get_dummies(exploded_df)\n",
    "dummies = dummies.groupby(level=0).max()#.astype(bool)\n",
    "translations = {\n",
    "    'kuchenka': 'stove',\n",
    "    'lodówka': 'fridge',\n",
    "    'meble': 'furniture',\n",
    "    'piekarnik': 'oven',\n",
    "    'pralka': 'washing_machine',\n",
    "    'telewizor': 'television',\n",
    "    'zmywarka': 'dishwasher'\n",
    "}\n",
    "dummies.rename(columns=translations, inplace=True)\n",
    "\n",
    "df = df.join(dummies)\n",
    "df[['furnishings', 'stove', 'fridge', 'furniture', 'oven', 'washing_machine', 'television', 'dishwasher']]"
   ]
  },
  {
   "cell_type": "code",
   "execution_count": null,
   "id": "60f40b2a-db62-4e89-84be-7ccbdfe09765",
   "metadata": {},
   "outputs": [],
   "source": [
    "df[df.stove.eq(False)].reset_index().link[0]"
   ]
  },
  {
   "cell_type": "code",
   "execution_count": 3,
   "id": "6245affb-27dc-44fe-9b50-a77d98e8bc46",
   "metadata": {},
   "outputs": [],
   "source": [
    "subways_location = {\n",
    "    'Plac Wilsona': {'Latitude': 52.26902, 'Longitude': 20.985},\n",
    "    'Wilanowska': {'Latitude': 52.18098, 'Longitude': 21.02364},\n",
    "    'Centrum': {'Latitude': 52.23055, 'Longitude': 21.01091},\n",
    "    'Stokłosy': {'Latitude': 52.15583, 'Longitude': 21.0347},\n",
    "    'Wierzbno': {'Latitude': 52.18932, 'Longitude': 21.01726},\n",
    "    'Pole Mokotowskie': {'Latitude': 52.2079, 'Longitude': 21.00837},\n",
    "    'Swiętokrzyska': {'Latitude': 52.23499, 'Longitude': 21.00835},\n",
    "    'Ratusz': {'Latitude': 52.24476, 'Longitude': 21.00082},\n",
    "    'Marymont': {'Latitude': 52.27178, 'Longitude': 20.97232},\n",
    "    'Imielin': {'Latitude': 52.14952, 'Longitude': 21.04543},\n",
    "    'Kabaty': {'Latitude': 52.13109, 'Longitude': 21.06604},\n",
    "    'Ursynów': {'Latitude': 52.16217, 'Longitude': 21.02858},\n",
    "    'Natolin': {'Latitude': 52.14033, 'Longitude': 21.05776},\n",
    "    'Bemowo': {'Latitude': 52.2393879, 'Longitude': 20.9175868},\n",
    "    'Ulrychów': {'Latitude': 52.2402211, 'Longitude': 20.9286984},\n",
    "    'Księcia Janusza': {'Latitude': 52.238989, 'Longitude': 20.9413589},\n",
    "    'Młynów': {'Latitude': 52.2370368, 'Longitude': 20.9582514},\n",
    "    'Płocka': {'Latitude': 52.2331322, 'Longitude': 20.9672229},\n",
    "    'Rondo Daszyńskiego': {'Latitude': 52.2302503, 'Longitude': 20.9812049},\n",
    "    'Rondo ONZ': zzz{'Latitude': 52.2326673, 'Longitude': 20.9943419},\n",
    "    'Nowy Świat Uniwersytet': {'Latitude': 52.2372522, 'Longitude': 21.0163951},\n",
    "    'Centrum Nauki Kopernik': {'Latitude': 52.2405898, 'Longitude': 21.029495},\n",
    "    'Stadion Narodowy': {'Latitude': 52.2468026, 'Longitude': 21.0437104},\n",
    "    'Wileński': {'Latitude': 52.2552165, 'Longitude': 21.0373375},\n",
    "    'Szwedzka': {'Latitude': 52.2658294, 'Longitude': 21.0477777},\n",
    "    'Targówek+Mieszkaniowy': {'Latitude': 52.278611, 'Longitude': 21.0478345},\n",
    "    'Zacisze': {'Latitude': 52.278611, 'Longitude': 21.0478345},\n",
    "    'Kondratowicza': {'Latitude': 52.2844033, 'Longitude': 21.0489269},\n",
    "    'Bródno': {'Latitude': 52.2844033, 'Longitude': 21.0489269}}"
   ]
  },
  {
   "cell_type": "code",
   "execution_count": 62,
   "id": "c69087cd-0813-444d-b5ae-fa3145e51ee9",
   "metadata": {},
   "outputs": [],
   "source": [
    "df_1 = pd.read_csv('data_raw/otodom_last7_2024_03_22.csv')"
   ]
  },
  {
   "cell_type": "code",
   "execution_count": null,
   "id": "27a21273-015f-4e05-9e14-8bcbb8a0b442",
   "metadata": {},
   "outputs": [],
   "source": [
    "import morfeusz2\n",
    "\n",
    "morf = morfeusz2.Morfeusz()\n",
    "\n",
    "# Expanded furnishing keywords\n",
    "keywords = ['zmywarka']\n",
    "\n",
    "def contains_keywords_morf(description: str, keywords: list):\n",
    "    doc = nlp(description.lower())\n",
    "    contains_keywords = False\n",
    "    for token in doc:\n",
    "        analysis = morf.analyse(token.text)\n",
    "        contains_keywords = True if analysis[0][2][1] in keywords else contains_keywords\n",
    "        if contains_keywords:\n",
    "            break\n",
    "            \n",
    "    return contains_keywords\n",
    "\n",
    "contains_keywords_morf(\"Po obiedzie włożyłem brudne naczynia do zmywarką, aby mieć więcej czasu na relaks.\")"
   ]
  },
  {
   "cell_type": "code",
   "execution_count": null,
   "id": "57a5e6e0-cdc0-4783-8ff0-c173a4d6333e",
   "metadata": {
    "tags": []
   },
   "outputs": [],
   "source": [
    "furnishing_keywords = [\n",
    "    'umeblować', 'wyposażyć', 'mebel', 'łóżko', 'sofa', 'szafa', 'pralka'\n",
    "]"
   ]
  },
  {
   "cell_type": "code",
   "execution_count": null,
   "id": "60deb816-84c7-4385-a53e-a5da320b2393",
   "metadata": {
    "tags": []
   },
   "outputs": [],
   "source": [
    "analysis = morf.analyse(\"klimatyzacją\")\n",
    "furnished = False\n",
    "for entry in analysis:\n",
    "    print(entry[2][1])"
   ]
  },
  {
   "cell_type": "code",
   "execution_count": null,
   "id": "9ca8cc47-1ab7-4d7c-8e2c-2824d0546730",
   "metadata": {
    "tags": []
   },
   "outputs": [],
   "source": [
    "import morfeusz2\n",
    "\n",
    "morf = morfeusz2.Morfeusz()\n",
    "\n",
    "keywords = ['umeblować', 'wyposażyć', 'mebel', 'łóżko', 'sofa', 'szafa', 'pralka']\n",
    "\n",
    "analysis = morf.analyse(\"klimatyzacja\")\n",
    "furnished = False\n",
    "for entry in analysis:\n",
    "    furnished = True if entry[2][1] in furnishing_keywords else furnished\n",
    "    \n",
    "print(furnished)"
   ]
  },
  {
   "cell_type": "code",
   "execution_count": null,
   "id": "2dd8c9ee-5233-43aa-a758-a0fe96b336a4",
   "metadata": {},
   "outputs": [],
   "source": [
    "[]"
   ]
  },
  {
   "cell_type": "code",
   "execution_count": null,
   "id": "e5904809-3009-4cf0-9254-9b451992ed6d",
   "metadata": {},
   "outputs": [],
   "source": []
  }
 ],
 "metadata": {
  "kernelspec": {
   "display_name": "Python 3 (ipykernel)",
   "language": "python",
   "name": "python3"
  },
  "language_info": {
   "codemirror_mode": {
    "name": "ipython",
    "version": 3
   },
   "file_extension": ".py",
   "mimetype": "text/x-python",
   "name": "python",
   "nbconvert_exporter": "python",
   "pygments_lexer": "ipython3",
   "version": "3.11.5"
  }
 },
 "nbformat": 4,
 "nbformat_minor": 5
}
