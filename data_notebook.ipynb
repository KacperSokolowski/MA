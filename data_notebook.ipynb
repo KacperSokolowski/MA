{
 "cells": [
  {
   "cell_type": "code",
   "execution_count": 3,
   "id": "95d5b6e7-a498-4e8b-84f1-a97479bc3c4f",
   "metadata": {},
   "outputs": [],
   "source": [
    "from scraper import *"
   ]
  },
  {
   "cell_type": "code",
   "execution_count": 7,
   "id": "d9973a7c-808c-41d4-9bfd-ec9ee0ed5eb2",
   "metadata": {
    "tags": []
   },
   "outputs": [],
   "source": [
    "driver = initialize_otodom_scraper()"
   ]
  },
  {
   "cell_type": "code",
   "execution_count": 9,
   "id": "8792ad15-5d02-4d42-824f-237a57cd06dc",
   "metadata": {
    "tags": []
   },
   "outputs": [],
   "source": [
    "driver.get(\"https://www.otodom.pl/pl/oferta/kawalerka-35m2-na-wynajem-sadyba-ID4qbLs\")"
   ]
  },
  {
   "cell_type": "code",
   "execution_count": 11,
   "id": "f1613731-dbe4-4706-adc7-8db0fc389a2f",
   "metadata": {
    "tags": []
   },
   "outputs": [
    {
     "data": {
      "text/plain": [
       "{'latitude': '52.184972', 'longitude': '21.048123', 'approximate': False}"
      ]
     },
     "execution_count": 11,
     "metadata": {},
     "output_type": "execute_result"
    }
   ],
   "source": [
    "get_location_from_map(driver)"
   ]
  },
  {
   "cell_type": "code",
   "execution_count": null,
   "id": "8d84c462-9448-49bc-b550-d44fa3f980e6",
   "metadata": {},
   "outputs": [],
   "source": [
    "first_page_url = 'https://www.otodom.pl/pl/wyniki/wynajem/mieszkanie/mazowieckie/warszawa/warszawa/warszawa?distanceRadius=0&limit=36&daysSinceCreated=7&by=DEFAULT&direction=DESC&viewType=listing&page=1'\n",
    "\n",
    "run_otodom_scraper(\n",
    "    first_page_url = first_page_url,\n",
    "    add_filtered_links = False,\n",
    "    filtered_links_dict = {},\n",
    "    return_df = False,\n",
    "    sleep_length = 1,\n",
    "    save_as_csv = True,\n",
    "    csv_file_name_prefix = 'otodom_last7',\n",
    "    csv_destination_path = 'data_raw',\n",
    ")"
   ]
  }
 ],
 "metadata": {
  "kernelspec": {
   "display_name": "Python 3 (ipykernel)",
   "language": "python",
   "name": "python3"
  },
  "language_info": {
   "codemirror_mode": {
    "name": "ipython",
    "version": 3
   },
   "file_extension": ".py",
   "mimetype": "text/x-python",
   "name": "python",
   "nbconvert_exporter": "python",
   "pygments_lexer": "ipython3",
   "version": "3.11.5"
  }
 },
 "nbformat": 4,
 "nbformat_minor": 5
}
