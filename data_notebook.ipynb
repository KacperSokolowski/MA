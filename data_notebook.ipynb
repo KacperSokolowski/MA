{
 "cells": [
  {
   "cell_type": "code",
   "execution_count": 11,
   "id": "bbcebf92-2a7b-41a0-adce-2dfbe33c5146",
   "metadata": {},
   "outputs": [],
   "source": [
    "import scraper\n",
    "from importlib import reload\n",
    "\n",
    "reload(scraper)\n",
    "from scraper import *"
   ]
  },
  {
   "cell_type": "code",
   "execution_count": 2,
   "id": "6db2dda2-ab20-4ad9-a447-625e5e77bc0f",
   "metadata": {},
   "outputs": [],
   "source": [
    "driver = initialize_otodom_scraper()"
   ]
  },
  {
   "cell_type": "code",
   "execution_count": 3,
   "id": "135964c9-debb-4e99-9906-aa6d1c566832",
   "metadata": {},
   "outputs": [],
   "source": [
    "first_page_url = 'https://www.otodom.pl/pl/wyniki/wynajem/mieszkanie/mazowieckie/warszawa/warszawa/warszawa?distanceRadius=0&limit=36&extras=%5BIS_PRIVATE_OWNER%5D&by=DEFAULT&direction=DESC&viewType=listing&page=2'\n",
    "announcements_links = get_announcements_links(driver, first_page_url)"
   ]
  },
  {
   "cell_type": "code",
   "execution_count": 4,
   "id": "d570bb6f-cbfb-4eab-ab02-4eab8f62becf",
   "metadata": {},
   "outputs": [],
   "source": [
    "df = scrape_otodom_announcement(driver, announcements_links, 1, True, 'otodom_privite')"
   ]
  },
  {
   "cell_type": "code",
   "execution_count": 5,
   "id": "f4708f1d-3e93-430d-8de9-b806e357b111",
   "metadata": {},
   "outputs": [],
   "source": [
    "first_page_url = 'https://www.otodom.pl/pl/wyniki/wynajem/mieszkanie/mazowieckie/warszawa/warszawa/warszawa?distanceRadius=0&limit=36&daysSinceCreated=7&by=DEFAULT&direction=DESC&viewType=listing&page=2'\n",
    "announcements_links = get_announcements_links(driver, first_page_url)"
   ]
  },
  {
   "cell_type": "code",
   "execution_count": 6,
   "id": "5cd4111e-5fb6-4973-8e54-5d0d5fdb39b4",
   "metadata": {},
   "outputs": [],
   "source": [
    "df = scrape_otodom_announcement(driver, announcements_links[0:10], 1, True, 'otodom_last7')"
   ]
  },
  {
   "cell_type": "code",
   "execution_count": 12,
   "id": "47356810-3984-487a-9d9b-913c70000856",
   "metadata": {},
   "outputs": [],
   "source": [
    "first_page_url = 'https://www.otodom.pl/pl/wyniki/wynajem/mieszkanie%2C3-pokoje/mazowieckie/warszawa/warszawa/warszawa?distanceRadius=0&limit=36&daysSinceCreated=1&by=DEFAULT&direction=DESC&viewType=listing&page=2'\n",
    "filtered_links_dict = {\n",
    "    'air_conditioning' : 'https://www.otodom.pl/pl/wyniki/wynajem/mieszkanie/mazowieckie/warszawa/warszawa/warszawa?distanceRadius=0&limit=36&extras=%5BAIR_CONDITIONING%5D&by=DEFAULT&direction=DESC&viewType=listing&page=2'\n",
    "}\n",
    "run_otodom_scraper(\n",
    "    first_page_url = first_page_url,\n",
    "    add_filtered_links = True, \n",
    "    filtered_links_dict = filtered_links_dict,\n",
    "    return_df = False,\n",
    "    sleep_length = 1,\n",
    "    save_as_csv = True,\n",
    "    csv_file_name_prefix = 'test',\n",
    "    csv_destination_path = 'data_raw',\n",
    ")"
   ]
  }
 ],
 "metadata": {
  "kernelspec": {
   "display_name": "Python 3 (ipykernel)",
   "language": "python",
   "name": "python3"
  },
  "language_info": {
   "codemirror_mode": {
    "name": "ipython",
    "version": 3
   },
   "file_extension": ".py",
   "mimetype": "text/x-python",
   "name": "python",
   "nbconvert_exporter": "python",
   "pygments_lexer": "ipython3",
   "version": "3.11.5"
  }
 },
 "nbformat": 4,
 "nbformat_minor": 5
}
