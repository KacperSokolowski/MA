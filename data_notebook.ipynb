{
 "cells": [
  {
   "cell_type": "code",
   "execution_count": 21,
   "id": "bbcebf92-2a7b-41a0-adce-2dfbe33c5146",
   "metadata": {},
   "outputs": [],
   "source": [
    "import scraper\n",
    "from importlib import reload\n",
    "\n",
    "reload(scraper)\n",
    "from scraper import *"
   ]
  },
  {
   "cell_type": "code",
   "execution_count": 22,
   "id": "6db2dda2-ab20-4ad9-a447-625e5e77bc0f",
   "metadata": {},
   "outputs": [],
   "source": [
    "driver = initialize_otodom_scraper()"
   ]
  },
  {
   "cell_type": "code",
   "execution_count": null,
   "id": "ee78f43e-3f1d-4e34-8a06-092c63645742",
   "metadata": {},
   "outputs": [],
   "source": []
  }
 ],
 "metadata": {
  "kernelspec": {
   "display_name": "Python 3 (ipykernel)",
   "language": "python",
   "name": "python3"
  },
  "language_info": {
   "codemirror_mode": {
    "name": "ipython",
    "version": 3
   },
   "file_extension": ".py",
   "mimetype": "text/x-python",
   "name": "python",
   "nbconvert_exporter": "python",
   "pygments_lexer": "ipython3",
   "version": "3.11.5"
  }
 },
 "nbformat": 4,
 "nbformat_minor": 5
}
