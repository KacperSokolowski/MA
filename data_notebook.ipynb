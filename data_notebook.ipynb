{
 "cells": [
  {
   "cell_type": "code",
   "execution_count": 30,
   "id": "7a59916f-cc62-4626-a489-5b9bd3558a71",
   "metadata": {
    "tags": []
   },
   "outputs": [],
   "source": [
    "import pandas as pd\n",
    "pd.set_option('display.max_columns', 500)"
   ]
  },
  {
   "cell_type": "code",
   "execution_count": 32,
   "id": "48ad883b-4fa2-4656-9887-8a6c7db99982",
   "metadata": {
    "tags": []
   },
   "outputs": [],
   "source": [
    "def find_warsaw_district(input_string) -> str:\n",
    "    \"\"\"\n",
    "    Identifies and returns a Warsaw district name from a given input string.\n",
    "\n",
    "    The function splits the input string by commas and checks each part against a list of Warsaw district names. \n",
    "    If one of the parts matches a district name, that district name is returned. If there are no matches, \n",
    "    the function returns None.\n",
    "\n",
    "    Parameters:\n",
    "    - input_string (str): The string to be analyzed, which can contain multiple comma-separated values.\n",
    "\n",
    "    Returns:\n",
    "    - str or None: The name of a Warsaw district if found; otherwise, None.\n",
    "    \"\"\"\n",
    "    # List of Warsaw districts\n",
    "    warsaw_districts = [\n",
    "        \"Bemowo\", \"Białołęka\", \"Bielany\", \"Mokotów\", \"Ochota\",\n",
    "        \"Praga-Południe\", \"Praga-Północ\", \"Rembertów\", \"Śródmieście\",\n",
    "        \"Targówek\", \"Ursus\", \"Ursynów\", \"Wawer\", \"Wesoła\",\n",
    "        \"Wilanów\", \"Włochy\", \"Wola\", \"Żoliborz\"\n",
    "    ]\n",
    "\n",
    "    # Split the input string by commas\n",
    "    parts = input_string.split(',')\n",
    "\n",
    "    # Check each part for a match with Warsaw districts\n",
    "    for part in parts:\n",
    "        if part.strip() in warsaw_districts:\n",
    "            return part.strip()  # Return the matching district name\n",
    "\n",
    "    return None"
   ]
  },
  {
   "cell_type": "code",
   "execution_count": 34,
   "id": "dfce9c73-8767-48a4-902a-5ec8faaa4bff",
   "metadata": {
    "tags": []
   },
   "outputs": [],
   "source": [
    "def extract_ad_dates(row):\n",
    "    ad_info = row['announcement_date']\n",
    "    \n",
    "    update_date_part = [line for line in ad_info.split('\\\\n') if 'Aktualizacja:' in line]\n",
    "    last_update = update_date_part[0].replace(\"('Aktualizacja: \", '').strip() if update_date_part else None\n",
    "    \n",
    "    added_date_part = [line for line in ad_info.split('\\\\n') if 'Dodano:' in line]\n",
    "    ad_added = added_date_part[0].replace('Dodano: ', '').strip() if added_date_part else None\n",
    "    \n",
    "    return pd.Series([last_update, ad_added])"
   ]
  },
  {
   "cell_type": "code",
   "execution_count": 36,
   "id": "f3494e0d-ca1e-4cf6-8f9f-0aa9ca2716d9",
   "metadata": {
    "tags": []
   },
   "outputs": [],
   "source": [
    "def process_data(data_draw):\n",
    "    \n",
    "    df = data_draw.copy()\n",
    "    df['district'] = df['location'].apply(lambda x: find_warsaw_district(str(x)))\n",
    "    df = df[~df.district.isna()]\n",
    "    \n",
    "    df[['last_update', 'added_dt']] = df.apply(extract_ad_dates, axis=1)\n",
    "    df.drop(['announcement_date'], axis=1, inplace=True)\n",
    "    df['expired'] = 0\n",
    "    df['expired_date'] = None\n",
    "    to_order = ['added_dt', 'last_update', 'link', 'expired', 'expired_date']\n",
    "    columns_order = to_order + [col for col in df.columns if col not in to_order]\n",
    "    df = df[columns_order]\n",
    "    \n",
    "    return df"
   ]
  },
  {
   "cell_type": "code",
   "execution_count": 38,
   "id": "4507fa28-1b5c-4de5-bc1d-7c87024dd094",
   "metadata": {
    "tags": []
   },
   "outputs": [],
   "source": [
    "df = pd.read_csv('data_raw\\otodom_scraped_data\\otodom_2025_01_05.csv')"
   ]
  },
  {
   "cell_type": "code",
   "execution_count": 40,
   "id": "12c921b9-3691-4573-8265-fa565951a892",
   "metadata": {
    "tags": []
   },
   "outputs": [],
   "source": [
    "df = process_data(df)"
   ]
  },
  {
   "cell_type": "code",
   "execution_count": 4,
   "id": "e5022870-cbfb-403f-8e15-bf4e20280303",
   "metadata": {
    "tags": []
   },
   "outputs": [],
   "source": [
    "import pandas as pd"
   ]
  },
  {
   "cell_type": "code",
   "execution_count": 6,
   "id": "fb5d00bc-1427-4803-ae00-d8a3f77d1e05",
   "metadata": {
    "tags": []
   },
   "outputs": [],
   "source": [
    "path = f'data_processed/main.csv'\n",
    "main = pd.read_csv(path)"
   ]
  },
  {
   "cell_type": "code",
   "execution_count": 28,
   "id": "849ecb98-3c07-45d5-be4f-acffdc91a018",
   "metadata": {
    "tags": []
   },
   "outputs": [
    {
     "data": {
      "text/plain": [
       "['2024_12_29',\n",
       " '2025_01_02',\n",
       " '2025_01_03',\n",
       " '2025_01_04',\n",
       " '2025_01_06',\n",
       " '2025_01_07',\n",
       " '2025_01_08',\n",
       " '2025_01_09']"
      ]
     },
     "execution_count": 28,
     "metadata": {},
     "output_type": "execute_result"
    }
   ],
   "source": [
    "sorted([date for date in list(main.expired_date.unique()) if isinstance(date, str)])"
   ]
  },
  {
   "cell_type": "code",
   "execution_count": 24,
   "id": "f26569b4-8914-41d3-bcc9-956c41f08292",
   "metadata": {
    "tags": []
   },
   "outputs": [],
   "source": [
    "main['expired_date'] = main['expired_date'].replace('2025_01_10', '2025_01_09')"
   ]
  },
  {
   "cell_type": "code",
   "execution_count": 44,
   "id": "9d1b610e-cb69-4568-aa73-3b8542a6a3a7",
   "metadata": {
    "tags": []
   },
   "outputs": [],
   "source": [
    "df = df[~df.link.isin(main.link)]"
   ]
  },
  {
   "cell_type": "code",
   "execution_count": 26,
   "id": "73f708e2-80c7-4a87-9014-cd6d4f024a1e",
   "metadata": {
    "tags": []
   },
   "outputs": [
    {
     "ename": "NameError",
     "evalue": "name 'df' is not defined",
     "output_type": "error",
     "traceback": [
      "\u001b[1;31m---------------------------------------------------------------------------\u001b[0m",
      "\u001b[1;31mNameError\u001b[0m                                 Traceback (most recent call last)",
      "Cell \u001b[1;32mIn[26], line 1\u001b[0m\n\u001b[1;32m----> 1\u001b[0m main \u001b[38;5;241m=\u001b[39m pd\u001b[38;5;241m.\u001b[39mconcat([main, df], ignore_index\u001b[38;5;241m=\u001b[39m\u001b[38;5;28;01mTrue\u001b[39;00m)\n",
      "\u001b[1;31mNameError\u001b[0m: name 'df' is not defined"
     ]
    }
   ],
   "source": [
    "main = pd.concat([main, df], ignore_index=True)"
   ]
  },
  {
   "cell_type": "code",
   "execution_count": 30,
   "id": "77a82cae-cdb8-4754-87d5-0a4a0f56f6d0",
   "metadata": {
    "tags": []
   },
   "outputs": [],
   "source": [
    "main.to_csv(path,\n",
    "          encoding='utf-8',\n",
    "          index=False)"
   ]
  },
  {
   "cell_type": "markdown",
   "id": "58dfc937-fc32-4b22-9b24-ff1aa1bb69ab",
   "metadata": {},
   "source": [
    "### ===="
   ]
  }
 ],
 "metadata": {
  "kernelspec": {
   "display_name": "Python 3 (ipykernel)",
   "language": "python",
   "name": "python3"
  },
  "language_info": {
   "codemirror_mode": {
    "name": "ipython",
    "version": 3
   },
   "file_extension": ".py",
   "mimetype": "text/x-python",
   "name": "python",
   "nbconvert_exporter": "python",
   "pygments_lexer": "ipython3",
   "version": "3.11.5"
  }
 },
 "nbformat": 4,
 "nbformat_minor": 5
}
