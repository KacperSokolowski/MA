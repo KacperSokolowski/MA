{
 "cells": [
  {
   "cell_type": "code",
   "execution_count": null,
   "id": "7a59916f-cc62-4626-a489-5b9bd3558a71",
   "metadata": {
    "tags": []
   },
   "outputs": [],
   "source": [
    "import pandas as pd\n",
    "pd.set_option('display.max_columns', 500)"
   ]
  },
  {
   "cell_type": "code",
   "execution_count": null,
   "id": "48ad883b-4fa2-4656-9887-8a6c7db99982",
   "metadata": {
    "tags": []
   },
   "outputs": [],
   "source": [
    "def find_warsaw_district(input_string) -> str:\n",
    "    \"\"\"\n",
    "    Identifies and returns a Warsaw district name from a given input string.\n",
    "\n",
    "    The function splits the input string by commas and checks each part against a list of Warsaw district names. \n",
    "    If one of the parts matches a district name, that district name is returned. If there are no matches, \n",
    "    the function returns None.\n",
    "\n",
    "    Parameters:\n",
    "    - input_string (str): The string to be analyzed, which can contain multiple comma-separated values.\n",
    "\n",
    "    Returns:\n",
    "    - str or None: The name of a Warsaw district if found; otherwise, None.\n",
    "    \"\"\"\n",
    "    # List of Warsaw districts\n",
    "    warsaw_districts = [\n",
    "        \"Bemowo\", \"Białołęka\", \"Bielany\", \"Mokotów\", \"Ochota\",\n",
    "        \"Praga-Południe\", \"Praga-Północ\", \"Rembertów\", \"Śródmieście\",\n",
    "        \"Targówek\", \"Ursus\", \"Ursynów\", \"Wawer\", \"Wesoła\",\n",
    "        \"Wilanów\", \"Włochy\", \"Wola\", \"Żoliborz\"\n",
    "    ]\n",
    "\n",
    "    # Split the input string by commas\n",
    "    parts = input_string.split(',')\n",
    "\n",
    "    # Check each part for a match with Warsaw districts\n",
    "    for part in parts:\n",
    "        if part.strip() in warsaw_districts:\n",
    "            return part.strip()  # Return the matching district name\n",
    "\n",
    "    return None"
   ]
  },
  {
   "cell_type": "code",
   "execution_count": null,
   "id": "dfce9c73-8767-48a4-902a-5ec8faaa4bff",
   "metadata": {
    "tags": []
   },
   "outputs": [],
   "source": [
    "def extract_ad_dates(row):\n",
    "    ad_info = row['announcement_date']\n",
    "    \n",
    "    update_date_part = [line for line in ad_info.split('\\\\n') if 'Aktualizacja:' in line]\n",
    "    last_update = update_date_part[0].replace(\"('Aktualizacja: \", '').strip() if update_date_part else None\n",
    "    \n",
    "    added_date_part = [line for line in ad_info.split('\\\\n') if 'Dodano:' in line]\n",
    "    ad_added = added_date_part[0].replace('Dodano: ', '').strip() if added_date_part else None\n",
    "    \n",
    "    return pd.Series([last_update, ad_added])"
   ]
  },
  {
   "cell_type": "code",
   "execution_count": null,
   "id": "f3494e0d-ca1e-4cf6-8f9f-0aa9ca2716d9",
   "metadata": {
    "tags": []
   },
   "outputs": [],
   "source": [
    "def process_data(data_draw):\n",
    "    \n",
    "    df = data_draw.copy()\n",
    "    df['district'] = df['location'].apply(lambda x: find_warsaw_district(str(x)))\n",
    "    df = df[~df.district.isna()]\n",
    "    \n",
    "    df[['last_update', 'added_dt']] = df.apply(extract_ad_dates, axis=1)\n",
    "    df.drop(['announcement_date'], axis=1, inplace=True)\n",
    "    df['expired'] = 0\n",
    "    df['expired_date'] = None\n",
    "    to_order = ['added_dt', 'last_update', 'link', 'expired', 'expired_date']\n",
    "    columns_order = to_order + [col for col in df.columns if col not in to_order]\n",
    "    df = df[columns_order]\n",
    "    \n",
    "    return df"
   ]
  },
  {
   "cell_type": "code",
   "execution_count": null,
   "id": "4507fa28-1b5c-4de5-bc1d-7c87024dd094",
   "metadata": {
    "tags": []
   },
   "outputs": [],
   "source": [
    "df = pd.read_csv('data_raw\\otodom_scraped_data\\otodom_2025_01_05.csv')"
   ]
  },
  {
   "cell_type": "code",
   "execution_count": null,
   "id": "12c921b9-3691-4573-8265-fa565951a892",
   "metadata": {
    "tags": []
   },
   "outputs": [],
   "source": [
    "df = process_data(df)"
   ]
  },
  {
   "cell_type": "code",
   "execution_count": 2,
   "id": "e5022870-cbfb-403f-8e15-bf4e20280303",
   "metadata": {
    "tags": []
   },
   "outputs": [],
   "source": [
    "import pandas as pd"
   ]
  },
  {
   "cell_type": "code",
   "execution_count": 4,
   "id": "fb5d00bc-1427-4803-ae00-d8a3f77d1e05",
   "metadata": {
    "tags": []
   },
   "outputs": [],
   "source": [
    "path = f'data_processed/main.csv'\n",
    "main = pd.read_csv(path)"
   ]
  },
  {
   "cell_type": "code",
   "execution_count": 5,
   "id": "849ecb98-3c07-45d5-be4f-acffdc91a018",
   "metadata": {
    "tags": []
   },
   "outputs": [
    {
     "data": {
      "text/plain": [
       "['2024_12_29',\n",
       " '2025_01_02',\n",
       " '2025_01_03',\n",
       " '2025_01_04',\n",
       " '2025_01_05',\n",
       " '2025_01_06',\n",
       " '2025_01_07',\n",
       " '2025_01_08',\n",
       " '2025_01_09',\n",
       " '2025_01_10',\n",
       " '2025_01_11',\n",
       " '2025_01_12',\n",
       " '2025_01_13',\n",
       " '2025_01_14',\n",
       " '2025_01_15',\n",
       " '2025_01_16',\n",
       " '2025_01_17',\n",
       " '2025_01_18',\n",
       " '2025_01_19',\n",
       " '2025_01_20',\n",
       " '2025_01_21',\n",
       " '2025_01_22',\n",
       " '2025_01_23',\n",
       " '2025_01_24',\n",
       " '2025_01_25',\n",
       " '2025_01_26',\n",
       " '2025_01_27',\n",
       " '2025_01_28',\n",
       " '2025_01_29',\n",
       " '2025_01_30',\n",
       " '2025_01_31',\n",
       " '2025_02_01',\n",
       " '2025_02_02',\n",
       " '2025_02_03',\n",
       " '2025_02_04',\n",
       " '2025_02_06',\n",
       " '2025_02_08',\n",
       " '2025_02_09',\n",
       " '2025_02_12',\n",
       " '2025_02_13',\n",
       " '2025_02_15',\n",
       " '2025_02_16',\n",
       " '2025_02_19',\n",
       " '2025_02_20',\n",
       " '2025_02_21',\n",
       " '2025_02_22',\n",
       " '2025_02_23',\n",
       " '2025_02_24',\n",
       " '2025_02_25',\n",
       " '2025_02_27']"
      ]
     },
     "execution_count": 5,
     "metadata": {},
     "output_type": "execute_result"
    }
   ],
   "source": [
    "sorted([date for date in list(main.expired_date.unique()) if isinstance(date, str)])"
   ]
  },
  {
   "cell_type": "code",
   "execution_count": 8,
   "id": "f26569b4-8914-41d3-bcc9-956c41f08292",
   "metadata": {
    "tags": []
   },
   "outputs": [],
   "source": [
    "main['expired_date'] = main['expired_date'].replace('2025_02_27', '2025_02_26')"
   ]
  },
  {
   "cell_type": "code",
   "execution_count": 10,
   "id": "e7123a9b-3708-4b90-bc5a-d9115c9e779a",
   "metadata": {
    "tags": []
   },
   "outputs": [
    {
     "data": {
      "text/plain": [
       "['2024_12_29',\n",
       " '2025_01_02',\n",
       " '2025_01_03',\n",
       " '2025_01_04',\n",
       " '2025_01_05',\n",
       " '2025_01_06',\n",
       " '2025_01_07',\n",
       " '2025_01_08',\n",
       " '2025_01_09',\n",
       " '2025_01_10',\n",
       " '2025_01_11',\n",
       " '2025_01_12',\n",
       " '2025_01_13',\n",
       " '2025_01_14',\n",
       " '2025_01_15',\n",
       " '2025_01_16',\n",
       " '2025_01_17',\n",
       " '2025_01_18',\n",
       " '2025_01_19',\n",
       " '2025_01_20',\n",
       " '2025_01_21',\n",
       " '2025_01_22',\n",
       " '2025_01_23',\n",
       " '2025_01_24',\n",
       " '2025_01_25',\n",
       " '2025_01_26',\n",
       " '2025_01_27',\n",
       " '2025_01_28',\n",
       " '2025_01_29',\n",
       " '2025_01_30',\n",
       " '2025_01_31',\n",
       " '2025_02_01',\n",
       " '2025_02_02',\n",
       " '2025_02_03',\n",
       " '2025_02_04',\n",
       " '2025_02_06',\n",
       " '2025_02_08',\n",
       " '2025_02_09',\n",
       " '2025_02_12',\n",
       " '2025_02_13',\n",
       " '2025_02_15',\n",
       " '2025_02_16',\n",
       " '2025_02_19',\n",
       " '2025_02_20',\n",
       " '2025_02_21',\n",
       " '2025_02_22',\n",
       " '2025_02_23',\n",
       " '2025_02_24',\n",
       " '2025_02_25',\n",
       " '2025_02_26']"
      ]
     },
     "execution_count": 10,
     "metadata": {},
     "output_type": "execute_result"
    }
   ],
   "source": [
    "sorted([date for date in list(main.expired_date.unique()) if isinstance(date, str)])"
   ]
  },
  {
   "cell_type": "code",
   "execution_count": null,
   "id": "73f708e2-80c7-4a87-9014-cd6d4f024a1e",
   "metadata": {
    "tags": []
   },
   "outputs": [],
   "source": [
    "main = pd.concat([main, df], ignore_index=True)"
   ]
  },
  {
   "cell_type": "code",
   "execution_count": 12,
   "id": "77a82cae-cdb8-4754-87d5-0a4a0f56f6d0",
   "metadata": {
    "tags": []
   },
   "outputs": [],
   "source": [
    "path = f'data_processed/main.csv'\n",
    "main.to_csv(path,\n",
    "          encoding='utf-8',\n",
    "          index=False)"
   ]
  },
  {
   "cell_type": "markdown",
   "id": "58dfc937-fc32-4b22-9b24-ff1aa1bb69ab",
   "metadata": {},
   "source": [
    "### ===="
   ]
  },
  {
   "cell_type": "markdown",
   "id": "0fd79412-4f5a-4ca9-8318-193362270d83",
   "metadata": {},
   "source": [
    "check for expired date"
   ]
  },
  {
   "cell_type": "code",
   "execution_count": 14,
   "id": "031a4614-4ba8-4794-9191-64a1622939e8",
   "metadata": {
    "tags": []
   },
   "outputs": [],
   "source": [
    "import pandas as pd\n",
    "path = f'data_processed/main.csv'\n",
    "main = pd.read_csv(path)"
   ]
  },
  {
   "cell_type": "code",
   "execution_count": 19,
   "id": "58bd4ae0-6fb0-4402-ab6e-67dca7a04e1b",
   "metadata": {
    "tags": []
   },
   "outputs": [
    {
     "data": {
      "text/html": [
       "<div>\n",
       "<style scoped>\n",
       "    .dataframe tbody tr th:only-of-type {\n",
       "        vertical-align: middle;\n",
       "    }\n",
       "\n",
       "    .dataframe tbody tr th {\n",
       "        vertical-align: top;\n",
       "    }\n",
       "\n",
       "    .dataframe thead th {\n",
       "        text-align: right;\n",
       "    }\n",
       "</style>\n",
       "<table border=\"1\" class=\"dataframe\">\n",
       "  <thead>\n",
       "    <tr style=\"text-align: right;\">\n",
       "      <th></th>\n",
       "      <th>link</th>\n",
       "      <th>expired</th>\n",
       "      <th>expired_date_x</th>\n",
       "      <th>expired_date_y</th>\n",
       "      <th>district</th>\n",
       "      <th>check</th>\n",
       "    </tr>\n",
       "  </thead>\n",
       "  <tbody>\n",
       "  </tbody>\n",
       "</table>\n",
       "</div>"
      ],
      "text/plain": [
       "Empty DataFrame\n",
       "Columns: [link, expired, expired_date_x, expired_date_y, district, check]\n",
       "Index: []"
      ]
     },
     "execution_count": 19,
     "metadata": {},
     "output_type": "execute_result"
    }
   ],
   "source": [
    "date = '2025_02_10'\n",
    "df = pd.read_csv(f'data_raw/search_for_inactive/search_for_inactive_{date}.csv')\n",
    "\n",
    "df = df[df.expired.eq(True)]\n",
    "check = pd.merge(df, main[['link', 'expired_date', 'district']], how='left', on='link')\n",
    "\n",
    "check['check'] = [True if a==b else False for a,b in zip(check['expired_date_x'], check['expired_date_y'])]\n",
    "check[check.check.eq(False)]"
   ]
  },
  {
   "cell_type": "code",
   "execution_count": 17,
   "id": "bee10fc3-e365-4628-8eec-6902bc028283",
   "metadata": {
    "tags": []
   },
   "outputs": [],
   "source": [
    "main.update(main[['link']].merge(df, on='link', how='left'), overwrite=True)"
   ]
  },
  {
   "cell_type": "code",
   "execution_count": null,
   "id": "95c60de6-780e-41ea-b04e-705c944ab8bb",
   "metadata": {
    "tags": []
   },
   "outputs": [],
   "source": []
  },
  {
   "cell_type": "code",
   "execution_count": null,
   "id": "e952db91-9f2f-4338-93b7-09c883735bd5",
   "metadata": {
    "tags": []
   },
   "outputs": [],
   "source": [
    "date2 = '2025_01_25'\n",
    "df2 = pd.read_csv(f'data_raw/search_for_inactive/search_for_inactive_{date2}.csv')\n",
    "df2 = df2[df2.expired.eq(True)]"
   ]
  },
  {
   "cell_type": "code",
   "execution_count": null,
   "id": "a00b7b7c-5c18-4f74-bc89-5b1a6b6b3d7e",
   "metadata": {
    "tags": []
   },
   "outputs": [],
   "source": [
    "df = check = pd.merge(df1, df2, how='outer', suffixes=('_24', '_25'), on='link')"
   ]
  },
  {
   "cell_type": "code",
   "execution_count": null,
   "id": "a5ff2fae-cc13-4e23-8fa2-69a214cdb42f",
   "metadata": {
    "tags": []
   },
   "outputs": [],
   "source": [
    "date1 = '2025_01_05'\n",
    "df1 = pd.read_csv(f'data_raw/search_for_inactive/search_for_inactive_{date1}.csv')\n",
    "df1 = df1[df1.expired.eq(True)]\n",
    "\n",
    "date = '2025_01_06'\n",
    "path = f'data_raw/search_for_inactive/search_for_inactive_{date}.csv'\n",
    "df = pd.read_csv(path)"
   ]
  },
  {
   "cell_type": "code",
   "execution_count": null,
   "id": "70670f24-0675-4975-b7b3-4af2dbfa009e",
   "metadata": {
    "tags": []
   },
   "outputs": [],
   "source": [
    "df = df[~df.link.isin(df1.link)]\n",
    "df[df.expired.eq(True)]"
   ]
  },
  {
   "cell_type": "code",
   "execution_count": null,
   "id": "5d8ab537-59f4-4559-96b7-749827092e0f",
   "metadata": {
    "tags": []
   },
   "outputs": [],
   "source": [
    "df.to_csv(path,\n",
    "          encoding='utf-8',\n",
    "          index=False)"
   ]
  },
  {
   "cell_type": "code",
   "execution_count": null,
   "id": "b6b0f498-2788-4559-b590-d014b07dac9f",
   "metadata": {},
   "outputs": [],
   "source": []
  },
  {
   "cell_type": "markdown",
   "id": "60293933-f360-4269-be45-474baa69696a",
   "metadata": {},
   "source": [
    "### ===="
   ]
  },
  {
   "cell_type": "markdown",
   "id": "af9187a2-1351-46a2-b0d8-6d6b50e7d65e",
   "metadata": {},
   "source": [
    "fill date added"
   ]
  },
  {
   "cell_type": "code",
   "execution_count": null,
   "id": "19bd30d9-272c-40f8-937a-da3e6dec233b",
   "metadata": {},
   "outputs": [],
   "source": [
    "new_records = process_data(new_records)\n",
    "new_records = new_records[~new_records.link.isin(main.link)]\n",
    "\n",
    "# Concat main and newly scraped announcements\n",
    "main = pd.concat([main, new_records], ignore_index=True)\n"
   ]
  },
  {
   "cell_type": "code",
   "execution_count": 325,
   "id": "d0551356-1b0b-4ecf-b04e-46d959cba0a4",
   "metadata": {
    "tags": []
   },
   "outputs": [],
   "source": [
    "import pandas as pd\n",
    "path = f'data_processed/main.csv'\n",
    "main = pd.read_csv(path)"
   ]
  },
  {
   "cell_type": "code",
   "execution_count": 12,
   "id": "e89a0bf0-22b2-4861-9d2e-1e8869ee1b29",
   "metadata": {
    "tags": []
   },
   "outputs": [
    {
     "data": {
      "text/html": [
       "<div>\n",
       "<style scoped>\n",
       "    .dataframe tbody tr th:only-of-type {\n",
       "        vertical-align: middle;\n",
       "    }\n",
       "\n",
       "    .dataframe tbody tr th {\n",
       "        vertical-align: top;\n",
       "    }\n",
       "\n",
       "    .dataframe thead th {\n",
       "        text-align: right;\n",
       "    }\n",
       "</style>\n",
       "<table border=\"1\" class=\"dataframe\">\n",
       "  <thead>\n",
       "    <tr style=\"text-align: right;\">\n",
       "      <th></th>\n",
       "      <th>added_dt</th>\n",
       "      <th>last_update</th>\n",
       "      <th>link</th>\n",
       "      <th>expired</th>\n",
       "      <th>expired_date</th>\n",
       "      <th>title</th>\n",
       "      <th>rent_price</th>\n",
       "      <th>area_room_num</th>\n",
       "      <th>floor</th>\n",
       "      <th>ogrzewanie</th>\n",
       "      <th>...</th>\n",
       "      <th>approximate_coordinates</th>\n",
       "      <th>year_of_construction</th>\n",
       "      <th>elevator</th>\n",
       "      <th>building_type</th>\n",
       "      <th>security</th>\n",
       "      <th>equipment</th>\n",
       "      <th>utilities</th>\n",
       "      <th>safeguards</th>\n",
       "      <th>adv_description</th>\n",
       "      <th>district</th>\n",
       "    </tr>\n",
       "  </thead>\n",
       "  <tbody>\n",
       "    <tr>\n",
       "      <th>0</th>\n",
       "      <td>22.12.2024</td>\n",
       "      <td>22.12.2024</td>\n",
       "      <td>https://www.otodom.pl/pl/oferta/piekne-mieszka...</td>\n",
       "      <td>1</td>\n",
       "      <td>2025_01_04</td>\n",
       "      <td>Piękne mieszkanie na warszawskich Skoroszach</td>\n",
       "      <td>3 000 zł\\n/miesiąc\\n+ Czynsz 600 zł</td>\n",
       "      <td>45m²\\nWynajmę również studentom\\n2 pokoje</td>\n",
       "      <td>3/6</td>\n",
       "      <td>inne</td>\n",
       "      <td>...</td>\n",
       "      <td>False</td>\n",
       "      <td>2013.0</td>\n",
       "      <td>tak</td>\n",
       "      <td>apartamentowiec</td>\n",
       "      <td>teren zamknięty\\nmonitoring / ochrona</td>\n",
       "      <td>zmywarka\\nlodówka\\nmeble\\npiekarnik\\nkuchenka\\...</td>\n",
       "      <td>NaN</td>\n",
       "      <td>drzwi / okna antywłamaniowe\\ndomofon / wideofon</td>\n",
       "      <td>Wynajmę mieszkanie 45 metrów na warszawskim Ur...</td>\n",
       "      <td>Ursus</td>\n",
       "    </tr>\n",
       "  </tbody>\n",
       "</table>\n",
       "<p>1 rows × 28 columns</p>\n",
       "</div>"
      ],
      "text/plain": [
       "     added_dt last_update                                               link  \\\n",
       "0  22.12.2024  22.12.2024  https://www.otodom.pl/pl/oferta/piekne-mieszka...   \n",
       "\n",
       "   expired expired_date                                         title  \\\n",
       "0        1   2025_01_04  Piękne mieszkanie na warszawskich Skoroszach   \n",
       "\n",
       "                            rent_price  \\\n",
       "0  3 000 zł\\n/miesiąc\\n+ Czynsz 600 zł   \n",
       "\n",
       "                               area_room_num floor ogrzewanie  ...  \\\n",
       "0  45m²\\nWynajmę również studentom\\n2 pokoje   3/6       inne  ...   \n",
       "\n",
       "  approximate_coordinates year_of_construction elevator    building_type  \\\n",
       "0                   False               2013.0      tak  apartamentowiec   \n",
       "\n",
       "                                security  \\\n",
       "0  teren zamknięty\\nmonitoring / ochrona   \n",
       "\n",
       "                                           equipment  utilities  \\\n",
       "0  zmywarka\\nlodówka\\nmeble\\npiekarnik\\nkuchenka\\...        NaN   \n",
       "\n",
       "                                        safeguards  \\\n",
       "0  drzwi / okna antywłamaniowe\\ndomofon / wideofon   \n",
       "\n",
       "                                     adv_description  district  \n",
       "0  Wynajmę mieszkanie 45 metrów na warszawskim Ur...     Ursus  \n",
       "\n",
       "[1 rows x 28 columns]"
      ]
     },
     "execution_count": 12,
     "metadata": {},
     "output_type": "execute_result"
    }
   ],
   "source": [
    "main.head(1)"
   ]
  },
  {
   "cell_type": "code",
   "execution_count": 337,
   "id": "65cfe752-e30f-4fcb-b370-c8f758eb2d9d",
   "metadata": {
    "tags": []
   },
   "outputs": [],
   "source": [
    "date = '2025_01_31'\n",
    "df = pd.read_csv(f'data_raw/otodom_scraped_data/otodom_{date}.csv')"
   ]
  },
  {
   "cell_type": "code",
   "execution_count": 339,
   "id": "8cd6861e-3797-4307-a37b-7b13adf48b1b",
   "metadata": {
    "tags": []
   },
   "outputs": [],
   "source": [
    "from toolkit import *"
   ]
  },
  {
   "cell_type": "code",
   "execution_count": 343,
   "id": "a805e546-c0e9-4fae-8034-d5f596c2afb3",
   "metadata": {
    "tags": []
   },
   "outputs": [],
   "source": [
    "new_records = process_data(df)\n",
    "new_records = new_records[~new_records.link.isin(main.link)]\n",
    "\n",
    "# Concat main and newly scraped announcements\n",
    "main = pd.concat([main, new_records], ignore_index=True)"
   ]
  },
  {
   "cell_type": "code",
   "execution_count": 345,
   "id": "6cf6d9c1-1448-48ad-aadc-5d3c618a83ef",
   "metadata": {
    "tags": []
   },
   "outputs": [],
   "source": [
    "main.loc[main.link.isin(df.link), 'added_dt'] = date"
   ]
  },
  {
   "cell_type": "code",
   "execution_count": 347,
   "id": "92ab5ec1-fd13-4b19-8978-ce644f379af5",
   "metadata": {
    "tags": []
   },
   "outputs": [
    {
     "data": {
      "text/plain": [
       "array(['2025_01_31'], dtype=object)"
      ]
     },
     "execution_count": 347,
     "metadata": {},
     "output_type": "execute_result"
    }
   ],
   "source": [
    "main[main.link.isin(df.link)].added_dt.unique()"
   ]
  },
  {
   "cell_type": "code",
   "execution_count": 349,
   "id": "1dca7e09-8671-4e28-af3d-6a62bf42a775",
   "metadata": {
    "tags": []
   },
   "outputs": [],
   "source": [
    "path = f'data_processed/main.csv'\n",
    "main.to_csv(path,\n",
    "          encoding='utf-8',\n",
    "          index=False)"
   ]
  }
 ],
 "metadata": {
  "kernelspec": {
   "display_name": "Python 3 (ipykernel)",
   "language": "python",
   "name": "python3"
  },
  "language_info": {
   "codemirror_mode": {
    "name": "ipython",
    "version": 3
   },
   "file_extension": ".py",
   "mimetype": "text/x-python",
   "name": "python",
   "nbconvert_exporter": "python",
   "pygments_lexer": "ipython3",
   "version": "3.11.5"
  }
 },
 "nbformat": 4,
 "nbformat_minor": 5
}
