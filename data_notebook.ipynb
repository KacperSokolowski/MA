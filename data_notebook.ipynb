{
 "cells": [
  {
   "cell_type": "code",
   "execution_count": 2,
   "id": "bbcebf92-2a7b-41a0-adce-2dfbe33c5146",
   "metadata": {},
   "outputs": [],
   "source": [
    "import scraper\n",
    "from importlib import reload\n",
    "\n",
    "reload(scraper)\n",
    "from scraper import *"
   ]
  },
  {
   "cell_type": "code",
   "execution_count": 3,
   "id": "6db2dda2-ab20-4ad9-a447-625e5e77bc0f",
   "metadata": {},
   "outputs": [],
   "source": [
    "driver = initialize_otodom_scraper()"
   ]
  },
  {
   "cell_type": "code",
   "execution_count": 4,
   "id": "135964c9-debb-4e99-9906-aa6d1c566832",
   "metadata": {},
   "outputs": [],
   "source": [
    "first_page_url = 'https://www.otodom.pl/pl/wyniki/wynajem/mieszkanie/mazowieckie/warszawa/warszawa/warszawa?distanceRadius=0&limit=36&extras=%5BIS_PRIVATE_OWNER%5D&by=DEFAULT&direction=DESC&viewType=listing&page=2'\n",
    "announcements_links = get_announcements_links(driver, first_page_url)"
   ]
  },
  {
   "cell_type": "code",
   "execution_count": 6,
   "id": "05cf5d0f-76be-440d-9070-87ae509f7148",
   "metadata": {},
   "outputs": [
    {
     "data": {
      "text/plain": [
       "'https://www.otodom.pl/pl/oferta/kawalerka-w-centrum-metro-arsenal-ID4pyCy'"
      ]
     },
     "execution_count": 6,
     "metadata": {},
     "output_type": "execute_result"
    }
   ],
   "source": [
    "announcements_links[605]"
   ]
  },
  {
   "cell_type": "code",
   "execution_count": null,
   "id": "cc7ca15b-d560-4fcf-aa3c-95fbcce31dda",
   "metadata": {},
   "outputs": [],
   "source": [
    "def click_button_by_text(driver, text):"
   ]
  },
  {
   "cell_type": "code",
   "execution_count": 9,
   "id": "cc706df5-37f4-4224-afe2-25cb4000bd28",
   "metadata": {},
   "outputs": [],
   "source": [
    "text = 'Pokaż więcej'\n",
    "button = driver.find_element(By.XPATH, f\"//button[.//span[contains(text(), '{text}')]]\")\n",
    "button.click()"
   ]
  },
  {
   "cell_type": "code",
   "execution_count": 11,
   "id": "721ef59f-eb95-425f-8d62-ee249036c6b7",
   "metadata": {},
   "outputs": [
    {
     "ename": "NameError",
     "evalue": "name 'button_text' is not defined",
     "output_type": "error",
     "traceback": [
      "\u001b[1;31m---------------------------------------------------------------------------\u001b[0m",
      "\u001b[1;31mNameError\u001b[0m                                 Traceback (most recent call last)",
      "Cell \u001b[1;32mIn[11], line 1\u001b[0m\n\u001b[1;32m----> 1\u001b[0m \u001b[38;5;124m\"\u001b[39m\u001b[38;5;124m//button[.//span[contains(text(), \u001b[39m\u001b[38;5;124m'\u001b[39m\u001b[38;5;132;01m{button_text}\u001b[39;00m\u001b[38;5;124m'\u001b[39m\u001b[38;5;124m)]]\u001b[39m\u001b[38;5;124m\"\u001b[39m\u001b[38;5;241m.\u001b[39mreplace({\u001b[38;5;124m\"\u001b[39m\u001b[38;5;124mbutton_text\u001b[39m\u001b[38;5;124m\"\u001b[39m : button_text})\n",
      "\u001b[1;31mNameError\u001b[0m: name 'button_text' is not defined"
     ]
    }
   ],
   "source": [
    "\"//button[.//span[contains(text(), '{button_text}')]]\".replace({\"button_text\" : button_text})"
   ]
  },
  {
   "cell_type": "code",
   "execution_count": 10,
   "id": "1d75211b-72b3-4b79-a77b-8ab10f14e03b",
   "metadata": {},
   "outputs": [
    {
     "data": {
      "text/plain": [
       "'Bardzo jasna kawalerka położona na starym Muranowie w cichej, zielonej enklawie w ścisłym centrum miasta.\\nWynajem maksymalnie dla 1 osoby, niepalącej, bez zwierząt.\\n  Minimum na rok.\\nOpłaty miesięczne:\\n2740zł to koszt wynajmu wraz z czynszem administracyjnym.\\nDodatkowo płatny tylko prąd i gaz w wysokości łącznie około 70zł\\n\\nKaucja w wysokości 2740zł.\\n\\nMieszkanie składa się z przedpokoju połączonego z aneksem kuchennym, pokoju dziennego oraz łazienki. Znajduje się na trzecim piętrze niedawno odnowionej kamienicy. Nie ma windy.\\nAneks kuchenny jest wyposażony w lodówkę z zamrażalnikiem, kuchnię gazową i szafki.\\nPokój dzienny posiada bardzo duże dwuskrzydłowe okna do samej ziemi. Z okien widok na otwartą przestrzeń: korony drzew i dachy Śródmieścia. Pokój wyposażony jest w szafę na ubrania, komodę, biurko oraz rozkładaną kanapę z pojemnikiem na pościel.\\nW łazience kabina prysznicowa, szafka pod umywalką i pralka. Ogrzewanie miejskie (nie ma piecyka).\\nMiejsce jest doskonale skomunikowane: pięć minut piechotą do metra Ratusz Arsenał oraz przystanków tramwajowych i autobusowych na Placu Bankowym, a także przystanków tramwajowych i autobusowych na Al. Jana Pawła II. Tyle samo czasu zajmie spacer do Parku Krasińskich, zaś na Starówkę około 10 minut. Istnieje możliwość parkowania na dziedzińcu bez opłat.\\nW pobliżu Biedronka, zieleniak, liczne punkty usługowe, kawiarnie, restauracje, kino Muranów, biblioteka. \\nOferta adresowana jest do pracującego niepalącego singla lub studenta, bez zwierząt. Najem minimum na rok. Dostępne od zaraz.\\nNie współpracuję z agencjami.'"
      ]
     },
     "execution_count": 10,
     "metadata": {},
     "output_type": "execute_result"
    }
   ],
   "source": [
    "driver.find_element(By.XPATH, f'//div[@data-cy=\"adPageAdDescription\"]').text"
   ]
  }
 ],
 "metadata": {
  "kernelspec": {
   "display_name": "Python 3 (ipykernel)",
   "language": "python",
   "name": "python3"
  },
  "language_info": {
   "codemirror_mode": {
    "name": "ipython",
    "version": 3
   },
   "file_extension": ".py",
   "mimetype": "text/x-python",
   "name": "python",
   "nbconvert_exporter": "python",
   "pygments_lexer": "ipython3",
   "version": "3.11.5"
  }
 },
 "nbformat": 4,
 "nbformat_minor": 5
}
