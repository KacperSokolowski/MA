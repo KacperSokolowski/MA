{
 "cells": [
  {
   "cell_type": "code",
   "execution_count": null,
   "id": "95d5b6e7-a498-4e8b-84f1-a97479bc3c4f",
   "metadata": {},
   "outputs": [],
   "source": [
    "from scraper import *"
   ]
  },
  {
   "cell_type": "code",
   "execution_count": null,
   "id": "8d84c462-9448-49bc-b550-d44fa3f980e6",
   "metadata": {},
   "outputs": [],
   "source": [
    "first_page_url = 'https://www.otodom.pl/pl/wyniki/wynajem/mieszkanie/mazowieckie/warszawa/warszawa/warszawa?distanceRadius=0&limit=36&daysSinceCreated=7&by=DEFAULT&direction=DESC&viewType=listing&page=1'\n",
    "\n",
    "run_otodom_scraper(\n",
    "    first_page_url = first_page_url,\n",
    "    add_filtered_links = False,\n",
    "    filtered_links_dict = {},\n",
    "    return_df = False,\n",
    "    sleep_length = 1,\n",
    "    save_as_csv = True,\n",
    "    csv_file_name_prefix = 'otodom_last7',\n",
    "    csv_destination_path = 'data_raw',\n",
    ")"
   ]
  }
 ],
 "metadata": {
  "kernelspec": {
   "display_name": "Python 3 (ipykernel)",
   "language": "python",
   "name": "python3"
  },
  "language_info": {
   "codemirror_mode": {
    "name": "ipython",
    "version": 3
   },
   "file_extension": ".py",
   "mimetype": "text/x-python",
   "name": "python",
   "nbconvert_exporter": "python",
   "pygments_lexer": "ipython3",
   "version": "3.11.5"
  }
 },
 "nbformat": 4,
 "nbformat_minor": 5
}
