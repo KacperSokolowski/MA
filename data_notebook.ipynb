{
 "cells": [
  {
   "cell_type": "code",
   "execution_count": 33,
   "id": "bbcebf92-2a7b-41a0-adce-2dfbe33c5146",
   "metadata": {},
   "outputs": [],
   "source": [
    "import scraper\n",
    "from importlib import reload\n",
    "\n",
    "reload(scraper)\n",
    "from scraper import *"
   ]
  },
  {
   "cell_type": "code",
   "execution_count": 9,
   "id": "6db2dda2-ab20-4ad9-a447-625e5e77bc0f",
   "metadata": {},
   "outputs": [],
   "source": [
    "driver = initialize_otodom_scraper()"
   ]
  },
  {
   "cell_type": "code",
   "execution_count": 10,
   "id": "135964c9-debb-4e99-9906-aa6d1c566832",
   "metadata": {},
   "outputs": [],
   "source": [
    "first_page_url = 'https://www.otodom.pl/pl/wyniki/wynajem/mieszkanie/mazowieckie/warszawa/warszawa/warszawa?distanceRadius=0&limit=36&extras=%5BIS_PRIVATE_OWNER%5D&by=DEFAULT&direction=DESC&viewType=listing&page=2'\n",
    "announcements_links = get_announcements_links(driver, first_page_url)"
   ]
  },
  {
   "cell_type": "code",
   "execution_count": 12,
   "id": "c66a14a0-93cc-4998-8901-077bb59c4aa6",
   "metadata": {},
   "outputs": [
    {
     "data": {
      "text/plain": [
       "2132"
      ]
     },
     "execution_count": 12,
     "metadata": {},
     "output_type": "execute_result"
    }
   ],
   "source": [
    "len(announcements_links)"
   ]
  },
  {
   "cell_type": "code",
   "execution_count": 31,
   "id": "05cf5d0f-76be-440d-9070-87ae509f7148",
   "metadata": {},
   "outputs": [
    {
     "data": {
      "text/plain": [
       "'https://www.otodom.pl/pl/oferta/wynajme-bezposrednio-2-pokojowe-mieszkanie-35-m2-ID4ppY2'"
      ]
     },
     "execution_count": 31,
     "metadata": {},
     "output_type": "execute_result"
    }
   ],
   "source": [
    "announcements_links[605]"
   ]
  },
  {
   "cell_type": "code",
   "execution_count": 17,
   "id": "fe726154-3beb-4443-ab4f-d5eacdf02f0f",
   "metadata": {},
   "outputs": [
    {
     "data": {
      "text/plain": [
       "'ul. Józefa Sowińskiego 53, Ulrychów, Wola, Warszawa, mazowieckie'"
      ]
     },
     "execution_count": 17,
     "metadata": {},
     "output_type": "execute_result"
    }
   ],
   "source": [
    "get_text_from_aria_label(driver, 'Adres', 'a')"
   ]
  },
  {
   "cell_type": "code",
   "execution_count": 18,
   "id": "ee084dd0-d636-4b8a-aae8-adf857e73117",
   "metadata": {},
   "outputs": [
    {
     "data": {
      "text/plain": [
       "'3 600 zł'"
      ]
     },
     "execution_count": 18,
     "metadata": {},
     "output_type": "execute_result"
    }
   ],
   "source": [
    "get_text_from_aria_label(driver, 'Cena', 'strong')"
   ]
  },
  {
   "cell_type": "code",
   "execution_count": 38,
   "id": "199a9193-8258-4da6-abc3-e4d995d0dd34",
   "metadata": {},
   "outputs": [
    {
     "data": {
      "text/plain": [
       "'zmywarka, lodówka, meble, piekarnik, kuchenka, telewizor, pralka'"
      ]
     },
     "execution_count": 38,
     "metadata": {},
     "output_type": "execute_result"
    }
   ],
   "source": [
    "get_text_from_data_testid(driver, 'equipment_types')"
   ]
  },
  {
   "cell_type": "code",
   "execution_count": null,
   "id": "0fee6a4a-cdfc-422a-ab3c-cbe61f2a7143",
   "metadata": {},
   "outputs": [],
   "source": []
  }
 ],
 "metadata": {
  "kernelspec": {
   "display_name": "Python 3 (ipykernel)",
   "language": "python",
   "name": "python3"
  },
  "language_info": {
   "codemirror_mode": {
    "name": "ipython",
    "version": 3
   },
   "file_extension": ".py",
   "mimetype": "text/x-python",
   "name": "python",
   "nbconvert_exporter": "python",
   "pygments_lexer": "ipython3",
   "version": "3.11.5"
  }
 },
 "nbformat": 4,
 "nbformat_minor": 5
}
