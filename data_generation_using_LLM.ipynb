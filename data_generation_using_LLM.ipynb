{
 "cells": [
  {
   "cell_type": "code",
   "execution_count": 48,
   "id": "5ed8cd0a-a194-4a25-87fe-0f1d7a16d325",
   "metadata": {
    "tags": []
   },
   "outputs": [],
   "source": [
    "from modules.datakit import *\n",
    "from openai import OpenAI\n",
    "pd.set_option('display.max_columns', 500)\n",
    "pd.set_option('display.max_rows', 500)"
   ]
  },
  {
   "cell_type": "code",
   "execution_count": 2,
   "id": "81f71384-81d1-4d4a-a634-8d6baf142640",
   "metadata": {
    "tags": []
   },
   "outputs": [],
   "source": [
    "path = f'data_processed/main.csv'\n",
    "df = pd.read_csv(path)\n",
    "\n",
    "df = deduplicate_main(df)\n",
    "df = transform_data(\n",
    "    main = df,\n",
    "    only_expired = True,\n",
    "    duration_start = 1,\n",
    "    duration_end = 28,\n",
    "    utilize_morf = False\n",
    ")"
   ]
  },
  {
   "cell_type": "code",
   "execution_count": 3,
   "id": "f419e0de-d59b-4a43-acd0-7aecf4a87d7c",
   "metadata": {
    "tags": []
   },
   "outputs": [],
   "source": [
    "df = df[df.added_dt.le('2025-02-04')&df.additional_fees.lt(100)].copy()"
   ]
  },
  {
   "cell_type": "code",
   "execution_count": 4,
   "id": "95f8a152-24b2-4ce0-bbd0-cb12f4a43f7b",
   "metadata": {
    "tags": []
   },
   "outputs": [],
   "source": [
    "df = df[['link', 'rent', 'additional_fees', 'adv_description']].copy()"
   ]
  },
  {
   "cell_type": "code",
   "execution_count": 5,
   "id": "d8562a46-ba61-44ab-a014-9719b3804c9b",
   "metadata": {
    "tags": []
   },
   "outputs": [],
   "source": [
    "pattern = r'(\\d{1,3}(?:[.,]\\d{3})+|\\d{3,})'\n",
    "\n",
    "def filter_lines(text):\n",
    "\n",
    "    lines = text.split('\\n')\n",
    "    filtered = [line for line in lines if re.search(pattern, line)]\n",
    "    return \"\\n\".join(filtered)\n",
    "\n",
    "df['filtered_description'] = df['adv_description'].apply(filter_lines)"
   ]
  },
  {
   "cell_type": "code",
   "execution_count": 6,
   "id": "53bf432a-8d36-4b73-bd84-c1ba9d4543a3",
   "metadata": {
    "tags": []
   },
   "outputs": [],
   "source": [
    "df = df[df.filtered_description.ne('')].reset_index(drop=True).copy()"
   ]
  },
  {
   "cell_type": "markdown",
   "id": "88c26b96-db05-4bd0-af2b-5a9165c54eee",
   "metadata": {},
   "source": [
    "__----__"
   ]
  },
  {
   "cell_type": "code",
   "execution_count": 8,
   "id": "53fbd926-a2bf-4bae-877d-6d39d8786bcd",
   "metadata": {
    "tags": []
   },
   "outputs": [],
   "source": [
    "client = OpenAI(api_key=open('api_key.txt', 'r').read())"
   ]
  },
  {
   "cell_type": "code",
   "execution_count": 9,
   "id": "9e700e1c-a31f-4178-920c-eeec1d2efc18",
   "metadata": {
    "tags": []
   },
   "outputs": [],
   "source": [
    "prompt = \"\"\"Wyodrębnij z poniższego opisu ogłoszenia wszystkie dodatkowe opłaty (np. czynsz administracyjny, zaliczki na media) wraz z ich wartościami.\n",
    "Odpowiedz tylko w formacie: \"nazwa opłaty: wartość\".\n",
    "Nie uwzględniaj kaucji. Nie używaj separatorów tysięcy.\n",
    "Jeśli nie ma dodatkowych opłat, napisz \"Brak dodatkowych opłat.\".\n",
    "Tekst ogłoszenia: {}\n",
    "\"\"\""
   ]
  },
  {
   "cell_type": "code",
   "execution_count": 10,
   "id": "2548d323-288e-4098-a55d-9f039872cb0a",
   "metadata": {
    "tags": []
   },
   "outputs": [],
   "source": [
    "def query_llm(text, prompt):\n",
    "    completion = client.chat.completions.create(\n",
    "        model=\"gpt-4o-mini\",\n",
    "        messages=[\n",
    "            {\"role\": \"system\", \"content\": \"Jesteś asystentem do ekstrakcji informacji z tekstu.\"},\n",
    "            {\"role\": \"user\", \"content\": prompt.format(text)}\n",
    "        ],\n",
    "        temperature=0,\n",
    "        max_tokens=200\n",
    "    )\n",
    "\n",
    "    return completion.choices[0].message.content"
   ]
  },
  {
   "cell_type": "code",
   "execution_count": 11,
   "id": "f1f26a97-6d87-41bf-b11e-7ac54058f3fa",
   "metadata": {
    "tags": []
   },
   "outputs": [],
   "source": [
    "df['llm_output'] = df['filtered_description'].apply(lambda x: query_llm(x, prompt))"
   ]
  },
  {
   "cell_type": "code",
   "execution_count": 25,
   "id": "4aad4a62-ba97-4e4f-b9d6-8db4ec237762",
   "metadata": {
    "tags": []
   },
   "outputs": [],
   "source": [
    "pattern = r'(\\d{3,})'\n",
    "def extract_and_sum(text, pattern):\n",
    "    matches = re.findall(pattern, text)\n",
    "    total = 0\n",
    "    for match in matches:\n",
    "        total += int(match)\n",
    "    return total"
   ]
  },
  {
   "cell_type": "code",
   "execution_count": 27,
   "id": "27d6c004-484e-4323-9beb-dd58eff03eae",
   "metadata": {
    "tags": []
   },
   "outputs": [],
   "source": [
    "df['real_additional_fees'] = df['llm_output'].apply(lambda x: extract_and_sum(x, pattern))"
   ]
  },
  {
   "cell_type": "code",
   "execution_count": 36,
   "id": "8d1283ba-1d66-4756-ab1d-dc7f0175bd05",
   "metadata": {
    "tags": []
   },
   "outputs": [],
   "source": [
    "path = 'data_raw\\large_language_model/llm_output.csv'\n",
    "df.to_csv(path,\n",
    "          encoding='utf-8',\n",
    "          index=False)"
   ]
  }
 ],
 "metadata": {
  "kernelspec": {
   "display_name": "Python 3 (ipykernel)",
   "language": "python",
   "name": "python3"
  },
  "language_info": {
   "codemirror_mode": {
    "name": "ipython",
    "version": 3
   },
   "file_extension": ".py",
   "mimetype": "text/x-python",
   "name": "python",
   "nbconvert_exporter": "python",
   "pygments_lexer": "ipython3",
   "version": "3.11.5"
  }
 },
 "nbformat": 4,
 "nbformat_minor": 5
}
