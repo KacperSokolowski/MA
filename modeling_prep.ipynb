{
 "cells": [
  {
   "cell_type": "code",
   "execution_count": 456,
   "id": "21b87340-33a5-43fc-9cfb-dd6dc618c551",
   "metadata": {
    "tags": []
   },
   "outputs": [],
   "source": [
    "import pandas as pd\n",
    "import numpy as np\n",
    "from datakit import *\n",
    "from xgboost import XGBRegressor\n",
    "from sklearn.model_selection import cross_validate, RandomizedSearchCV\n",
    "from sklearn.metrics import mean_absolute_error, r2_score, mean_absolute_percentage_error\n",
    "import matplotlib.pyplot as plt\n",
    "from sklearn.feature_selection import RFECV\n",
    "from sklearn.model_selection import KFold\n",
    "from sklearn.feature_selection import RFE\n",
    "\n",
    "pd.set_option('display.max_columns', 500)\n",
    "pd.set_option('display.max_rows', 500)"
   ]
  },
  {
   "cell_type": "markdown",
   "id": "7fbd472a-e7c9-45ab-b6b7-22cafc51f25f",
   "metadata": {},
   "source": [
    "__Read data__"
   ]
  },
  {
   "cell_type": "code",
   "execution_count": 525,
   "id": "449629c7-0381-40dd-9b79-705ded8722c1",
   "metadata": {
    "tags": []
   },
   "outputs": [],
   "source": [
    "path = f'data_processed/modeling_data.csv'\n",
    "df = pd.read_csv(path)"
   ]
  },
  {
   "cell_type": "code",
   "execution_count": 527,
   "id": "d20beb74-3fee-471c-aa7e-5fc157073749",
   "metadata": {
    "tags": []
   },
   "outputs": [],
   "source": [
    "columns_to_drop = ['latitude', 'longitude']\n",
    "\n",
    "modeling_df = df.copy()\n",
    "modeling_df = modeling_df.drop(columns=columns_to_drop)\n",
    "\n",
    "input_missing_values(modeling_df)\n",
    "\n",
    "df_encoded = pd.get_dummies(\n",
    "    modeling_df,\n",
    "    columns=['heating', 'building_type', 'apartment_class'],\n",
    "    prefix={'heating': 'heating', 'building_type': 'bt', 'apartment_class': 'ac'},\n",
    "    prefix_sep='_',\n",
    "    dtype=int)\n",
    "\n",
    "district_dummies = pd.get_dummies(df['district'], prefix='', prefix_sep='', dtype=int)\n",
    "modeling_df = pd.concat([df_encoded.drop('district', axis=1), district_dummies], axis=1)\n",
    "\n",
    "modeling_df['rent'] = modeling_df['rent'] + modeling_df['additional_fees']\n",
    "\n",
    "train_df = modeling_df[modeling_df.added_dt.le('2025-01-25')].copy()\n",
    "out_of_time_sample = modeling_df[modeling_df.added_dt.ge('2025-01-26')&modeling_df.added_dt.le('2025-02-04')].copy()\n",
    "\n",
    "train_df = train_df.drop([\"added_dt\", 'additional_fees'], axis=1)\n",
    "out_of_time_sample = out_of_time_sample.drop([\"added_dt\", 'additional_fees'], axis=1)"
   ]
  },
  {
   "cell_type": "code",
   "execution_count": 529,
   "id": "72c5f8d7-5c99-4ccc-84e5-e593dfb41f7a",
   "metadata": {
    "tags": []
   },
   "outputs": [],
   "source": [
    "y_col = 'rent'\n",
    "x_cols = [col for col in train_df.columns if col != y_col]\n",
    "\n",
    "X_train = train_df.drop([y_col], axis=1)\n",
    "y_train = train_df[y_col]\n",
    "X_out_of_time = out_of_time_sample.drop([y_col], axis=1)\n",
    "y_out_of_time = out_of_time_sample[y_col]"
   ]
  },
  {
   "cell_type": "code",
   "execution_count": 531,
   "id": "cb643167-c88e-4e10-811e-24fb641ab717",
   "metadata": {
    "tags": []
   },
   "outputs": [
    {
     "name": "stdout",
     "output_type": "stream",
     "text": [
      "MAE Train: [-512.66680418 -511.74585426 -524.3884941  -515.10513399 -514.00352169]\n",
      "MAE Test: [-597.57408586 -601.48777099 -557.98270693 -590.63736765 -621.90763098]\n",
      "Mean MAE Test: -593.917912482687\n",
      "-------------------\n",
      "R2 Train: [0.93985089 0.94092595 0.94101321 0.94014286 0.93441413]\n",
      "R2 Test: [0.90845257 0.87831325 0.88615913 0.90301722 0.91610054]\n",
      "Mean R2 Test: 0.8984085405327547\n",
      "-------------------\n",
      "MAPE Train: [-0.09903068 -0.10006266 -0.10174366 -0.09911698 -0.10006158]\n",
      "MAPE Test: [-0.11329038 -0.10491154 -0.10683667 -0.11369132 -0.10999497]\n",
      "Mean MAPE Test: -0.10974497449604972\n"
     ]
    }
   ],
   "source": [
    "params = {\n",
    "    \"learning_rate\": 0.05,\n",
    "    \"max_depth\": 3,\n",
    "    \"min_child_weight\": 5,\n",
    "    \"subsample\": 0.8,\n",
    "    \"colsample_bytree\": 0.8,\n",
    "    \"reg_alpha\": 0.1,\n",
    "    \"reg_lambda\": 1,\n",
    "    \"n_estimators\": 150\n",
    "}\n",
    "\n",
    "model = XGBRegressor(**params)\n",
    "\n",
    "cv = KFold(n_splits=5, shuffle=True, random_state=42)\n",
    "cv_results = cross_validate(\n",
    "    model, X_train, y_train, cv=cv, scoring=[\"neg_mean_absolute_error\", \"r2\", \"neg_mean_absolute_percentage_error\"], return_train_score=True\n",
    ")\n",
    "\n",
    "print(\"MAE Train:\", cv_results[\"train_neg_mean_absolute_error\"])\n",
    "print(\"MAE Test:\", cv_results[\"test_neg_mean_absolute_error\"])\n",
    "print(\"Mean MAE Test:\", cv_results[\"test_neg_mean_absolute_error\"].mean())\n",
    "print(\"-------------------\")\n",
    "print(\"R2 Train:\", cv_results[\"train_r2\"])\n",
    "print(\"R2 Test:\", cv_results[\"test_r2\"])\n",
    "print(\"Mean R2 Test:\", cv_results[\"test_r2\"].mean())\n",
    "print(\"-------------------\")\n",
    "print(\"MAPE Train:\", cv_results[\"train_neg_mean_absolute_percentage_error\"])\n",
    "print(\"MAPE Test:\", cv_results[\"test_neg_mean_absolute_percentage_error\"])\n",
    "print(\"Mean MAPE Test:\", cv_results[\"test_neg_mean_absolute_percentage_error\"].mean())"
   ]
  },
  {
   "cell_type": "code",
   "execution_count": 533,
   "id": "244637ea-1df5-45d9-aa42-ab413a83ba4a",
   "metadata": {
    "tags": []
   },
   "outputs": [
    {
     "name": "stdout",
     "output_type": "stream",
     "text": [
      "Out-of-Time Sample Scores:\n",
      "MAE: 524.5507010420273\n",
      "R2: 0.9360532363916927\n",
      "MAPE: 0.10104372890298687\n"
     ]
    }
   ],
   "source": [
    "# Initialize and train the model on the full training set\n",
    "model = XGBRegressor(**params)\n",
    "model.fit(X_train, y_train)\n",
    "\n",
    "# Predict on the out‐of‐time sample\n",
    "y_pred_oot = model.predict(X_train)\n",
    "\n",
    "# Calculate scoring metrics for the OOT sample\n",
    "mae_oot = mean_absolute_error(y_train, y_pred_oot)\n",
    "r2_oot = r2_score(y_train, y_pred_oot)\n",
    "mape_oot = mean_absolute_percentage_error(y_train, y_pred_oot)\n",
    "\n",
    "# Print out the results\n",
    "print(\"Out-of-Time Sample Scores:\")\n",
    "print(\"MAE:\", mae_oot)\n",
    "print(\"R2:\", r2_oot)\n",
    "print(\"MAPE:\", mape_oot)"
   ]
  },
  {
   "cell_type": "code",
   "execution_count": 535,
   "id": "68e502a0-3391-40f2-9834-8ca7e3e69db2",
   "metadata": {
    "tags": []
   },
   "outputs": [
    {
     "name": "stdout",
     "output_type": "stream",
     "text": [
      "Out-of-Time Sample Scores:\n",
      "MAE: 549.664068760016\n",
      "R2: 0.8934478505480276\n",
      "MAPE: 0.11512829184965051\n"
     ]
    }
   ],
   "source": [
    "# Initialize and train the model on the full training set\n",
    "model = XGBRegressor(**params)\n",
    "model.fit(X_train, y_train)\n",
    "\n",
    "# Predict on the out‐of‐time sample\n",
    "y_pred_oot = model.predict(X_out_of_time)\n",
    "\n",
    "# Calculate scoring metrics for the OOT sample\n",
    "mae_oot = mean_absolute_error(y_out_of_time, y_pred_oot)\n",
    "r2_oot = r2_score(y_out_of_time, y_pred_oot)\n",
    "mape_oot = mean_absolute_percentage_error(y_out_of_time, y_pred_oot)\n",
    "\n",
    "# Print out the results\n",
    "print(\"Out-of-Time Sample Scores:\")\n",
    "print(\"MAE:\", mae_oot)\n",
    "print(\"R2:\", r2_oot)\n",
    "print(\"MAPE:\", mape_oot)"
   ]
  },
  {
   "cell_type": "code",
   "execution_count": null,
   "id": "dd60bf89-ba10-4734-b256-cd8fd07965a5",
   "metadata": {},
   "outputs": [],
   "source": []
  }
 ],
 "metadata": {
  "kernelspec": {
   "display_name": "Python 3 (ipykernel)",
   "language": "python",
   "name": "python3"
  },
  "language_info": {
   "codemirror_mode": {
    "name": "ipython",
    "version": 3
   },
   "file_extension": ".py",
   "mimetype": "text/x-python",
   "name": "python",
   "nbconvert_exporter": "python",
   "pygments_lexer": "ipython3",
   "version": "3.11.5"
  }
 },
 "nbformat": 4,
 "nbformat_minor": 5
}
