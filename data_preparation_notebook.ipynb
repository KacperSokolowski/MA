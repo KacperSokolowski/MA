{
 "cells": [
  {
   "cell_type": "code",
   "execution_count": 2,
   "id": "bcf5ab16-cabe-493a-8dc0-a31e1826b033",
   "metadata": {
    "tags": []
   },
   "outputs": [],
   "source": [
    "from modules.datakit import *\n",
    "pd.set_option('display.max_columns', 500)\n",
    "pd.set_option('display.max_rows', 500)"
   ]
  },
  {
   "cell_type": "markdown",
   "id": "7a467373-17a2-49d1-b157-bf14331c0826",
   "metadata": {},
   "source": [
    "__Read data__"
   ]
  },
  {
   "cell_type": "code",
   "execution_count": 4,
   "id": "6f6ca529-3465-4b6b-bebf-7e61738bd634",
   "metadata": {
    "tags": []
   },
   "outputs": [],
   "source": [
    "path = f'data_processed/main.csv'\n",
    "df = pd.read_csv(path)"
   ]
  },
  {
   "cell_type": "markdown",
   "id": "5051fb45-6a90-42b4-9ac5-454252ba2488",
   "metadata": {
    "tags": []
   },
   "source": [
    "__Deduplicate records using dedicated function__"
   ]
  },
  {
   "cell_type": "code",
   "execution_count": 6,
   "id": "ac02d31f-502c-472b-9bfb-6ffb89a0b8d8",
   "metadata": {
    "tags": []
   },
   "outputs": [],
   "source": [
    "df = deduplicate_main(df)"
   ]
  },
  {
   "cell_type": "markdown",
   "id": "41cc5e8c-efd4-4d80-b61d-fa5ef8995371",
   "metadata": {
    "tags": []
   },
   "source": [
    "__Transform scraped data using dedicated function__"
   ]
  },
  {
   "cell_type": "code",
   "execution_count": 8,
   "id": "b3bfb5f7-a12c-4d71-8e6e-2a7f52991284",
   "metadata": {
    "tags": []
   },
   "outputs": [],
   "source": [
    "df = transform_data(\n",
    "    main = df,\n",
    "    only_expired = True,\n",
    "    duration_start = 1,\n",
    "    duration_end = 28,\n",
    "    utilize_morf = True\n",
    ")"
   ]
  },
  {
   "cell_type": "markdown",
   "id": "da9be4e3-a83b-4af8-a237-d53594cb6b18",
   "metadata": {},
   "source": [
    "__Correct misleading locations__"
   ]
  },
  {
   "cell_type": "code",
   "execution_count": 10,
   "id": "68662a48-2f8e-4ad5-be7d-d2b93d2444d1",
   "metadata": {
    "tags": []
   },
   "outputs": [],
   "source": [
    "path = 'data_raw/manual_input/misleading_locations.csv'\n",
    "df_locations = pd.read_csv(path)\n",
    "df_locations = df_locations[df_locations.misleading_location.eq(True)]\n",
    "\n",
    "real_coordinates = df_locations['maps_herf'].apply(\n",
    "    lambda x: re.search('/@(.*),', x).group(1).split(','))\n",
    "\n",
    "df_locations['latitude'] = [float(sublist[0]) for sublist in real_coordinates]\n",
    "df_locations['longitude'] = [float(sublist[1]) for sublist in real_coordinates]"
   ]
  },
  {
   "cell_type": "code",
   "execution_count": 11,
   "id": "30c4cfa5-9184-4c72-8617-372922353bd7",
   "metadata": {
    "tags": []
   },
   "outputs": [],
   "source": [
    "latitude_map = df_locations.set_index('link')['latitude']\n",
    "longitude_map = df_locations.set_index('link')['longitude']\n",
    "district_map = df_locations.set_index('link')['real_district']\n",
    "\n",
    "df.loc[df['link'].isin(latitude_map.index), 'latitude'] = df['link'].map(latitude_map)\n",
    "df.loc[df['link'].isin(longitude_map.index), 'longitude'] = df['link'].map(longitude_map)\n",
    "df.loc[df['link'].isin(district_map.index), 'district'] = df['link'].map(district_map)"
   ]
  },
  {
   "cell_type": "markdown",
   "id": "5a4d81ff-9034-4520-a37f-534fe21be8e4",
   "metadata": {},
   "source": [
    "__Add hidden additional fees__"
   ]
  },
  {
   "cell_type": "code",
   "execution_count": 14,
   "id": "e4bb145f-aa04-47a2-b474-c7f160cb1bf2",
   "metadata": {
    "tags": []
   },
   "outputs": [],
   "source": [
    "path = 'data_raw/large_language_model/llm_output.csv'\n",
    "df_fees = pd.read_csv(path)"
   ]
  },
  {
   "cell_type": "code",
   "execution_count": 15,
   "id": "9e116fb7-309d-4dc2-9870-7609c844a65f",
   "metadata": {
    "tags": []
   },
   "outputs": [],
   "source": [
    "fees_map = df_fees.set_index('link')['real_additional_fees']\n",
    "df.loc[df['link'].isin(fees_map.index), 'additional_fees'] = df['link'].map(fees_map)"
   ]
  },
  {
   "cell_type": "markdown",
   "id": "b64462ed-2056-4c0f-98c6-5060ad6e4b9c",
   "metadata": {},
   "source": [
    "__Calculate distance columns using dedicated functions__"
   ]
  },
  {
   "cell_type": "code",
   "execution_count": 17,
   "id": "7b8d183a-449e-4031-834e-ae8af1eb0017",
   "metadata": {
    "tags": []
   },
   "outputs": [],
   "source": [
    "ztm_stops = pd.read_csv('geographic_data/ztm_stops/ztm_stops.csv')"
   ]
  },
  {
   "cell_type": "code",
   "execution_count": 18,
   "id": "bf9a1483-409f-4c14-bf51-65f96cbde95f",
   "metadata": {
    "tags": []
   },
   "outputs": [],
   "source": [
    "df['distance_to_stop'] = distance_to_nearest_stop(df, ztm_stops)"
   ]
  },
  {
   "cell_type": "code",
   "execution_count": 19,
   "id": "ac9c1259-c25b-49ad-97f7-00e832ef6da7",
   "metadata": {
    "tags": []
   },
   "outputs": [],
   "source": [
    "subway_stations = ztm_stops[\n",
    "    ztm_stops.stop_name.str.startswith('Metro')|\n",
    "    ztm_stops.stop_name.str.contains('Wilsona')|\n",
    "    ztm_stops.stop_name.str.contains('Daszyńskiego')|\n",
    "    ztm_stops.stop_name.str.contains('Nowy Świat')|\n",
    "    ztm_stops.stop_name.str.contains('ONZ')|\n",
    "    ztm_stops.stop_name.str.contains('Wileński')|\n",
    "    ztm_stops.stop_name.eq('Dw. Gdański')|\n",
    "    ztm_stops.stop_name.eq('Centrum')].copy()"
   ]
  },
  {
   "cell_type": "code",
   "execution_count": 20,
   "id": "f23fdf84-2cf3-408c-a6c1-2b4cd6b9eafa",
   "metadata": {
    "tags": []
   },
   "outputs": [],
   "source": [
    "df['distance_to_subway'] = distance_to_nearest_stop(df, subway_stations)"
   ]
  },
  {
   "cell_type": "code",
   "execution_count": 21,
   "id": "b7f91357-655b-4d1a-bf5a-52b6a357a720",
   "metadata": {
    "tags": []
   },
   "outputs": [],
   "source": [
    "df['distance_to_center'] = distance_to_center(df)"
   ]
  },
  {
   "cell_type": "markdown",
   "id": "60f4e5af-a2aa-48bb-81d7-7bd5b8cc9be4",
   "metadata": {},
   "source": [
    "__Historical data calculate average rent price per square in a radius using__"
   ]
  },
  {
   "cell_type": "code",
   "execution_count": 23,
   "id": "26af740e-b644-4c63-b673-547beaff5ea3",
   "metadata": {
    "tags": []
   },
   "outputs": [],
   "source": [
    "legacy_data = concat_csv_files(folder_path='data_raw/otodom_scraped_data_historical')"
   ]
  },
  {
   "cell_type": "code",
   "execution_count": 24,
   "id": "d1b8626b-e2e2-4998-9484-923203c1bcee",
   "metadata": {
    "tags": []
   },
   "outputs": [],
   "source": [
    "legacy_data = legacy_data[~legacy_data.approximate_coordinates.eq(True)]"
   ]
  },
  {
   "cell_type": "code",
   "execution_count": 25,
   "id": "badef4a1-a490-425c-863e-36cc6e9261ad",
   "metadata": {
    "tags": []
   },
   "outputs": [],
   "source": [
    "columns_to_convert = ['rent_price', 'additional_fees', 'area']\n",
    "for column in columns_to_convert:\n",
    "    legacy_data[column] = legacy_data[column].apply(lambda x: get_numbers(str(x)))\n",
    "    \n",
    "legacy_data['rent_price'] = legacy_data.apply(\n",
    "    lambda row: row['rent_price'] + row['additional_fees']\\\n",
    "    if not pd.isna(row['additional_fees']) else row['rent_price'], \n",
    "    axis=1)\n",
    "\n",
    "legacy_data['price_per_square'] = legacy_data.rent_price/legacy_data.area"
   ]
  },
  {
   "cell_type": "code",
   "execution_count": 26,
   "id": "de13ad0b-a5ad-446b-a2aa-8e096725da01",
   "metadata": {
    "tags": []
   },
   "outputs": [],
   "source": [
    "df['avg_price'] = average_price_within_radius(df, legacy_data, radius_km=0.5)"
   ]
  },
  {
   "cell_type": "markdown",
   "id": "bc415106-0cd6-4a25-837a-6022fb9117df",
   "metadata": {},
   "source": [
    "__Add apartment classes__"
   ]
  },
  {
   "cell_type": "code",
   "execution_count": 28,
   "id": "df2fdef4-bdb2-4af7-b59b-a14f57e7decc",
   "metadata": {
    "tags": []
   },
   "outputs": [],
   "source": [
    "additional_columns = pd.read_csv('data_raw/manual_input/apartment_class.csv')"
   ]
  },
  {
   "cell_type": "code",
   "execution_count": 29,
   "id": "d0736a7a-f86c-4714-9da6-e591a2c24605",
   "metadata": {
    "tags": []
   },
   "outputs": [],
   "source": [
    "df = df.merge(additional_columns, on='link')"
   ]
  },
  {
   "cell_type": "markdown",
   "id": "5706ad63-acd4-45e8-9046-6f750498854a",
   "metadata": {},
   "source": [
    "__Save data__"
   ]
  },
  {
   "cell_type": "code",
   "execution_count": 31,
   "id": "7f5483e4-103f-4a13-bc48-09ccb68ff661",
   "metadata": {
    "tags": []
   },
   "outputs": [],
   "source": [
    "columns_to_drop = ['title', 'adv_description', 'link', 'last_update', 'location']\n",
    "df.drop(columns=columns_to_drop, inplace=True)\n",
    "\n",
    "path = 'data_processed/modeling_data.csv'\n",
    "df.to_csv(path,\n",
    "          encoding='utf-8',\n",
    "          index=False)"
   ]
  }
 ],
 "metadata": {
  "kernelspec": {
   "display_name": "Python 3 (ipykernel)",
   "language": "python",
   "name": "python3"
  },
  "language_info": {
   "codemirror_mode": {
    "name": "ipython",
    "version": 3
   },
   "file_extension": ".py",
   "mimetype": "text/x-python",
   "name": "python",
   "nbconvert_exporter": "python",
   "pygments_lexer": "ipython3",
   "version": "3.11.5"
  }
 },
 "nbformat": 4,
 "nbformat_minor": 5
}
